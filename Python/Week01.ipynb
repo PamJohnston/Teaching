{
 "cells": [
  {
   "cell_type": "markdown",
   "metadata": {},
   "source": [
    "# Introduction to Python \n",
    "\n",
    "* Jupyter Notebook \n",
    "* Quick overview of Python\n",
    "* Running Python Code from the Shell \n",
    "* Markdown Cells\n",
    "\n"
   ]
  },
  {
   "cell_type": "markdown",
   "metadata": {},
   "source": [
    "## Python Data Structures - Types\n",
    "\n",
    "More about data types in Python at https://www.w3schools.com/python/python_datatypes.asp\n",
    " "
   ]
  },
  {
   "cell_type": "markdown",
   "metadata": {},
   "source": [
    "* **Integers**\n",
    "\n",
    "Languages such as Java, c and C++ are considered statically typed languages, where each variable has to be explicitly declared (i.e. in c++ you declare **int result = 0** . With Python, this is much simpler, considering how you can define and use the wide range of data types available: "
   ]
  },
  {
   "cell_type": "code",
   "execution_count": 1,
   "metadata": {},
   "outputs": [
    {
     "name": "stdout",
     "output_type": "stream",
     "text": [
      "The Result is  1053.0\n"
     ]
    }
   ],
   "source": [
    "# integers, float, etc.. python\n",
    "x = 3 \n",
    "y = 10.5\n",
    "Msg = 'Result'\n",
    "fx = x+y * 10 ** 2 # math operations \n",
    "print ('The Result is ',fx)\n"
   ]
  },
  {
   "cell_type": "code",
   "execution_count": 2,
   "metadata": {},
   "outputs": [
    {
     "name": "stdout",
     "output_type": "stream",
     "text": [
      "The Result is 1053.0\n"
     ]
    }
   ],
   "source": [
    "# A bit of formatting the ouput \n",
    "print(f'The {Msg} is {fx}')"
   ]
  },
  {
   "cell_type": "code",
   "execution_count": 3,
   "metadata": {},
   "outputs": [
    {
     "name": "stdout",
     "output_type": "stream",
     "text": [
      "The modulo operation in Python is %, so for instance 10%3 is 1\n"
     ]
    }
   ],
   "source": [
    "print (f'The modulo operation in Python is %, so for instance 10%3 is {10%3}')"
   ]
  },
  {
   "attachments": {},
   "cell_type": "markdown",
   "metadata": {},
   "source": [
    "* **Lists**\n",
    "\n",
    "Very useful data structure, and can be easily defined as a list of comma separated values in square brackets. Lists in python are mutable and elements of the list cant be changed. You can think of lists as array (for now), we will later discuss numpy arrays in context of Data-related tasks. Below is some examples, notice the use of the **len( )** function, which returns the number of elements in the array/ list."
   ]
  },
  {
   "cell_type": "code",
   "execution_count": 4,
   "metadata": {},
   "outputs": [
    {
     "name": "stdout",
     "output_type": "stream",
     "text": [
      "First element in the list is  1\n",
      "Last element in the list is  10\n"
     ]
    }
   ],
   "source": [
    "# DEFINE A LIST \n",
    "my_lst = [1,2,3,4,5,6,7,8,9,10]\n",
    "\n",
    "# FIRST ELEMENT OF THE LIST \n",
    "print ('First element in the list is ',my_lst[0])\n",
    "\n",
    "# LENGTH OF THE LIST\n",
    "print ('Last element in the list is ',my_lst[len(my_lst)-1])## "
   ]
  },
  {
   "cell_type": "code",
   "execution_count": 5,
   "metadata": {},
   "outputs": [
    {
     "data": {
      "text/plain": [
       "[3, 4]"
      ]
     },
     "execution_count": 5,
     "metadata": {},
     "output_type": "execute_result"
    }
   ],
   "source": [
    "# slicing is an important concept in accessing elements in the list \n",
    "sub_lst = my_lst[2:4] # returns a list of the 2nd, 3rd and 4th element of of the above list \n",
    "sub_lst"
   ]
  },
  {
   "cell_type": "code",
   "execution_count": 6,
   "metadata": {},
   "outputs": [
    {
     "data": {
      "text/plain": [
       "[1, 2, 3, 4, 5, 6, 7, 8, 9]"
      ]
     },
     "execution_count": 6,
     "metadata": {},
     "output_type": "execute_result"
    }
   ],
   "source": [
    "# more on slicing \n",
    "my_lst[:1]# first element \n",
    "my_lst[1:]# all elements apart from the first one \n",
    "my_lst[-1:] # last element\n",
    "my_lst[:-1] # all elements apart from the last one \n"
   ]
  },
  {
   "cell_type": "markdown",
   "metadata": {},
   "source": [
    "* **Strings** \n",
    "\n",
    "Strings can be defined by use of single ( ‘ ), double ( ” ) or triple ( ”’ ) inverted commas. Strings enclosed in tripe quotes ( ”’ ) can span over multiple lines "
   ]
  },
  {
   "cell_type": "code",
   "execution_count": 7,
   "metadata": {},
   "outputs": [
    {
     "name": "stdout",
     "output_type": "stream",
     "text": [
      "e\n",
      "first char of msg is W\n"
     ]
    }
   ],
   "source": [
    "msg = 'Welcome to RGU'\n",
    "print(msg[1])\n",
    "print(f'first char of msg is {msg[0]}')\n"
   ]
  },
  {
   "cell_type": "markdown",
   "metadata": {},
   "source": [
    "* **Tuples** \n",
    "To represent a number of values separated by commas. They are also immutable and you will see the output is surrounded by parenthesis. "
   ]
  },
  {
   "cell_type": "code",
   "execution_count": 8,
   "metadata": {},
   "outputs": [
    {
     "name": "stdout",
     "output_type": "stream",
     "text": [
      "(1, 2, 4, 10, 24)\n"
     ]
    }
   ],
   "source": [
    "tuple_example = 1,2,4,10,24\n",
    "print(tuple_example)"
   ]
  },
  {
   "cell_type": "markdown",
   "metadata": {},
   "source": [
    "Single elements of tuples can be accessed similar to strings and list "
   ]
  },
  {
   "cell_type": "code",
   "execution_count": 9,
   "metadata": {},
   "outputs": [
    {
     "name": "stdout",
     "output_type": "stream",
     "text": [
      "1\n",
      "(1, 2)\n",
      "(1, 2, 4)\n",
      "(2, 4, 10, 24)\n",
      "(1, 2, 4, 10, 24)\n"
     ]
    }
   ],
   "source": [
    "print(tuple_example[0])\n",
    "print(tuple_example[:2])\n",
    "print(tuple_example[:3])# notice this returns tuples \n",
    "print(tuple_example[1:])\n",
    "print(tuple_example)"
   ]
  },
  {
   "cell_type": "markdown",
   "metadata": {},
   "source": [
    "* **Dictionary** \n",
    "\n",
    "Dictionaries are useful data structure. It is unordered, index and can be modified. Written within curly brackets and you can think of it as key, value pair collections. You can find more about dictionaries at https://www.w3schools.com/python/python_dictionaries.asp"
   ]
  },
  {
   "cell_type": "code",
   "execution_count": 11,
   "metadata": {},
   "outputs": [],
   "source": [
    "# dictionary to represent taught modules \n",
    "module_dict = {\n",
    "  \"Code\": \"CM3151\",\n",
    "  \"Name\": \"Machine Learning\",\n",
    "  \"Year\": 2024,\n",
    "  \"Stage\":3\n",
    "}"
   ]
  },
  {
   "cell_type": "code",
   "execution_count": 12,
   "metadata": {},
   "outputs": [
    {
     "name": "stdout",
     "output_type": "stream",
     "text": [
      "{'Code': 'CM3151', 'Name': 'Machine Learning', 'Year': 2024, 'Stage': 3}\n"
     ]
    }
   ],
   "source": [
    "print(module_dict)"
   ]
  },
  {
   "cell_type": "markdown",
   "metadata": {},
   "source": [
    "You can get a value of specific key"
   ]
  },
  {
   "cell_type": "code",
   "execution_count": 13,
   "metadata": {},
   "outputs": [
    {
     "name": "stdout",
     "output_type": "stream",
     "text": [
      "Module CM3151\n",
      "Is Machine Learning\n",
      "And will be taught to students of Stage 3\n",
      "And will be delivered in the year 2024\n"
     ]
    }
   ],
   "source": [
    "print(f'Module {module_dict[\"Code\"]}')\n",
    "print(f'Is {module_dict[\"Name\"]}')\n",
    "print(f'And will be taught to students of Stage {module_dict[\"Stage\"]}')\n",
    "print(f'And will be delivered in the year {module_dict[\"Year\"]}')\n"
   ]
  },
  {
   "cell_type": "markdown",
   "metadata": {},
   "source": [
    "You can also use the **get( )** method to access elements in the dictionary"
   ]
  },
  {
   "cell_type": "code",
   "execution_count": 14,
   "metadata": {},
   "outputs": [
    {
     "name": "stdout",
     "output_type": "stream",
     "text": [
      "CM3151\n"
     ]
    }
   ],
   "source": [
    "print(module_dict.get('Code'))"
   ]
  },
  {
   "cell_type": "markdown",
   "metadata": {},
   "source": [
    "Update the values of specific items in the dictionary \n"
   ]
  },
  {
   "cell_type": "code",
   "execution_count": 15,
   "metadata": {},
   "outputs": [
    {
     "name": "stdout",
     "output_type": "stream",
     "text": [
      "2021\n"
     ]
    }
   ],
   "source": [
    "module_dict[\"Year\"]=2021\n",
    "print(module_dict[\"Year\"])"
   ]
  },
  {
   "cell_type": "markdown",
   "metadata": {},
   "source": [
    "Loop through all items of the dictionary "
   ]
  },
  {
   "cell_type": "code",
   "execution_count": 16,
   "metadata": {},
   "outputs": [
    {
     "name": "stdout",
     "output_type": "stream",
     "text": [
      "Code : CM3151\n",
      "Name : Machine Learning\n",
      "Year : 2021\n",
      "Stage : 3\n"
     ]
    }
   ],
   "source": [
    "for key, value in module_dict.items():\n",
    "    print (key,':',value)"
   ]
  },
  {
   "cell_type": "markdown",
   "metadata": {},
   "source": [
    "You can always check the type of objects in python using the **type( )** function"
   ]
  },
  {
   "cell_type": "code",
   "execution_count": 17,
   "metadata": {},
   "outputs": [
    {
     "name": "stdout",
     "output_type": "stream",
     "text": [
      "<class 'dict'>\n",
      "<class 'tuple'>\n",
      "<class 'list'>\n"
     ]
    }
   ],
   "source": [
    "print(type(module_dict))# dict\n",
    "print(type(tuple_example))# tuple\n",
    "print(type(my_lst))#"
   ]
  },
  {
   "cell_type": "markdown",
   "metadata": {},
   "source": [
    "## Python Casting\n",
    "\n",
    "Some times you need to specify a certain data type, or change one data type to another. This is called **casting**. Python is an object-orientated language, and as such it uses classes to define data types, including its primitive types (i.e. integers, floats, etc…). For example to construct and integer, we use the **int( )** function, similarly for **float( )** and **str( )** to construct a string from variety of data types. Below some examples. "
   ]
  },
  {
   "cell_type": "code",
   "execution_count": 18,
   "metadata": {},
   "outputs": [],
   "source": [
    "float_v = 1.1\n",
    "int_v = 1\n",
    "string_v = 'this is string'\n",
    "# check data types"
   ]
  },
  {
   "cell_type": "markdown",
   "metadata": {},
   "source": [
    " Now, lets check the data types of the above variables "
   ]
  },
  {
   "cell_type": "code",
   "execution_count": 19,
   "metadata": {},
   "outputs": [
    {
     "name": "stdout",
     "output_type": "stream",
     "text": [
      "<class 'float'>\n",
      "<class 'int'>\n",
      "<class 'str'>\n"
     ]
    }
   ],
   "source": [
    "print(type(float_v))\n",
    "print(type(int_v))\n",
    "print(type(string_v))"
   ]
  },
  {
   "cell_type": "markdown",
   "metadata": {},
   "source": [
    "Here, is how we can change **int_v** to float, same applies for other data types casting "
   ]
  },
  {
   "cell_type": "code",
   "execution_count": 20,
   "metadata": {},
   "outputs": [
    {
     "name": "stdout",
     "output_type": "stream",
     "text": [
      "The value of int_v is  1.0\n",
      "The Type of int_v after casting is  <class 'float'>\n"
     ]
    }
   ],
   "source": [
    "int_v = float(int_v)\n",
    "print('The value of int_v is ', int_v)\n",
    "print('The Type of int_v after casting is ',type(float_v))\n"
   ]
  },
  {
   "cell_type": "markdown",
   "metadata": {},
   "source": [
    "## Logical Operations \n",
    "\n",
    "Boolean operations are common across all programming languages. In fact, they are extensively used in all types of tasks. A Boolean operation returns one of two values **True** or **False**. "
   ]
  },
  {
   "cell_type": "code",
   "execution_count": 21,
   "metadata": {},
   "outputs": [
    {
     "name": "stdout",
     "output_type": "stream",
     "text": [
      "True\n",
      "False\n",
      "True\n",
      "True\n"
     ]
    }
   ],
   "source": [
    "print(1 ==1)# check if two values are equal\n",
    "print(10 < 9) # less than\n",
    "print(10 > 9) # greater than\n",
    "print(10 >= 9)# greater than or equal"
   ]
  },
  {
   "cell_type": "markdown",
   "metadata": {},
   "source": [
    "Comparison operators are used to compare two values and again return one of two values **True** or **False**. If used in the form of if **statement**. The most two common operations that you will be using are **and** and **or** More can be found at https://www.w3schools.com/python/python_operators.asp. Typical examples are outlined below:"
   ]
  },
  {
   "cell_type": "code",
   "execution_count": 20,
   "metadata": {},
   "outputs": [],
   "source": [
    "small = 10 \n",
    "big = 100\n",
    "results =  ((small <big) and (big%small==0)) \n",
    "results1 =  ((small <big) and (big%small!=0)) \n",
    "results2 =  ((small <big) or (big%small!=0)) \n",
    "results3 =  ((small >big) or (big%small!=0)) "
   ]
  },
  {
   "cell_type": "code",
   "execution_count": 21,
   "metadata": {},
   "outputs": [
    {
     "name": "stdout",
     "output_type": "stream",
     "text": [
      "(10 <100) and (100%10==0)  True\n",
      "(10 <100) and (100%10!=0)  False\n",
      "(10 <100) or (100%10!=0)  True\n",
      "(10 >100) or (100%10!=0)  False\n"
     ]
    }
   ],
   "source": [
    "print(f'({small} <{big}) and ({big}%{small}==0) ', results)\n",
    "print(f'({small} <{big}) and ({big}%{small}!=0) ',results1)\n",
    "print(f'({small} <{big}) or ({big}%{small}!=0) ',results2)\n",
    "print(f'({small} >{big}) or ({big}%{small}!=0) ',results3)"
   ]
  },
  {
   "cell_type": "markdown",
   "metadata": {},
   "source": [
    "\n",
    "## Conditions and Loops\n",
    "\n",
    "Condition statements (**if statement**), **for**, and **while** loops are very common across app programming languages such as Java, C, and C++, and so is the case with Python. They provide a great way to control your program. Although **loops** are not great when it comes to data related jobs (we will discuss this in later weeks), for now, it is important to know how to use these constructs in Python. \n"
   ]
  },
  {
   "cell_type": "markdown",
   "metadata": {},
   "source": [
    "* **If** statement"
   ]
  },
  {
   "cell_type": "code",
   "execution_count": 24,
   "metadata": {},
   "outputs": [
    {
     "name": "stdout",
     "output_type": "stream",
     "text": [
      "b is greater than a because  200 is greater than 33\n"
     ]
    }
   ],
   "source": [
    "a = 33\n",
    "b = 200\n",
    "if b > a:\n",
    "    print('b is greater than a because ', f\"{b} is greater than {a}\")\n",
    "else:\n",
    "    print(f\"{b} is greater than {a}\")"
   ]
  },
  {
   "cell_type": "markdown",
   "metadata": {},
   "source": [
    "* **Indentation** \n",
    "\"Python relies on indentation (whitespace at the beginning of a line) to define scope in the code. Other programming languages often use curly-brackets for this purpose\" https://www.w3schools.com/python/python_conditions.asp. The code above won't compile if you write it as follows (this also applies for all python code)"
   ]
  },
  {
   "cell_type": "code",
   "execution_count": 22,
   "metadata": {},
   "outputs": [
    {
     "name": "stdout",
     "output_type": "stream",
     "text": [
      "b is greater than a because  200 is greater than 33\n"
     ]
    }
   ],
   "source": [
    "a = 33\n",
    "b = 200\n",
    "if b > a:\n",
    "    print('b is greater than a because ', f\"{b} is greater than {a}\")\n",
    "else:\n",
    "    print(f\"{b} is greater than {a}\")"
   ]
  },
  {
   "cell_type": "markdown",
   "metadata": {},
   "source": [
    "* **elif statement**"
   ]
  },
  {
   "cell_type": "code",
   "execution_count": 23,
   "metadata": {},
   "outputs": [
    {
     "name": "stdout",
     "output_type": "stream",
     "text": [
      "a is greater than b\n"
     ]
    }
   ],
   "source": [
    "a = 200\n",
    "b = 33\n",
    "if b > a:\n",
    "  print(\"b is greater than a\")\n",
    "elif a == b:\n",
    "  print(\"a and b are equal\")\n",
    "else:\n",
    "  print(\"a is greater than b\")"
   ]
  },
  {
   "cell_type": "markdown",
   "metadata": {},
   "source": [
    "* If statement can be written in short form as follows"
   ]
  },
  {
   "cell_type": "code",
   "execution_count": 24,
   "metadata": {},
   "outputs": [
    {
     "name": "stdout",
     "output_type": "stream",
     "text": [
      "a is greater than b\n"
     ]
    }
   ],
   "source": [
    "if a > b: print(\"a is greater than b\")"
   ]
  },
  {
   "cell_type": "markdown",
   "metadata": {},
   "source": [
    "And clearly, you can combine several conditions in your statement using the **and, or** perations "
   ]
  },
  {
   "cell_type": "code",
   "execution_count": 25,
   "metadata": {},
   "outputs": [
    {
     "name": "stdout",
     "output_type": "stream",
     "text": [
      "Both conditions are True\n"
     ]
    }
   ],
   "source": [
    "a = 200\n",
    "b = 33\n",
    "c = 500\n",
    "# both conditions must be true\n",
    "if a > b and c > a:\n",
    "  print(\"Both conditions are True\")"
   ]
  },
  {
   "cell_type": "code",
   "execution_count": 26,
   "metadata": {},
   "outputs": [
    {
     "name": "stdout",
     "output_type": "stream",
     "text": [
      "At least one of the conditions is True\n"
     ]
    }
   ],
   "source": [
    "a = 200\n",
    "b = 33\n",
    "c = 500\n",
    "if a > b or a > c:\n",
    "  print(\"At least one of the conditions is True\")"
   ]
  },
  {
   "cell_type": "markdown",
   "metadata": {},
   "source": [
    "* **While** loops in Python: Below is a simple example that loops over the numbers between 1 to 10, print the number i and the square of it $i^2$"
   ]
  },
  {
   "cell_type": "code",
   "execution_count": 27,
   "metadata": {},
   "outputs": [
    {
     "name": "stdout",
     "output_type": "stream",
     "text": [
      "1 to the power 2 is 1\n",
      "2 to the power 2 is 4\n",
      "3 to the power 2 is 9\n",
      "4 to the power 2 is 16\n",
      "5 to the power 2 is 25\n",
      "6 to the power 2 is 36\n",
      "7 to the power 2 is 49\n",
      "8 to the power 2 is 64\n",
      "9 to the power 2 is 81\n"
     ]
    }
   ],
   "source": [
    "i = 1\n",
    "while i < 10:\n",
    "  print(f'{i} to the power 2 is {i**2}')\n",
    "  i += 1"
   ]
  },
  {
   "cell_type": "markdown",
   "metadata": {},
   "source": [
    "* **Break**: Some times, you want to break the loop if a condition is already satisfied. So in the example above, I want to check if $i$ is greater than 5, then I want to exit the loop"
   ]
  },
  {
   "cell_type": "code",
   "execution_count": 28,
   "metadata": {},
   "outputs": [
    {
     "name": "stdout",
     "output_type": "stream",
     "text": [
      "1 to the power 2 is 1\n",
      "2 to the power 2 is 4\n",
      "3 to the power 2 is 9\n",
      "4 to the power 2 is 16\n",
      "5 to the power 2 is 25\n"
     ]
    }
   ],
   "source": [
    "i = 1\n",
    "while i < 10:\n",
    "  print(f'{i} to the power 2 is {i**2}')\n",
    "  i += 1\n",
    "  if i>5:\n",
    "    break"
   ]
  },
  {
   "cell_type": "markdown",
   "metadata": {},
   "source": [
    "* **Continue** statement is also allows you to stop the current iteration, and continue with the next. In the above example, suppose we want to print all the values of $i$ and its square, apart from 5: "
   ]
  },
  {
   "cell_type": "code",
   "execution_count": 29,
   "metadata": {},
   "outputs": [
    {
     "name": "stdout",
     "output_type": "stream",
     "text": [
      "1 to the power 2 is 1\n",
      "2 to the power 2 is 4\n",
      "3 to the power 2 is 9\n",
      "4 to the power 2 is 16\n",
      "6 to the power 2 is 36\n",
      "7 to the power 2 is 49\n",
      "8 to the power 2 is 64\n",
      "9 to the power 2 is 81\n",
      "10 to the power 2 is 100\n"
     ]
    }
   ],
   "source": [
    "i = 0\n",
    "while i < 10:\n",
    "    i += 1 # i = i + 1\n",
    "    if i==5:# skip five \n",
    "        continue\n",
    "    print(f'{i} to the power 2 is {i**2}')\n",
    "    \n",
    "  "
   ]
  },
  {
   "cell_type": "markdown",
   "metadata": {},
   "source": [
    "* The **for** loop is another powerful construct, where you not only can loop or numbers and items but also can execute a set of statements, once for each item in a list, tuple, set etc. You can also use the keyword **range** as shown in the following examples"
   ]
  },
  {
   "cell_type": "code",
   "execution_count": 30,
   "metadata": {},
   "outputs": [
    {
     "name": "stdout",
     "output_type": "stream",
     "text": [
      "Data Science Tool:  Python\n",
      "Data Science Tool:  R\n",
      "Data Science Tool:  Git\n"
     ]
    }
   ],
   "source": [
    "ds_tools = [\"Python\", \"R\", \"Git\"]\n",
    "for tool in ds_tools:\n",
    "  print('Data Science Tool: ', tool)"
   ]
  },
  {
   "cell_type": "code",
   "execution_count": 31,
   "metadata": {},
   "outputs": [
    {
     "name": "stdout",
     "output_type": "stream",
     "text": [
      "square of 0 is 0\n",
      "square of 1 is 1\n",
      "square of 2 is 4\n",
      "square of 3 is 9\n",
      "square of 4 is 16\n",
      "square of 5 is 25\n",
      "square of 6 is 36\n",
      "square of 7 is 49\n",
      "square of 8 is 64\n",
      "square of 9 is 81\n"
     ]
    }
   ],
   "source": [
    "# range keyword\n",
    "for i in range(10):\n",
    "    print(f'square of {i} is {i**2}')"
   ]
  },
  {
   "cell_type": "code",
   "execution_count": 32,
   "metadata": {},
   "outputs": [
    {
     "name": "stdout",
     "output_type": "stream",
     "text": [
      "T\n",
      "h\n",
      "e\n",
      " \n"
     ]
    }
   ],
   "source": [
    "# loop through letters of a string \n",
    "for i in 'The University':\n",
    "    print(i)\n",
    "    if i == ' ':\n",
    "        break"
   ]
  },
  {
   "cell_type": "markdown",
   "metadata": {},
   "source": [
    "## Functions\n",
    "\n",
    "functions are very powerful way to encapsulate your code and allow the reuse of it for various tasks. Three important things, you must consider when writing your function:\n",
    "\n",
    "* Give it a meaningful name \n",
    "* Think about the parameters that needs to be passed to the function \n",
    "* What value/s your function will return? \n",
    "\n",
    "Here, lets say we want to design a function that computes the following equation $f(x)=2x^2+5$. Clearly the input parameter must be $x$, the return value must be the $f(x)$ value, below is the code and how we can call it: "
   ]
  },
  {
   "cell_type": "code",
   "execution_count": 33,
   "metadata": {},
   "outputs": [],
   "source": [
    "def power_func(x):\n",
    "    results = x **2 \n",
    "    results = results * 2 + 5\n",
    "    return results "
   ]
  },
  {
   "cell_type": "code",
   "execution_count": 34,
   "metadata": {},
   "outputs": [
    {
     "data": {
      "text/plain": [
       "55"
      ]
     },
     "execution_count": 34,
     "metadata": {},
     "output_type": "execute_result"
    }
   ],
   "source": [
    "power_func(5)"
   ]
  },
  {
   "cell_type": "markdown",
   "metadata": {},
   "source": [
    "You can also pass more than one parameter, lets modify our function to $f(x)=x^y + 5$"
   ]
  },
  {
   "cell_type": "code",
   "execution_count": 35,
   "metadata": {},
   "outputs": [],
   "source": [
    "def cubic_x(x,y):\n",
    "    return x ** y + 5 "
   ]
  },
  {
   "cell_type": "code",
   "execution_count": 36,
   "metadata": {},
   "outputs": [
    {
     "name": "stdout",
     "output_type": "stream",
     "text": [
      "3^2 + 5 is 14\n"
     ]
    }
   ],
   "source": [
    "x = 3 \n",
    "y = 2\n",
    "print(f'{x}^{y} + 5 is {cubic_x(x,y)}')"
   ]
  },
  {
   "cell_type": "markdown",
   "metadata": {},
   "source": [
    "If the number of parameters is unknown, use * before the parameter name:\n",
    "\n"
   ]
  },
  {
   "cell_type": "code",
   "execution_count": 38,
   "metadata": {},
   "outputs": [
    {
     "name": "stdout",
     "output_type": "stream",
     "text": [
      "I am considering the following courses CS\n"
     ]
    }
   ],
   "source": [
    "def my_course(*courses):\n",
    "  print(\"I am considering the following courses \" + courses[0])\n",
    "\n",
    "my_course(\"CS\", \"DS\", \"Eng\")"
   ]
  },
  {
   "cell_type": "markdown",
   "metadata": {},
   "source": [
    "## Python Lambda\n",
    "\n",
    "A lambda function is a small anonymous function that can take any number of arguments, but can only have one expression. Here is an example of lambda function that adds 10 to the parameter passed to the function and prints the results"
   ]
  },
  {
   "cell_type": "code",
   "execution_count": 39,
   "metadata": {},
   "outputs": [
    {
     "name": "stdout",
     "output_type": "stream",
     "text": [
      "15\n"
     ]
    }
   ],
   "source": [
    "x = lambda a : a + 10\n",
    "print(x(5))"
   ]
  },
  {
   "cell_type": "markdown",
   "metadata": {},
   "source": [
    "A **lambda** function that multiplies argument $a$ with argument $b$ and print the result:\n"
   ]
  },
  {
   "cell_type": "code",
   "execution_count": 43,
   "metadata": {},
   "outputs": [
    {
     "name": "stdout",
     "output_type": "stream",
     "text": [
      "30\n"
     ]
    }
   ],
   "source": [
    "x = lambda a, b : a * b\n",
    "print(x(5, 6))"
   ]
  },
  {
   "cell_type": "markdown",
   "metadata": {},
   "source": [
    "## Import Statement \n",
    "\n"
   ]
  },
  {
   "cell_type": "markdown",
   "metadata": {},
   "source": [
    "\n",
    "Large collections of modules, functions and libraries are already built for you. To be able to use these, you need to import the module with the **import** statement. Next week, we will be focusing more on pandas, numpy and other important libraries, but for now, lets just see how we can import and use a certain one. "
   ]
  },
  {
   "cell_type": "code",
   "execution_count": 40,
   "metadata": {},
   "outputs": [],
   "source": [
    "# You will be working with some common libraries such as \n",
    "import pandas as pd\n",
    "import numpy as np  \n",
    "# ... "
   ]
  },
  {
   "cell_type": "code",
   "execution_count": 41,
   "metadata": {},
   "outputs": [
    {
     "name": "stdout",
     "output_type": "stream",
     "text": [
      "3.141592653589793\n"
     ]
    }
   ],
   "source": [
    "# Math library\n",
    "import math \n",
    "pi = math.pi\n",
    "print(pi)"
   ]
  },
  {
   "cell_type": "markdown",
   "metadata": {},
   "source": [
    "## Introduction to Pandas and Numpy \n",
    "\n",
    "This module is about learning from data, machine learning, data analytics and so on. Therefore, before closing this session, we need to know a little bit about a very important Python libraries that you will use heavily during this semester. This is a gentle introduction, but we will continue to learn about **pandas** and **numpy** through out the course. \n",
    "\n",
    "* First, you always need to import these libraries or any library you aim to use in your code as follows: \n",
    "\n"
   ]
  },
  {
   "cell_type": "code",
   "execution_count": 42,
   "metadata": {},
   "outputs": [],
   "source": [
    "import pandas as pd \n",
    "import numpy as np "
   ]
  },
  {
   "cell_type": "markdown",
   "metadata": {},
   "source": [
    "* If the code above trigger an error, then it is very likely that these libraries are not installed on your system. To install any library, you can run the following line of code `!pip install np`, or `!conda install x` for any missing library `x`, to install it on the conda environment\n"
   ]
  },
  {
   "cell_type": "markdown",
   "metadata": {},
   "source": [
    "* **Load File** Lets load a file that is stored locally as a .csv format (like excel sheet)"
   ]
  },
  {
   "cell_type": "code",
   "execution_count": 44,
   "metadata": {},
   "outputs": [],
   "source": [
    "df = pd.read_csv('../data/Auto.csv')"
   ]
  },
  {
   "cell_type": "markdown",
   "metadata": {},
   "source": [
    "* **Quick view** of the data in the file (this file contains data about chars, and certain specs such as mpg, number of cylinders, etc...). Notice that the data once read is stored into a `pd.DataFrame` as `df`. You can call it anything else. "
   ]
  },
  {
   "cell_type": "code",
   "execution_count": 45,
   "metadata": {},
   "outputs": [
    {
     "data": {
      "text/html": [
       "<div>\n",
       "<style scoped>\n",
       "    .dataframe tbody tr th:only-of-type {\n",
       "        vertical-align: middle;\n",
       "    }\n",
       "\n",
       "    .dataframe tbody tr th {\n",
       "        vertical-align: top;\n",
       "    }\n",
       "\n",
       "    .dataframe thead th {\n",
       "        text-align: right;\n",
       "    }\n",
       "</style>\n",
       "<table border=\"1\" class=\"dataframe\">\n",
       "  <thead>\n",
       "    <tr style=\"text-align: right;\">\n",
       "      <th></th>\n",
       "      <th>mpg</th>\n",
       "      <th>cylinders</th>\n",
       "      <th>displacement</th>\n",
       "      <th>horsepower</th>\n",
       "      <th>weight</th>\n",
       "      <th>acceleration</th>\n",
       "      <th>year</th>\n",
       "      <th>origin</th>\n",
       "      <th>name</th>\n",
       "    </tr>\n",
       "  </thead>\n",
       "  <tbody>\n",
       "    <tr>\n",
       "      <th>0</th>\n",
       "      <td>18.0</td>\n",
       "      <td>8</td>\n",
       "      <td>307.0</td>\n",
       "      <td>130</td>\n",
       "      <td>3504</td>\n",
       "      <td>12.0</td>\n",
       "      <td>70</td>\n",
       "      <td>1</td>\n",
       "      <td>chevrolet chevelle malibu</td>\n",
       "    </tr>\n",
       "    <tr>\n",
       "      <th>1</th>\n",
       "      <td>15.0</td>\n",
       "      <td>8</td>\n",
       "      <td>350.0</td>\n",
       "      <td>165</td>\n",
       "      <td>3693</td>\n",
       "      <td>11.5</td>\n",
       "      <td>70</td>\n",
       "      <td>1</td>\n",
       "      <td>buick skylark 320</td>\n",
       "    </tr>\n",
       "    <tr>\n",
       "      <th>2</th>\n",
       "      <td>18.0</td>\n",
       "      <td>8</td>\n",
       "      <td>318.0</td>\n",
       "      <td>150</td>\n",
       "      <td>3436</td>\n",
       "      <td>11.0</td>\n",
       "      <td>70</td>\n",
       "      <td>1</td>\n",
       "      <td>plymouth satellite</td>\n",
       "    </tr>\n",
       "    <tr>\n",
       "      <th>3</th>\n",
       "      <td>16.0</td>\n",
       "      <td>8</td>\n",
       "      <td>304.0</td>\n",
       "      <td>150</td>\n",
       "      <td>3433</td>\n",
       "      <td>12.0</td>\n",
       "      <td>70</td>\n",
       "      <td>1</td>\n",
       "      <td>amc rebel sst</td>\n",
       "    </tr>\n",
       "    <tr>\n",
       "      <th>4</th>\n",
       "      <td>17.0</td>\n",
       "      <td>8</td>\n",
       "      <td>302.0</td>\n",
       "      <td>140</td>\n",
       "      <td>3449</td>\n",
       "      <td>10.5</td>\n",
       "      <td>70</td>\n",
       "      <td>1</td>\n",
       "      <td>ford torino</td>\n",
       "    </tr>\n",
       "  </tbody>\n",
       "</table>\n",
       "</div>"
      ],
      "text/plain": [
       "    mpg  cylinders  displacement horsepower  weight  acceleration  year  \\\n",
       "0  18.0          8         307.0        130    3504          12.0    70   \n",
       "1  15.0          8         350.0        165    3693          11.5    70   \n",
       "2  18.0          8         318.0        150    3436          11.0    70   \n",
       "3  16.0          8         304.0        150    3433          12.0    70   \n",
       "4  17.0          8         302.0        140    3449          10.5    70   \n",
       "\n",
       "   origin                       name  \n",
       "0       1  chevrolet chevelle malibu  \n",
       "1       1          buick skylark 320  \n",
       "2       1         plymouth satellite  \n",
       "3       1              amc rebel sst  \n",
       "4       1                ford torino  "
      ]
     },
     "execution_count": 45,
     "metadata": {},
     "output_type": "execute_result"
    }
   ],
   "source": [
    "df.head()"
   ]
  },
  {
   "cell_type": "markdown",
   "metadata": {},
   "source": [
    "* **Data size** How many rows and columns our file has? "
   ]
  },
  {
   "cell_type": "code",
   "execution_count": 46,
   "metadata": {},
   "outputs": [
    {
     "name": "stdout",
     "output_type": "stream",
     "text": [
      "The size of df is (397, 9)\n"
     ]
    }
   ],
   "source": [
    "print(f'The size of df is {df.shape}')# 397 row and n columns "
   ]
  },
  {
   "cell_type": "markdown",
   "metadata": {},
   "source": [
    "* **Columns names**: Sometimes you will deal with files of 100's columns, an easy way to check the columns name is using the following code: "
   ]
  },
  {
   "cell_type": "code",
   "execution_count": 47,
   "metadata": {},
   "outputs": [
    {
     "data": {
      "text/plain": [
       "Index(['mpg', 'cylinders', 'displacement', 'horsepower', 'weight',\n",
       "       'acceleration', 'year', 'origin', 'name'],\n",
       "      dtype='object')"
      ]
     },
     "execution_count": 47,
     "metadata": {},
     "output_type": "execute_result"
    }
   ],
   "source": [
    "df.columns"
   ]
  },
  {
   "cell_type": "code",
   "execution_count": 48,
   "metadata": {},
   "outputs": [
    {
     "data": {
      "text/plain": [
       "pandas.core.series.Series"
      ]
     },
     "execution_count": 48,
     "metadata": {},
     "output_type": "execute_result"
    }
   ],
   "source": [
    "type(df['mpg'])# check the type of a column "
   ]
  },
  {
   "cell_type": "markdown",
   "metadata": {},
   "source": [
    "* **Show/ Select** one or more column from the data frame based on a certain condition. For example, lets show only select cars of the year 70"
   ]
  },
  {
   "cell_type": "code",
   "execution_count": 49,
   "metadata": {},
   "outputs": [
    {
     "data": {
      "text/html": [
       "<div>\n",
       "<style scoped>\n",
       "    .dataframe tbody tr th:only-of-type {\n",
       "        vertical-align: middle;\n",
       "    }\n",
       "\n",
       "    .dataframe tbody tr th {\n",
       "        vertical-align: top;\n",
       "    }\n",
       "\n",
       "    .dataframe thead th {\n",
       "        text-align: right;\n",
       "    }\n",
       "</style>\n",
       "<table border=\"1\" class=\"dataframe\">\n",
       "  <thead>\n",
       "    <tr style=\"text-align: right;\">\n",
       "      <th></th>\n",
       "      <th>mpg</th>\n",
       "      <th>cylinders</th>\n",
       "      <th>displacement</th>\n",
       "      <th>horsepower</th>\n",
       "      <th>weight</th>\n",
       "      <th>acceleration</th>\n",
       "      <th>year</th>\n",
       "      <th>origin</th>\n",
       "      <th>name</th>\n",
       "    </tr>\n",
       "  </thead>\n",
       "  <tbody>\n",
       "    <tr>\n",
       "      <th>0</th>\n",
       "      <td>18.0</td>\n",
       "      <td>8</td>\n",
       "      <td>307.0</td>\n",
       "      <td>130</td>\n",
       "      <td>3504</td>\n",
       "      <td>12.0</td>\n",
       "      <td>70</td>\n",
       "      <td>1</td>\n",
       "      <td>chevrolet chevelle malibu</td>\n",
       "    </tr>\n",
       "    <tr>\n",
       "      <th>1</th>\n",
       "      <td>15.0</td>\n",
       "      <td>8</td>\n",
       "      <td>350.0</td>\n",
       "      <td>165</td>\n",
       "      <td>3693</td>\n",
       "      <td>11.5</td>\n",
       "      <td>70</td>\n",
       "      <td>1</td>\n",
       "      <td>buick skylark 320</td>\n",
       "    </tr>\n",
       "    <tr>\n",
       "      <th>2</th>\n",
       "      <td>18.0</td>\n",
       "      <td>8</td>\n",
       "      <td>318.0</td>\n",
       "      <td>150</td>\n",
       "      <td>3436</td>\n",
       "      <td>11.0</td>\n",
       "      <td>70</td>\n",
       "      <td>1</td>\n",
       "      <td>plymouth satellite</td>\n",
       "    </tr>\n",
       "    <tr>\n",
       "      <th>3</th>\n",
       "      <td>16.0</td>\n",
       "      <td>8</td>\n",
       "      <td>304.0</td>\n",
       "      <td>150</td>\n",
       "      <td>3433</td>\n",
       "      <td>12.0</td>\n",
       "      <td>70</td>\n",
       "      <td>1</td>\n",
       "      <td>amc rebel sst</td>\n",
       "    </tr>\n",
       "    <tr>\n",
       "      <th>4</th>\n",
       "      <td>17.0</td>\n",
       "      <td>8</td>\n",
       "      <td>302.0</td>\n",
       "      <td>140</td>\n",
       "      <td>3449</td>\n",
       "      <td>10.5</td>\n",
       "      <td>70</td>\n",
       "      <td>1</td>\n",
       "      <td>ford torino</td>\n",
       "    </tr>\n",
       "  </tbody>\n",
       "</table>\n",
       "</div>"
      ],
      "text/plain": [
       "    mpg  cylinders  displacement horsepower  weight  acceleration  year  \\\n",
       "0  18.0          8         307.0        130    3504          12.0    70   \n",
       "1  15.0          8         350.0        165    3693          11.5    70   \n",
       "2  18.0          8         318.0        150    3436          11.0    70   \n",
       "3  16.0          8         304.0        150    3433          12.0    70   \n",
       "4  17.0          8         302.0        140    3449          10.5    70   \n",
       "\n",
       "   origin                       name  \n",
       "0       1  chevrolet chevelle malibu  \n",
       "1       1          buick skylark 320  \n",
       "2       1         plymouth satellite  \n",
       "3       1              amc rebel sst  \n",
       "4       1                ford torino  "
      ]
     },
     "execution_count": 49,
     "metadata": {},
     "output_type": "execute_result"
    }
   ],
   "source": [
    "cars70 = df[df.year==70]\n",
    "cars70.head()\n"
   ]
  },
  {
   "cell_type": "code",
   "execution_count": 50,
   "metadata": {},
   "outputs": [
    {
     "name": "stdout",
     "output_type": "stream",
     "text": [
      "Number of cars in cars70 DataFrame is 29\n"
     ]
    }
   ],
   "source": [
    "print(f'Number of cars in cars70 DataFrame is {cars70.shape[0]}')"
   ]
  },
  {
   "cell_type": "markdown",
   "metadata": {},
   "source": [
    "## Command Line \n",
    "\n",
    "* If you are using Anaconda / Notebooks, then you will easily run the python code cell by cell, or all together. In addition, Running Python can be done from Command Line: Python code often saved in files with `.py` extension, these can then be executed from the command line. So if you save your python code in a `Test.py` file, then running it from the command line is simple using `python Test.py`. More about this in the following weeks!"
   ]
  },
  {
   "cell_type": "markdown",
   "metadata": {},
   "source": [
    "## Exercise \n",
    "\n",
    "* **Type** (not copy and paste), and run code in this document into your own Jupyter notebook or any IDE you use\n",
    "* Write a function to compute the area of the circle. Recall for a circle of radius $r$, its area is computed as $\\Pi.r^2$. \n",
    "\n",
    "**Hint**, you can get the pi value using math library `math.pi` \n"
   ]
  },
  {
   "cell_type": "markdown",
   "metadata": {},
   "source": [
    "## Markdown Cells \n",
    "\n",
    "Final note about this docuent. This is a markdown cell. You can write **bold  text**, embed figures, and math equations to make your work much easier to read and reproduce (i.e. $e^{i\\pi} + 1 = 0$). With basic tags, you can make your code much readable. More about markdown can be found at https://jupyter-notebook.readthedocs.io/en/stable/examples/Notebook/Working%20With%20Markdown%20Cells.html. It its simplest form, it is just text (your thoughts, your explanation to your work, ...), and you need just to change the type of the cell in the Jupyter Notebook as shown below"
   ]
  },
  {
   "cell_type": "markdown",
   "metadata": {},
   "source": [
    "<img src=\"Figure/markdown.PNG\">\n"
   ]
  }
 ],
 "metadata": {
  "kernelspec": {
   "display_name": "Python 3",
   "language": "python",
   "name": "python3"
  },
  "language_info": {
   "codemirror_mode": {
    "name": "ipython",
    "version": 3
   },
   "file_extension": ".py",
   "mimetype": "text/x-python",
   "name": "python",
   "nbconvert_exporter": "python",
   "pygments_lexer": "ipython3",
   "version": "3.11.9"
  }
 },
 "nbformat": 4,
 "nbformat_minor": 2
}
