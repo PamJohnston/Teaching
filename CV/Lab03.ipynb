{
  "cells": [
    {
      "cell_type": "markdown",
      "metadata": {
        "id": "view-in-github",
        "colab_type": "text"
      },
      "source": [
        "<a href=\"https://colab.research.google.com/github/heyad/Teaching/blob/master/CV/Lab03.ipynb\" target=\"_parent\"><img src=\"https://colab.research.google.com/assets/colab-badge.svg\" alt=\"Open In Colab\"/></a>"
      ]
    },
    {
      "cell_type": "markdown",
      "metadata": {
        "id": "Nlg2REO3OM-S"
      },
      "source": [
        "## Neural Networks\n",
        "\n",
        "Although implementing the Neural Networks from scratch using Python is relatively an easy task, in this tutorial we will used the Keras framework instead to build and evaluate a NN. \n",
        "\n",
        "It is assumed that you have installed Python, Anaconda, and Scikit-Learn, if not, you can refer to Unit 1 labs for further information. Alternatively, you can use Google Colab. \n",
        "\n",
        "\n",
        "Keras is a Deep Learning API that allows you to easily create, train and validate various Deep Learning Models. Full documentation for Keras can be found at https://keras.io/. The framework was built on top of Tensorflow (Google DL framework), and soon became very popular because of it’s ease of use. \n",
        "\n",
        "In order to be able to use Keras, you need to install the 'tensorflow' framework. This can be easily done using the 'pip install command', or you can follow the detailed instruction to install it using Anaconda https://docs.anaconda.com/anaconda/user-guide/tasks/tensorflow/\n",
        "\n",
        "Once installed, you should be able to import keras as follows: \n"
      ]
    },
    {
      "cell_type": "code",
      "execution_count": null,
      "metadata": {
        "id": "g-049vqkOM-W"
      },
      "outputs": [],
      "source": [
        "import tensorflow as tf\n",
        "from tensorflow import keras "
      ]
    },
    {
      "cell_type": "markdown",
      "metadata": {
        "id": "uRhNwiFrOM-X"
      },
      "source": [
        "### Fashion Dataset \n",
        "\n",
        "We will use fashion dataset as an example to run throug the implementation of neural networks using keras. This dataset has 70,000 gray scale image. Each of these images is 28 by 28 pixels, and there are 10 different classes in the dataset. \n",
        "\n"
      ]
    },
    {
      "cell_type": "markdown",
      "metadata": {
        "id": "5wwtdud6OM-Y"
      },
      "source": [
        "#### Loading and preparing the dataset \n",
        "\n",
        "Keras can be used to load the dataset in a simple way as can be seen below "
      ]
    },
    {
      "cell_type": "code",
      "execution_count": null,
      "metadata": {
        "colab": {
          "base_uri": "https://localhost:8080/"
        },
        "id": "6fW6t99qOM-Y",
        "outputId": "e25a99e7-80fe-4a7f-d147-16fdea79c9fb"
      },
      "outputs": [
        {
          "output_type": "stream",
          "name": "stdout",
          "text": [
            "Downloading data from https://storage.googleapis.com/tensorflow/tf-keras-datasets/train-labels-idx1-ubyte.gz\n",
            "32768/29515 [=================================] - 0s 0us/step\n",
            "40960/29515 [=========================================] - 0s 0us/step\n",
            "Downloading data from https://storage.googleapis.com/tensorflow/tf-keras-datasets/train-images-idx3-ubyte.gz\n",
            "26427392/26421880 [==============================] - 0s 0us/step\n",
            "26435584/26421880 [==============================] - 0s 0us/step\n",
            "Downloading data from https://storage.googleapis.com/tensorflow/tf-keras-datasets/t10k-labels-idx1-ubyte.gz\n",
            "16384/5148 [===============================================================================================] - 0s 0us/step\n",
            "Downloading data from https://storage.googleapis.com/tensorflow/tf-keras-datasets/t10k-images-idx3-ubyte.gz\n",
            "4423680/4422102 [==============================] - 0s 0us/step\n",
            "4431872/4422102 [==============================] - 0s 0us/step\n"
          ]
        }
      ],
      "source": [
        "fashion_mnist = keras.datasets.fashion_mnist\n",
        "(X_train_full,y_train_full),(X_test,y_test) = fashion_mnist.load_data()"
      ]
    },
    {
      "cell_type": "markdown",
      "metadata": {
        "id": "SV758c9JOM-Y"
      },
      "source": [
        "Lets look at the size of the dataset we just loaded. You will notice that the training set has 60,000 images, while the testing set contains 10,000. You can also see that the size of each image is 28 by 28"
      ]
    },
    {
      "cell_type": "code",
      "execution_count": null,
      "metadata": {
        "colab": {
          "base_uri": "https://localhost:8080/"
        },
        "id": "t9JokhbeOM-Z",
        "outputId": "41adb4fb-1ba7-425f-d9e6-17f9ae84d3fe"
      },
      "outputs": [
        {
          "output_type": "execute_result",
          "data": {
            "text/plain": [
              "(60000, 28, 28)"
            ]
          },
          "metadata": {},
          "execution_count": 3
        }
      ],
      "source": [
        "X_train_full.shape"
      ]
    },
    {
      "cell_type": "code",
      "execution_count": null,
      "metadata": {
        "colab": {
          "base_uri": "https://localhost:8080/"
        },
        "id": "NqLo-JDNOM-a",
        "outputId": "020758ca-a82f-4150-cdee-75fc5c650195"
      },
      "outputs": [
        {
          "output_type": "execute_result",
          "data": {
            "text/plain": [
              "(10000, 28, 28)"
            ]
          },
          "metadata": {},
          "execution_count": 4
        }
      ],
      "source": [
        "X_test.shape"
      ]
    },
    {
      "cell_type": "markdown",
      "metadata": {
        "id": "ipueWX9BOM-b"
      },
      "source": [
        "We can create a validation set, which is a good practise to ensure that our model can generalise well across other unseen examples. \n",
        "\n",
        "**Notice** the code below, why we are deviding by 255.0? Also try to check the size of the validation set now (e.g. using the .shape)"
      ]
    },
    {
      "cell_type": "code",
      "execution_count": null,
      "metadata": {
        "id": "zzuLgMiSOM-b"
      },
      "outputs": [],
      "source": [
        "x_valid, X_train = X_train_full[:5000]/255.0, X_train_full[5000:]/255.0\n",
        "y_valid, y_train = y_train_full[:5000], y_train_full[5000:]"
      ]
    },
    {
      "cell_type": "code",
      "execution_count": null,
      "metadata": {
        "colab": {
          "base_uri": "https://localhost:8080/"
        },
        "id": "rUzieJw-OM-c",
        "outputId": "0f6f0017-60f8-4204-fd13-d32d1458e255"
      },
      "outputs": [
        {
          "output_type": "execute_result",
          "data": {
            "text/plain": [
              "(5000, 28, 28)"
            ]
          },
          "metadata": {},
          "execution_count": 6
        }
      ],
      "source": [
        "x_valid.shape"
      ]
    },
    {
      "cell_type": "code",
      "execution_count": null,
      "metadata": {
        "colab": {
          "base_uri": "https://localhost:8080/"
        },
        "id": "VC19yW6QOM-c",
        "outputId": "5d575a83-2955-430d-df1d-444637310ed2"
      },
      "outputs": [
        {
          "output_type": "execute_result",
          "data": {
            "text/plain": [
              "(55000, 28, 28)"
            ]
          },
          "metadata": {},
          "execution_count": 7
        }
      ],
      "source": [
        "X_train.shape"
      ]
    },
    {
      "cell_type": "markdown",
      "metadata": {
        "id": "yWUEgECBOM-d"
      },
      "source": [
        "The class names in the dataest are defined as follows:"
      ]
    },
    {
      "cell_type": "code",
      "execution_count": null,
      "metadata": {
        "id": "nJenj_xKOM-d"
      },
      "outputs": [],
      "source": [
        "class_names = ['T-shirt/top','Trouser','Pullover','Dress','Coat','Sandal',\n",
        "              'Shirt','Sneaker','Bag','Ankle boot']"
      ]
    },
    {
      "cell_type": "code",
      "execution_count": null,
      "metadata": {
        "colab": {
          "base_uri": "https://localhost:8080/"
        },
        "id": "QD4JG1WnOM-e",
        "outputId": "c0b63950-ce86-4777-8260-ad4c2c4a9cf7"
      },
      "outputs": [
        {
          "output_type": "stream",
          "name": "stdout",
          "text": [
            "The class of image 0 is Coat\n",
            "The class of image 1 is Coat\n",
            "The class of image 2 is Coat\n",
            "The class of image 3 is Coat\n",
            "The class of image 4 is Coat\n",
            "The class of image 5 is Coat\n",
            "The class of image 6 is Coat\n",
            "The class of image 7 is Coat\n",
            "The class of image 8 is Coat\n",
            "The class of image 9 is Coat\n"
          ]
        }
      ],
      "source": [
        "#check the the class of the first 10 images \n",
        "for i in range(10):\n",
        "    print(f'The class of image {i} is {class_names[y_train[0]]}')"
      ]
    },
    {
      "cell_type": "code",
      "execution_count": null,
      "metadata": {
        "colab": {
          "base_uri": "https://localhost:8080/",
          "height": 268
        },
        "id": "M8IC9wowOM-e",
        "outputId": "32261603-2851-4280-ef4c-807d6a1b1794"
      },
      "outputs": [
        {
          "output_type": "display_data",
          "data": {
            "image/png": "[encoded data removed]",
            "text/plain": [
              "<Figure size 432x288 with 9 Axes>"
            ]
          },
          "metadata": {
            "needs_background": "light"
          }
        }
      ],
      "source": [
        "from matplotlib import pyplot\n",
        "#lets show some of these images \n",
        "for i in range(9):\n",
        "\n",
        "    pyplot.subplot(330 + 1 + i)\n",
        "    pyplot.imshow(X_train[i], cmap=pyplot.get_cmap('gray'))\n",
        "# show the figure\n",
        "pyplot.show()"
      ]
    },
    {
      "cell_type": "code",
      "execution_count": null,
      "metadata": {
        "id": "VzhCQXdKOM-e"
      },
      "outputs": [],
      "source": [
        "#pip install matplotlib"
      ]
    },
    {
      "cell_type": "markdown",
      "metadata": {
        "id": "BUv6O4D6OM-f"
      },
      "source": [
        "#### Build Neural Network\n",
        "\n",
        "Note how keras makes building the Neural Network model, easy and self-explanatory "
      ]
    },
    {
      "cell_type": "code",
      "execution_count": null,
      "metadata": {
        "id": "KqhMrryJOM-f"
      },
      "outputs": [],
      "source": [
        "# create a neural network model using keras\n",
        "model = keras.models.Sequential()\n",
        "\n",
        "# build the first layer, this is the input layer. Note, that flatten converts the 28 by 28 image into 1D array\n",
        "model.add(keras.layers.Flatten(input_shape=[28,28]))\n",
        "\n",
        "# add a hidden layer with 300 neurons \n",
        "model.add(keras.layers.Dense(300,activation='relu'))\n",
        "\n",
        "# add another hidden layer with 100 neurons\n",
        "model.add(keras.layers.Dense(100,activation='relu'))\n",
        "\n",
        "# add output layer (note we have 10 outputs representing 10 classes)\n",
        "model.add(keras.layers.Dense(10,activation='softmax'))"
      ]
    },
    {
      "cell_type": "markdown",
      "metadata": {
        "id": "QkYyfroxOM-f"
      },
      "source": [
        "\n",
        "OK, lets check how our model looks like, you can simply using the following function: \n"
      ]
    },
    {
      "cell_type": "code",
      "execution_count": null,
      "metadata": {
        "colab": {
          "base_uri": "https://localhost:8080/"
        },
        "id": "E2MtYz4rOM-g",
        "outputId": "8b5b5f4a-56fa-446a-c749-cf3c84e92d3c"
      },
      "outputs": [
        {
          "output_type": "stream",
          "name": "stdout",
          "text": [
            "Model: \"sequential_1\"\n",
            "_________________________________________________________________\n",
            " Layer (type)                Output Shape              Param #   \n",
            "=================================================================\n",
            " flatten_1 (Flatten)         (None, 784)               0         \n",
            "                                                                 \n",
            " dense_3 (Dense)             (None, 300)               235500    \n",
            "                                                                 \n",
            " dense_4 (Dense)             (None, 100)               30100     \n",
            "                                                                 \n",
            " dense_5 (Dense)             (None, 10)                1010      \n",
            "                                                                 \n",
            "=================================================================\n",
            "Total params: 266,610\n",
            "Trainable params: 266,610\n",
            "Non-trainable params: 0\n",
            "_________________________________________________________________\n"
          ]
        }
      ],
      "source": [
        "model.summary()"
      ]
    },
    {
      "cell_type": "markdown",
      "metadata": {
        "id": "KDtl_JBbOM-g"
      },
      "source": [
        "Recall, we said that the weights are ranomly initialised, you can check the weights using the following function: \n",
        "    "
      ]
    },
    {
      "cell_type": "code",
      "execution_count": null,
      "metadata": {
        "id": "SHQ1YtQzOM-g"
      },
      "outputs": [],
      "source": [
        "weights, biases = model.layers[1].get_weights()"
      ]
    },
    {
      "cell_type": "code",
      "execution_count": null,
      "metadata": {
        "id": "u_ZxlLpUOM-g",
        "outputId": "32330a5c-6d36-413d-bce8-47de2da1763c"
      },
      "outputs": [
        {
          "data": {
            "text/plain": [
              "array([[ 0.02319957,  0.00974314,  0.04483007, ...,  0.04615968,\n",
              "        -0.03865137,  0.00023077],\n",
              "       [-0.05707288,  0.04873616, -0.02247235, ..., -0.05389255,\n",
              "        -0.00844068,  0.0079911 ],\n",
              "       [ 0.03759017, -0.03403459,  0.00754277, ..., -0.03000112,\n",
              "        -0.03309314, -0.05349311],\n",
              "       ...,\n",
              "       [ 0.06399995,  0.00731142, -0.0187744 , ..., -0.00847774,\n",
              "        -0.00992406,  0.00891551],\n",
              "       [-0.05900229,  0.05177484,  0.02510282, ..., -0.01533844,\n",
              "        -0.02511439,  0.01631652],\n",
              "       [ 0.04304086,  0.06705384, -0.01347011, ...,  0.014856  ,\n",
              "         0.02566781, -0.04785203]], dtype=float32)"
            ]
          },
          "execution_count": 16,
          "metadata": {},
          "output_type": "execute_result"
        }
      ],
      "source": [
        "weights"
      ]
    },
    {
      "cell_type": "code",
      "execution_count": null,
      "metadata": {
        "id": "ms5-lidoOM-h",
        "outputId": "e378c651-22e4-4440-bee2-4f69fb45ea75"
      },
      "outputs": [
        {
          "data": {
            "text/plain": [
              "array([0., 0., 0., 0., 0., 0., 0., 0., 0., 0., 0., 0., 0., 0., 0., 0., 0.,\n",
              "       0., 0., 0., 0., 0., 0., 0., 0., 0., 0., 0., 0., 0., 0., 0., 0., 0.,\n",
              "       0., 0., 0., 0., 0., 0., 0., 0., 0., 0., 0., 0., 0., 0., 0., 0., 0.,\n",
              "       0., 0., 0., 0., 0., 0., 0., 0., 0., 0., 0., 0., 0., 0., 0., 0., 0.,\n",
              "       0., 0., 0., 0., 0., 0., 0., 0., 0., 0., 0., 0., 0., 0., 0., 0., 0.,\n",
              "       0., 0., 0., 0., 0., 0., 0., 0., 0., 0., 0., 0., 0., 0., 0., 0., 0.,\n",
              "       0., 0., 0., 0., 0., 0., 0., 0., 0., 0., 0., 0., 0., 0., 0., 0., 0.,\n",
              "       0., 0., 0., 0., 0., 0., 0., 0., 0., 0., 0., 0., 0., 0., 0., 0., 0.,\n",
              "       0., 0., 0., 0., 0., 0., 0., 0., 0., 0., 0., 0., 0., 0., 0., 0., 0.,\n",
              "       0., 0., 0., 0., 0., 0., 0., 0., 0., 0., 0., 0., 0., 0., 0., 0., 0.,\n",
              "       0., 0., 0., 0., 0., 0., 0., 0., 0., 0., 0., 0., 0., 0., 0., 0., 0.,\n",
              "       0., 0., 0., 0., 0., 0., 0., 0., 0., 0., 0., 0., 0., 0., 0., 0., 0.,\n",
              "       0., 0., 0., 0., 0., 0., 0., 0., 0., 0., 0., 0., 0., 0., 0., 0., 0.,\n",
              "       0., 0., 0., 0., 0., 0., 0., 0., 0., 0., 0., 0., 0., 0., 0., 0., 0.,\n",
              "       0., 0., 0., 0., 0., 0., 0., 0., 0., 0., 0., 0., 0., 0., 0., 0., 0.,\n",
              "       0., 0., 0., 0., 0., 0., 0., 0., 0., 0., 0., 0., 0., 0., 0., 0., 0.,\n",
              "       0., 0., 0., 0., 0., 0., 0., 0., 0., 0., 0., 0., 0., 0., 0., 0., 0.,\n",
              "       0., 0., 0., 0., 0., 0., 0., 0., 0., 0., 0.], dtype=float32)"
            ]
          },
          "execution_count": 17,
          "metadata": {},
          "output_type": "execute_result"
        }
      ],
      "source": [
        "biases"
      ]
    },
    {
      "cell_type": "markdown",
      "metadata": {
        "id": "IQK3IbkrOM-h"
      },
      "source": [
        "#### Compiling the Model"
      ]
    },
    {
      "cell_type": "code",
      "execution_count": null,
      "metadata": {
        "id": "_08saT_kOM-h"
      },
      "outputs": [],
      "source": [
        "model.compile(loss = 'sparse_categorical_crossentropy',\n",
        "             optimizer='sgd',\n",
        "             metrics='accuracy')"
      ]
    },
    {
      "cell_type": "markdown",
      "metadata": {
        "id": "lG4LKzw4OM-h"
      },
      "source": [
        "Notice that to start the training (fitting the model), we pass the *X_train*, and the class labels (*y_train*), as well as the number of epochs (discussed in the class), and here we use the optimizer 'sgd', which is the Stochastic Gradient Descent, and finally, we set the evaluation metric to be the accuracy (number of correctly classified examples)"
      ]
    },
    {
      "cell_type": "code",
      "execution_count": null,
      "metadata": {
        "colab": {
          "base_uri": "https://localhost:8080/"
        },
        "id": "pe_z4lHfOM-h",
        "outputId": "97648054-5182-4df1-a2b3-d86024053a10"
      },
      "outputs": [
        {
          "output_type": "stream",
          "name": "stdout",
          "text": [
            "Epoch 1/30\n",
            "1719/1719 [==============================] - 6s 3ms/step - loss: 0.7294 - accuracy: 0.7612 - val_loss: 0.5316 - val_accuracy: 0.8226\n",
            "Epoch 2/30\n",
            "1719/1719 [==============================] - 5s 3ms/step - loss: 0.4912 - accuracy: 0.8295 - val_loss: 0.4625 - val_accuracy: 0.8398\n",
            "Epoch 3/30\n",
            "1719/1719 [==============================] - 5s 3ms/step - loss: 0.4458 - accuracy: 0.8425 - val_loss: 0.4444 - val_accuracy: 0.8462\n",
            "Epoch 4/30\n",
            "1719/1719 [==============================] - 5s 3ms/step - loss: 0.4179 - accuracy: 0.8532 - val_loss: 0.4217 - val_accuracy: 0.8560\n",
            "Epoch 5/30\n",
            "1719/1719 [==============================] - 5s 3ms/step - loss: 0.3964 - accuracy: 0.8609 - val_loss: 0.3886 - val_accuracy: 0.8676\n",
            "Epoch 6/30\n",
            "1719/1719 [==============================] - 5s 3ms/step - loss: 0.3805 - accuracy: 0.8659 - val_loss: 0.3797 - val_accuracy: 0.8646\n",
            "Epoch 7/30\n",
            "1719/1719 [==============================] - 5s 3ms/step - loss: 0.3665 - accuracy: 0.8697 - val_loss: 0.3680 - val_accuracy: 0.8726\n",
            "Epoch 8/30\n",
            "1719/1719 [==============================] - 5s 3ms/step - loss: 0.3538 - accuracy: 0.8752 - val_loss: 0.3712 - val_accuracy: 0.8690\n",
            "Epoch 9/30\n",
            "1719/1719 [==============================] - 5s 3ms/step - loss: 0.3435 - accuracy: 0.8775 - val_loss: 0.3427 - val_accuracy: 0.8794\n",
            "Epoch 10/30\n",
            "1719/1719 [==============================] - 5s 3ms/step - loss: 0.3348 - accuracy: 0.8813 - val_loss: 0.3530 - val_accuracy: 0.8732\n",
            "Epoch 11/30\n",
            "1719/1719 [==============================] - 5s 3ms/step - loss: 0.3256 - accuracy: 0.8833 - val_loss: 0.3304 - val_accuracy: 0.8824\n",
            "Epoch 12/30\n",
            "1719/1719 [==============================] - 5s 3ms/step - loss: 0.3171 - accuracy: 0.8867 - val_loss: 0.3329 - val_accuracy: 0.8836\n",
            "Epoch 13/30\n",
            "1719/1719 [==============================] - 5s 3ms/step - loss: 0.3099 - accuracy: 0.8885 - val_loss: 0.3525 - val_accuracy: 0.8746\n",
            "Epoch 14/30\n",
            "1719/1719 [==============================] - 5s 3ms/step - loss: 0.3033 - accuracy: 0.8902 - val_loss: 0.3259 - val_accuracy: 0.8826\n",
            "Epoch 15/30\n",
            "1719/1719 [==============================] - 5s 3ms/step - loss: 0.2957 - accuracy: 0.8951 - val_loss: 0.3372 - val_accuracy: 0.8802\n",
            "Epoch 16/30\n",
            "1719/1719 [==============================] - 5s 3ms/step - loss: 0.2895 - accuracy: 0.8954 - val_loss: 0.3178 - val_accuracy: 0.8838\n",
            "Epoch 17/30\n",
            "1719/1719 [==============================] - 5s 3ms/step - loss: 0.2841 - accuracy: 0.8984 - val_loss: 0.3251 - val_accuracy: 0.8804\n",
            "Epoch 18/30\n",
            "1719/1719 [==============================] - 5s 3ms/step - loss: 0.2796 - accuracy: 0.8998 - val_loss: 0.3174 - val_accuracy: 0.8858\n",
            "Epoch 19/30\n",
            "1719/1719 [==============================] - 5s 3ms/step - loss: 0.2737 - accuracy: 0.9024 - val_loss: 0.3069 - val_accuracy: 0.8904\n",
            "Epoch 20/30\n",
            "1719/1719 [==============================] - 5s 3ms/step - loss: 0.2676 - accuracy: 0.9045 - val_loss: 0.3099 - val_accuracy: 0.8878\n",
            "Epoch 21/30\n",
            "1719/1719 [==============================] - 5s 3ms/step - loss: 0.2637 - accuracy: 0.9058 - val_loss: 0.3010 - val_accuracy: 0.8920\n",
            "Epoch 22/30\n",
            "1719/1719 [==============================] - 5s 3ms/step - loss: 0.2592 - accuracy: 0.9074 - val_loss: 0.3010 - val_accuracy: 0.8868\n",
            "Epoch 23/30\n",
            "1719/1719 [==============================] - 5s 3ms/step - loss: 0.2536 - accuracy: 0.9089 - val_loss: 0.3129 - val_accuracy: 0.8876\n",
            "Epoch 24/30\n",
            "1719/1719 [==============================] - 5s 3ms/step - loss: 0.2495 - accuracy: 0.9115 - val_loss: 0.3028 - val_accuracy: 0.8892\n",
            "Epoch 25/30\n",
            "1719/1719 [==============================] - 5s 3ms/step - loss: 0.2465 - accuracy: 0.9115 - val_loss: 0.3092 - val_accuracy: 0.8858\n",
            "Epoch 26/30\n",
            "1719/1719 [==============================] - 5s 3ms/step - loss: 0.2414 - accuracy: 0.9131 - val_loss: 0.2958 - val_accuracy: 0.8906\n",
            "Epoch 27/30\n",
            "1719/1719 [==============================] - 5s 3ms/step - loss: 0.2381 - accuracy: 0.9147 - val_loss: 0.2912 - val_accuracy: 0.8942\n",
            "Epoch 28/30\n",
            "1719/1719 [==============================] - 5s 3ms/step - loss: 0.2340 - accuracy: 0.9159 - val_loss: 0.2958 - val_accuracy: 0.8944\n",
            "Epoch 29/30\n",
            "1719/1719 [==============================] - 5s 3ms/step - loss: 0.2297 - accuracy: 0.9180 - val_loss: 0.2999 - val_accuracy: 0.8920\n",
            "Epoch 30/30\n",
            "1719/1719 [==============================] - 5s 3ms/step - loss: 0.2260 - accuracy: 0.9195 - val_loss: 0.3136 - val_accuracy: 0.8868\n"
          ]
        }
      ],
      "source": [
        "#training\n",
        "history = model.fit(X_train, y_train, epochs=30,\n",
        "                   validation_data=(x_valid, y_valid))"
      ]
    },
    {
      "cell_type": "markdown",
      "metadata": {
        "id": "pWtvRrCYOM-i"
      },
      "source": [
        "Another thing to note is that we pass the validation set. You will notice that keras at each epoch during the training process display the number of instances processed, the mean training time per instance, and the loss and accuracy. A good model should show a decreasing loss value over time as well as increase in accuracy. "
      ]
    },
    {
      "cell_type": "markdown",
      "metadata": {
        "id": "anYQujDyOM-i"
      },
      "source": [
        "The fit() function returns a History object that contains the training parameters (history.params), the list of epochs it went through (history.epoch), and a history dictionary (history.history) containing the loss and extra metrics. This is particularly useful to display the loss plots, and assess if the model is overfitting or not as can be seen below: "
      ]
    },
    {
      "cell_type": "code",
      "execution_count": null,
      "metadata": {
        "id": "58IdF3dzOM-i"
      },
      "outputs": [],
      "source": [
        "import pandas as pd\n",
        "import matplotlib.pyplot as plt"
      ]
    },
    {
      "cell_type": "code",
      "execution_count": null,
      "metadata": {
        "colab": {
          "base_uri": "https://localhost:8080/",
          "height": 487
        },
        "id": "5xdFaSNGOM-i",
        "outputId": "e5ed0d70-ea9f-4b27-9112-4b35a9a4cbab"
      },
      "outputs": [
        {
          "output_type": "display_data",
          "data": {
            "image/png": "[encoded data removed]",
            "text/plain": [
              "<Figure size 864x576 with 1 Axes>"
            ]
          },
          "metadata": {
            "needs_background": "light"
          }
        }
      ],
      "source": [
        "pd.DataFrame(history.history).plot(figsize=(12,8))\n",
        "plt.grid(True)\n",
        "plt.gca().set_ylim(0,1) # set the range between 0 to 1\n",
        "plt.show()"
      ]
    },
    {
      "cell_type": "markdown",
      "metadata": {
        "id": "K3jBwOtiOM-i"
      },
      "source": [
        "Have a closer look at the training and validation accuracy as well as training and validation losses. These values over the various epochs tell you how stable your model is"
      ]
    },
    {
      "cell_type": "markdown",
      "metadata": {
        "id": "vijruo4bOM-i"
      },
      "source": [
        "#### Testing your Model\n",
        "\n",
        "Although the model seems to be stable and the results are relatively good, there are different ways to improve these results: \n",
        "\n",
        "* Do some hyperparamter tunning (e.g. check the learning rate)\n",
        "* You may change the number of layers \n",
        "* Change the number of neurons in each layer \n",
        "* Change the batch size, this can be set in the fit() method using the parameter batch_size argument (notice that the default value is 32)\n",
        "* You can also try different optimisers other than sgd, one very popular optimiser is the adam optimiser\n",
        "* Collect more data, \n",
        "* And other methods \n",
        "\n",
        "You may try to apply some changes and re-fit your model. However, for now, we will assume that we are happy with this training results. The following step in building your first neural network, is to test the model using the testing set. This is very important step, and shows how can your model generalise across other unseen examples (images in this case). This step can be easily done using keras as follows:"
      ]
    },
    {
      "cell_type": "code",
      "execution_count": null,
      "metadata": {
        "colab": {
          "base_uri": "https://localhost:8080/"
        },
        "id": "UsriPa9rOM-j",
        "outputId": "747abb7f-a847-4174-ed63-df8c627423aa"
      },
      "outputs": [
        {
          "output_type": "stream",
          "name": "stdout",
          "text": [
            "313/313 [==============================] - 1s 2ms/step - loss: 82.2262 - accuracy: 0.8220\n"
          ]
        }
      ],
      "source": [
        "# the function below returns accuracy and loss values of the model\n",
        "results = model.evaluate(X_test,y_test)"
      ]
    },
    {
      "cell_type": "code",
      "execution_count": null,
      "metadata": {
        "colab": {
          "base_uri": "https://localhost:8080/"
        },
        "id": "7czbiik7OM-j",
        "outputId": "50c03396-05ea-408a-ef99-49e8268f848e"
      },
      "outputs": [
        {
          "output_type": "stream",
          "name": "stdout",
          "text": [
            "Accuracy of the Neural Network is 82.0%\n"
          ]
        }
      ],
      "source": [
        "print(f'Accuracy of the Neural Network is {round(results[1],2)*100}%')"
      ]
    },
    {
      "cell_type": "markdown",
      "metadata": {
        "id": "MxsGW0NvOM-j"
      },
      "source": [
        "Now, you can also make predictions using the resulting model as follows: "
      ]
    },
    {
      "cell_type": "code",
      "execution_count": null,
      "metadata": {
        "colab": {
          "base_uri": "https://localhost:8080/"
        },
        "id": "vL_sh1PSOM-j",
        "outputId": "28ad4840-7952-4253-cf08-3ba70f0c08f4"
      },
      "outputs": [
        {
          "output_type": "execute_result",
          "data": {
            "text/plain": [
              "array([[0., 0., 0., 0., 0., 0., 0., 0., 0., 1.],\n",
              "       [0., 0., 0., 0., 1., 0., 0., 0., 0., 0.],\n",
              "       [0., 1., 0., 0., 0., 0., 0., 0., 0., 0.]], dtype=float32)"
            ]
          },
          "metadata": {},
          "execution_count": 21
        }
      ],
      "source": [
        "# consider the first three imgaes in the testing set\n",
        "testing_images = X_test[:3]\n",
        "\n",
        "# use predict to classify the images above\n",
        "y_prob = model.predict(testing_images)\n",
        "y_prob.round(2)"
      ]
    },
    {
      "cell_type": "markdown",
      "metadata": {
        "id": "H5jaycYMOM-j"
      },
      "source": [
        "If you look at the array above, you will notice that for each image the model estimates the probability per class, from class 0 to 9 (recall, we have 10 different classes in our dataset):\n",
        "\n",
        "* The model estimates that the first image in the testing_images is of class 9\n",
        "* Similarly, the second image is of class 2 and so on \n",
        "\n",
        "Instead, and if you only want the class with the highest estimated probability, then you can use the predict_classes() method as follows:"
      ]
    },
    {
      "cell_type": "code",
      "execution_count": null,
      "metadata": {
        "colab": {
          "base_uri": "https://localhost:8080/"
        },
        "id": "wSAOUvI3OM-j",
        "outputId": "3e063aa0-137e-4565-fe6a-0cef6d86cbe9"
      },
      "outputs": [
        {
          "output_type": "execute_result",
          "data": {
            "text/plain": [
              "array([9, 4, 1])"
            ]
          },
          "metadata": {},
          "execution_count": 22
        }
      ],
      "source": [
        "import numpy as np\n",
        "y_pred = np.argmax(model.predict(testing_images), axis=-1)\n",
        "y_pred"
      ]
    },
    {
      "cell_type": "code",
      "execution_count": null,
      "metadata": {
        "colab": {
          "base_uri": "https://localhost:8080/"
        },
        "id": "RvwnZOQZOM-k",
        "outputId": "72f3ed30-ffc0-4b80-9fdc-830836ece83d"
      },
      "outputs": [
        {
          "output_type": "stream",
          "name": "stdout",
          "text": [
            "The class name of 9 is Ankle boot\n",
            "The class name of 4 is Coat\n",
            "The class name of 1 is Trouser\n"
          ]
        }
      ],
      "source": [
        "# Check the actual class names of the predicted test imgaes \n",
        "for i in range (len(testing_images)):\n",
        "    print (f'The class name of {y_pred[i]} is {class_names[y_pred[i]]}')"
      ]
    },
    {
      "cell_type": "code",
      "execution_count": null,
      "metadata": {
        "colab": {
          "base_uri": "https://localhost:8080/",
          "height": 282
        },
        "id": "7I61NKmGOM-k",
        "outputId": "a1983f2f-aebb-4c0b-da35-410519150b9a"
      },
      "outputs": [
        {
          "output_type": "execute_result",
          "data": {
            "text/plain": [
              "<matplotlib.image.AxesImage at 0x7f8659089110>"
            ]
          },
          "metadata": {},
          "execution_count": 24
        },
        {
          "output_type": "display_data",
          "data": {
            "image/png": "[encoded data removed]",
            "text/plain": [
              "<Figure size 432x288 with 1 Axes>"
            ]
          },
          "metadata": {
            "needs_background": "light"
          }
        }
      ],
      "source": [
        "# You can further verify this by visualising these testing images \n",
        "pyplot.imshow(testing_images[0], cmap=pyplot.get_cmap('gray'))"
      ]
    },
    {
      "cell_type": "code",
      "execution_count": null,
      "metadata": {
        "colab": {
          "base_uri": "https://localhost:8080/",
          "height": 282
        },
        "id": "rdeY2gjqOM-k",
        "outputId": "71880f3b-8db3-4b96-e9f8-461d3789af50"
      },
      "outputs": [
        {
          "output_type": "execute_result",
          "data": {
            "text/plain": [
              "<matplotlib.image.AxesImage at 0x7f8659008c50>"
            ]
          },
          "metadata": {},
          "execution_count": 25
        },
        {
          "output_type": "display_data",
          "data": {
            "image/png": "[encoded data removed]",
            "text/plain": [
              "<Figure size 432x288 with 1 Axes>"
            ]
          },
          "metadata": {
            "needs_background": "light"
          }
        }
      ],
      "source": [
        "pyplot.imshow(testing_images[1], cmap=pyplot.get_cmap('gray'))"
      ]
    },
    {
      "cell_type": "code",
      "execution_count": null,
      "metadata": {
        "colab": {
          "base_uri": "https://localhost:8080/",
          "height": 282
        },
        "id": "HhXRf38-OM-k",
        "outputId": "b4a627b0-d259-468c-8dc3-9b1b84dc6010"
      },
      "outputs": [
        {
          "output_type": "execute_result",
          "data": {
            "text/plain": [
              "<matplotlib.image.AxesImage at 0x7f8658f59510>"
            ]
          },
          "metadata": {},
          "execution_count": 26
        },
        {
          "output_type": "display_data",
          "data": {
            "image/png": "[encoded data removed]",
            "text/plain": [
              "<Figure size 432x288 with 1 Axes>"
            ]
          },
          "metadata": {
            "needs_background": "light"
          }
        }
      ],
      "source": [
        "pyplot.imshow(testing_images[2], cmap=pyplot.get_cmap('gray'))"
      ]
    },
    {
      "cell_type": "code",
      "execution_count": null,
      "metadata": {
        "id": "pUxzoF0FOM-k"
      },
      "outputs": [],
      "source": []
    }
  ],
  "metadata": {
    "kernelspec": {
      "display_name": "Python 3 (ipykernel)",
      "language": "python",
      "name": "python3"
    },
    "language_info": {
      "codemirror_mode": {
        "name": "ipython",
        "version": 3
      },
      "file_extension": ".py",
      "mimetype": "text/x-python",
      "name": "python",
      "nbconvert_exporter": "python",
      "pygments_lexer": "ipython3",
      "version": "3.9.7"
    },
    "colab": {
      "provenance": [],
      "include_colab_link": true
    }
  },
  "nbformat": 4,
  "nbformat_minor": 0
}