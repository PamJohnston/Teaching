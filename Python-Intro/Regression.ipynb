{
 "cells": [
  {
   "cell_type": "markdown",
   "metadata": {},
   "source": [
    "# Linear Regression \n",
    "\n",
    "In this tutorial, you will learn more about Linear Regression, and will learn how to train a single, and a multiple linear regression models. More specifically, this tutorial will also show you how to \n",
    "\n",
    "* Load dataset from a file (**.csv**)\n",
    "\n",
    "* Prepare data as a set of input features and target variable (response variable) to be ready for modelling  \n",
    "* Create and training a linear regression model, make predictions and evaluate the model’s performance \n",
    "* You will learn more about `pandas`, `seaborn`, and other Python hacks in this document.\n",
    "* Finally, you will learn about new tool in Python (`streamlit`) that allows you to create front-end easily\n",
    "\n",
    "**Problem**: Our task for today is simple, a company is investing money in advertisements at TV, Radio and Newspaper. We want to build a model that can predict the increase of sales units, given investing certain units of money in the above media!\n"
   ]
  },
  {
   "cell_type": "code",
   "execution_count": 1,
   "metadata": {},
   "outputs": [],
   "source": [
    "# import required variables\n",
    "import pandas as pd \n",
    "import numpy as np\n",
    "# sklearn for ML models \n",
    "from sklearn.linear_model import LinearRegression"
   ]
  },
  {
   "cell_type": "markdown",
   "metadata": {},
   "source": [
    "## Load /Explore data \n",
    "\n",
    "**Data: **First thing is to explore what data related to the problem is available. Then, we should be doing a lot of data preparation, exploration, and pre-processing before making it read a learning algorithm. But in this tutorial, we will keep it simple. \n",
    "\n",
    "* First, we will load the file and view the first 10 rows \n",
    "* Notice that  the file `Adevrtising.csv` must be inside the `data` folder, or simply change the line of code below, if hte path is different"
   ]
  },
  {
   "cell_type": "code",
   "execution_count": 2,
   "metadata": {},
   "outputs": [
    {
     "data": {
      "text/html": [
       "<div>\n",
       "<style scoped>\n",
       "    .dataframe tbody tr th:only-of-type {\n",
       "        vertical-align: middle;\n",
       "    }\n",
       "\n",
       "    .dataframe tbody tr th {\n",
       "        vertical-align: top;\n",
       "    }\n",
       "\n",
       "    .dataframe thead th {\n",
       "        text-align: right;\n",
       "    }\n",
       "</style>\n",
       "<table border=\"1\" class=\"dataframe\">\n",
       "  <thead>\n",
       "    <tr style=\"text-align: right;\">\n",
       "      <th></th>\n",
       "      <th>TV</th>\n",
       "      <th>Radio</th>\n",
       "      <th>Newspaper</th>\n",
       "      <th>Sales</th>\n",
       "    </tr>\n",
       "  </thead>\n",
       "  <tbody>\n",
       "    <tr>\n",
       "      <td>0</td>\n",
       "      <td>230.1</td>\n",
       "      <td>37.8</td>\n",
       "      <td>69.2</td>\n",
       "      <td>22.1</td>\n",
       "    </tr>\n",
       "    <tr>\n",
       "      <td>1</td>\n",
       "      <td>44.5</td>\n",
       "      <td>39.3</td>\n",
       "      <td>45.1</td>\n",
       "      <td>10.4</td>\n",
       "    </tr>\n",
       "    <tr>\n",
       "      <td>2</td>\n",
       "      <td>17.2</td>\n",
       "      <td>45.9</td>\n",
       "      <td>69.3</td>\n",
       "      <td>9.3</td>\n",
       "    </tr>\n",
       "    <tr>\n",
       "      <td>3</td>\n",
       "      <td>151.5</td>\n",
       "      <td>41.3</td>\n",
       "      <td>58.5</td>\n",
       "      <td>18.5</td>\n",
       "    </tr>\n",
       "    <tr>\n",
       "      <td>4</td>\n",
       "      <td>180.8</td>\n",
       "      <td>10.8</td>\n",
       "      <td>58.4</td>\n",
       "      <td>12.9</td>\n",
       "    </tr>\n",
       "    <tr>\n",
       "      <td>5</td>\n",
       "      <td>8.7</td>\n",
       "      <td>48.9</td>\n",
       "      <td>75.0</td>\n",
       "      <td>7.2</td>\n",
       "    </tr>\n",
       "    <tr>\n",
       "      <td>6</td>\n",
       "      <td>57.5</td>\n",
       "      <td>32.8</td>\n",
       "      <td>23.5</td>\n",
       "      <td>11.8</td>\n",
       "    </tr>\n",
       "    <tr>\n",
       "      <td>7</td>\n",
       "      <td>120.2</td>\n",
       "      <td>19.6</td>\n",
       "      <td>11.6</td>\n",
       "      <td>13.2</td>\n",
       "    </tr>\n",
       "    <tr>\n",
       "      <td>8</td>\n",
       "      <td>8.6</td>\n",
       "      <td>2.1</td>\n",
       "      <td>1.0</td>\n",
       "      <td>4.8</td>\n",
       "    </tr>\n",
       "    <tr>\n",
       "      <td>9</td>\n",
       "      <td>199.8</td>\n",
       "      <td>2.6</td>\n",
       "      <td>21.2</td>\n",
       "      <td>10.6</td>\n",
       "    </tr>\n",
       "  </tbody>\n",
       "</table>\n",
       "</div>"
      ],
      "text/plain": [
       "      TV  Radio  Newspaper  Sales\n",
       "0  230.1   37.8       69.2   22.1\n",
       "1   44.5   39.3       45.1   10.4\n",
       "2   17.2   45.9       69.3    9.3\n",
       "3  151.5   41.3       58.5   18.5\n",
       "4  180.8   10.8       58.4   12.9\n",
       "5    8.7   48.9       75.0    7.2\n",
       "6   57.5   32.8       23.5   11.8\n",
       "7  120.2   19.6       11.6   13.2\n",
       "8    8.6    2.1        1.0    4.8\n",
       "9  199.8    2.6       21.2   10.6"
      ]
     },
     "execution_count": 2,
     "metadata": {},
     "output_type": "execute_result"
    }
   ],
   "source": [
    "df = pd.read_csv('data/Adevrtising.csv')\n",
    "df.head(10)"
   ]
  },
  {
   "cell_type": "code",
   "execution_count": 3,
   "metadata": {},
   "outputs": [
    {
     "data": {
      "text/html": [
       "<div>\n",
       "<style scoped>\n",
       "    .dataframe tbody tr th:only-of-type {\n",
       "        vertical-align: middle;\n",
       "    }\n",
       "\n",
       "    .dataframe tbody tr th {\n",
       "        vertical-align: top;\n",
       "    }\n",
       "\n",
       "    .dataframe thead th {\n",
       "        text-align: right;\n",
       "    }\n",
       "</style>\n",
       "<table border=\"1\" class=\"dataframe\">\n",
       "  <thead>\n",
       "    <tr style=\"text-align: right;\">\n",
       "      <th></th>\n",
       "      <th>TV</th>\n",
       "      <th>Radio</th>\n",
       "      <th>Newspaper</th>\n",
       "      <th>Sales</th>\n",
       "    </tr>\n",
       "  </thead>\n",
       "  <tbody>\n",
       "    <tr>\n",
       "      <td>0</td>\n",
       "      <td>230.1</td>\n",
       "      <td>37.8</td>\n",
       "      <td>69.2</td>\n",
       "      <td>22.1</td>\n",
       "    </tr>\n",
       "    <tr>\n",
       "      <td>1</td>\n",
       "      <td>44.5</td>\n",
       "      <td>39.3</td>\n",
       "      <td>45.1</td>\n",
       "      <td>10.4</td>\n",
       "    </tr>\n",
       "    <tr>\n",
       "      <td>2</td>\n",
       "      <td>17.2</td>\n",
       "      <td>45.9</td>\n",
       "      <td>69.3</td>\n",
       "      <td>9.3</td>\n",
       "    </tr>\n",
       "    <tr>\n",
       "      <td>3</td>\n",
       "      <td>151.5</td>\n",
       "      <td>41.3</td>\n",
       "      <td>58.5</td>\n",
       "      <td>18.5</td>\n",
       "    </tr>\n",
       "    <tr>\n",
       "      <td>4</td>\n",
       "      <td>180.8</td>\n",
       "      <td>10.8</td>\n",
       "      <td>58.4</td>\n",
       "      <td>12.9</td>\n",
       "    </tr>\n",
       "    <tr>\n",
       "      <td>5</td>\n",
       "      <td>8.7</td>\n",
       "      <td>48.9</td>\n",
       "      <td>75.0</td>\n",
       "      <td>7.2</td>\n",
       "    </tr>\n",
       "    <tr>\n",
       "      <td>6</td>\n",
       "      <td>57.5</td>\n",
       "      <td>32.8</td>\n",
       "      <td>23.5</td>\n",
       "      <td>11.8</td>\n",
       "    </tr>\n",
       "    <tr>\n",
       "      <td>7</td>\n",
       "      <td>120.2</td>\n",
       "      <td>19.6</td>\n",
       "      <td>11.6</td>\n",
       "      <td>13.2</td>\n",
       "    </tr>\n",
       "    <tr>\n",
       "      <td>8</td>\n",
       "      <td>8.6</td>\n",
       "      <td>2.1</td>\n",
       "      <td>1.0</td>\n",
       "      <td>4.8</td>\n",
       "    </tr>\n",
       "    <tr>\n",
       "      <td>9</td>\n",
       "      <td>199.8</td>\n",
       "      <td>2.6</td>\n",
       "      <td>21.2</td>\n",
       "      <td>10.6</td>\n",
       "    </tr>\n",
       "  </tbody>\n",
       "</table>\n",
       "</div>"
      ],
      "text/plain": [
       "      TV  Radio  Newspaper  Sales\n",
       "0  230.1   37.8       69.2   22.1\n",
       "1   44.5   39.3       45.1   10.4\n",
       "2   17.2   45.9       69.3    9.3\n",
       "3  151.5   41.3       58.5   18.5\n",
       "4  180.8   10.8       58.4   12.9\n",
       "5    8.7   48.9       75.0    7.2\n",
       "6   57.5   32.8       23.5   11.8\n",
       "7  120.2   19.6       11.6   13.2\n",
       "8    8.6    2.1        1.0    4.8\n",
       "9  199.8    2.6       21.2   10.6"
      ]
     },
     "execution_count": 3,
     "metadata": {},
     "output_type": "execute_result"
    }
   ],
   "source": [
    "df[:10]# same as df.head(10)"
   ]
  },
  {
   "cell_type": "code",
   "execution_count": 4,
   "metadata": {},
   "outputs": [
    {
     "name": "stdout",
     "output_type": "stream",
     "text": [
      "The dataset has 200 rows and 4 columns\n"
     ]
    }
   ],
   "source": [
    "# Check number of columns and rows \n",
    "print(f'The dataset has {df.shape[0]} rows and {df.shape[1]} columns')"
   ]
  },
  {
   "cell_type": "markdown",
   "metadata": {},
   "source": [
    "* It is always good idea to explore the relation between the input features (TV, Radio, ...) and the response variable (Sales). We can do this using a simple visualisation\n",
    "* We will use the `seaborn` visualization library (a powerful python library for visualisation)"
   ]
  },
  {
   "cell_type": "code",
   "execution_count": 5,
   "metadata": {},
   "outputs": [
    {
     "data": {
      "text/plain": [
       "<seaborn.axisgrid.PairGrid at 0x120317310>"
      ]
     },
     "execution_count": 5,
     "metadata": {},
     "output_type": "execute_result"
    }
   ],
   "source": [
    "import seaborn as sns\n",
    "sns.set_style(\"darkgrid\")\n",
    "sns.pairplot(df, x_vars=['TV','Radio','Newspaper'], y_vars='Sales', height=5, aspect=0.7)"
   ]
  },
  {
   "cell_type": "markdown",
   "metadata": {},
   "source": [
    "## Simple Linear Regression \n",
    "\n",
    "Notice that we want to map $X$ to $Y$. In other words we want to use $TV$, to predict the increase in $Sales$. So, lets use one feature $TV$, and assume that our sales mainly depends on how much we spend on the $TV$ Advertisement. We will consider the two `coding` steps below are our main pre-processing work. However, this task is often more demanding than simply choosing a feature or two, there is a lot of work on features engineering and how to best select the most representative features. We will cover this in later weeks, for now, our Data Preparation approach is very simple:\n",
    "\n",
    "### Data Preparation "
   ]
  },
  {
   "cell_type": "code",
   "execution_count": 6,
   "metadata": {},
   "outputs": [
    {
     "name": "stdout",
     "output_type": "stream",
     "text": [
      "The type of X is <class 'pandas.core.frame.DataFrame'>\n",
      "The type of y is <class 'pandas.core.series.Series'>\n"
     ]
    }
   ],
   "source": [
    "# create X and y\n",
    "# columns/ features representing 'X'\n",
    "feature_cols = ['TV']\n",
    "X = df[feature_cols]\n",
    "# what you want to learn predict\n",
    "y = df.Sales\n",
    "\n",
    "# lets check the type of the new constructs \n",
    "print(f'The type of X is {type(X)}')\n",
    "print(f'The type of y is {type(y)}')"
   ]
  },
  {
   "cell_type": "markdown",
   "metadata": {},
   "source": [
    "### Build the model (Linear Model)\n",
    "* First, we create an instance of the class LinearRegression, which will represent the regression model\n",
    "* Then we fit our data into the model\n",
    "* With `.fit()` calculates the optimal values of the weights $B_0$ and $B_1$, ... using the existing input and output ($X$ and $y$) as the arguments. \n",
    "* Fitting the model is simple `model.fit(X,y)`eps are outlined below"
   ]
  },
  {
   "cell_type": "code",
   "execution_count": 7,
   "metadata": {},
   "outputs": [
    {
     "data": {
      "text/plain": [
       "LinearRegression(copy_X=True, fit_intercept=True, n_jobs=None, normalize=False)"
      ]
     },
     "execution_count": 7,
     "metadata": {},
     "output_type": "execute_result"
    }
   ],
   "source": [
    "# Initiate and fit\n",
    "simple_lm = LinearRegression()\n",
    "simple_lm.fit(X, y)"
   ]
  },
  {
   "cell_type": "markdown",
   "metadata": {},
   "source": [
    "* Remember, we want to learn the `weights` or the coefficients for our model $\\hat{Y} = {\\beta_0} + {\\beta_1} X$ is an estimate of the regression equation which \n",
    "\n",
    "* So, lets first print these coefficients "
   ]
  },
  {
   "cell_type": "code",
   "execution_count": 8,
   "metadata": {},
   "outputs": [
    {
     "name": "stdout",
     "output_type": "stream",
     "text": [
      "iNTERCEPT :  7.032593549127695\n",
      "CO-EFFICIENT :  [0.04753664]\n"
     ]
    }
   ],
   "source": [
    "# print the coefficients\n",
    "print (\"iNTERCEPT : \",simple_lm.intercept_)\n",
    "print (\"CO-EFFICIENT : \",simple_lm.coef_)\n"
   ]
  },
  {
   "cell_type": "markdown",
   "metadata": {},
   "source": [
    "### Interpreting Model Coefficients\n",
    "\n",
    "Linear models are simple, and so the results / coefficients interpretation. Here we interept interpret the TV coefficient $({\\beta_1})$? as follows:\n",
    " \n",
    "\n",
    "* A **unit** increase in $TV$ advertisement spending is associated with an increase of **0.04753664** increase in $Sales$\n",
    "* Notice that if the $TV$ advertisement spending is associated with **decrease** in sales, then you would find that the ${\\beta_1}$ coefficient would be negative!\n"
   ]
  },
  {
   "cell_type": "markdown",
   "metadata": {},
   "source": [
    "### Make Predictions\n",
    "\n",
    "* Best and easiest way to test/ evaluate the model is to perform some predictions. In later weeks, we will discuss more about model evaluations. For now, lets see how can we use our model to perform the predictions for $Sales$ based on our only **feature** $TV$\n",
    "* We suppose that we want invest the **230** in TV advertising, then using our model, we want to check how much sales this would generate\n",
    "\n"
   ]
  },
  {
   "cell_type": "code",
   "execution_count": 9,
   "metadata": {},
   "outputs": [
    {
     "name": "stdout",
     "output_type": "stream",
     "text": [
      "Investing 230 in Tv and Generates [17.96602085] in Sales\n"
     ]
    }
   ],
   "source": [
    "# prediction with sklearn\n",
    "TV = 230\n",
    "print(f'Investing {TV} in Tv and Generates {simple_lm.predict([[TV]])} in Sales')\n",
    "\n"
   ]
  },
  {
   "cell_type": "markdown",
   "metadata": {},
   "source": [
    "* Check the predicted sales value against the actual value (see table above)\n",
    "* Or you may want to select all records in your dataset where an investment of a value between 225 to 235 in $TV$ advertising being made, and check what was the actual increase units of $Sales$ to compare with your model\n",
    "* Notice that this is not the way we should evaluate our model. But the code below is useful as it introduces more Python techniques.  \n"
   ]
  },
  {
   "cell_type": "code",
   "execution_count": 10,
   "metadata": {},
   "outputs": [],
   "source": [
    "tv_230s = df.loc[(df['TV'] >= 225) & (df['TV'] <=235)] \n",
    "#the above returns all records of tv instment betwen 225 and 235"
   ]
  },
  {
   "cell_type": "markdown",
   "metadata": {},
   "source": [
    "* Lets check the **average** increase in units sales based on investing on $TV$ advertisement according to your dataset"
   ]
  },
  {
   "cell_type": "code",
   "execution_count": 11,
   "metadata": {},
   "outputs": [
    {
     "name": "stdout",
     "output_type": "stream",
     "text": [
      "Mean sales increase 16.5375\n"
     ]
    }
   ],
   "source": [
    "print(f'Mean sales increase {tv_230s.Sales.mean()}')"
   ]
  },
  {
   "cell_type": "markdown",
   "metadata": {},
   "source": [
    "* Another way to make predictions using your model, is using the `predict()` method which returns an numpy array of predicted values of sales. Recall, we called our model `simple_lm` "
   ]
  },
  {
   "cell_type": "code",
   "execution_count": 12,
   "metadata": {},
   "outputs": [],
   "source": [
    "predictions = simple_lm.predict(X)"
   ]
  },
  {
   "cell_type": "markdown",
   "metadata": {},
   "source": [
    "* We can create a data frame to store actual sales values against the predicted sales values as below. This is always agood practices, even for further manual error analysis"
   ]
  },
  {
   "cell_type": "code",
   "execution_count": 13,
   "metadata": {},
   "outputs": [
    {
     "data": {
      "text/html": [
       "<div>\n",
       "<style scoped>\n",
       "    .dataframe tbody tr th:only-of-type {\n",
       "        vertical-align: middle;\n",
       "    }\n",
       "\n",
       "    .dataframe tbody tr th {\n",
       "        vertical-align: top;\n",
       "    }\n",
       "\n",
       "    .dataframe thead th {\n",
       "        text-align: right;\n",
       "    }\n",
       "</style>\n",
       "<table border=\"1\" class=\"dataframe\">\n",
       "  <thead>\n",
       "    <tr style=\"text-align: right;\">\n",
       "      <th></th>\n",
       "      <th>Actual</th>\n",
       "      <th>Predicted</th>\n",
       "    </tr>\n",
       "  </thead>\n",
       "  <tbody>\n",
       "    <tr>\n",
       "      <td>0</td>\n",
       "      <td>22.1</td>\n",
       "      <td>17.970775</td>\n",
       "    </tr>\n",
       "    <tr>\n",
       "      <td>1</td>\n",
       "      <td>10.4</td>\n",
       "      <td>9.147974</td>\n",
       "    </tr>\n",
       "    <tr>\n",
       "      <td>2</td>\n",
       "      <td>9.3</td>\n",
       "      <td>7.850224</td>\n",
       "    </tr>\n",
       "    <tr>\n",
       "      <td>3</td>\n",
       "      <td>18.5</td>\n",
       "      <td>14.234395</td>\n",
       "    </tr>\n",
       "    <tr>\n",
       "      <td>4</td>\n",
       "      <td>12.9</td>\n",
       "      <td>15.627218</td>\n",
       "    </tr>\n",
       "  </tbody>\n",
       "</table>\n",
       "</div>"
      ],
      "text/plain": [
       "   Actual  Predicted\n",
       "0    22.1  17.970775\n",
       "1    10.4   9.147974\n",
       "2     9.3   7.850224\n",
       "3    18.5  14.234395\n",
       "4    12.9  15.627218"
      ]
     },
     "execution_count": 13,
     "metadata": {},
     "output_type": "execute_result"
    }
   ],
   "source": [
    "df_eval = pd.DataFrame({'Actual': y, 'Predicted': predictions})\n",
    "df_eval.head()"
   ]
  },
  {
   "cell_type": "markdown",
   "metadata": {},
   "source": [
    "* You can also **plot** the model and the actual points to get a visual insight about your model performance"
   ]
  },
  {
   "cell_type": "code",
   "execution_count": 14,
   "metadata": {},
   "outputs": [
    {
     "data": {
      "image/png": "[encoded data removed]",
      "text/plain": [
       "<Figure size 432x288 with 1 Axes>"
      ]
     },
     "metadata": {},
     "output_type": "display_data"
    }
   ],
   "source": [
    "import matplotlib.pyplot as plt\n",
    "# Plot outputs\n",
    "plt.scatter(X, y,  color='blue')# actual values from the dataset\n",
    "plt.plot(X, predictions, color='red', linewidth=2)# predicted values by the model\n",
    "\n",
    "plt.xticks(())\n",
    "plt.yticks(())\n",
    "\n",
    "plt.show()"
   ]
  },
  {
   "cell_type": "markdown",
   "metadata": {},
   "source": [
    "### Evaluation \n",
    "\n",
    "* The above steps can be considered as some way of evaluating the model and get better understanding on how it performs across different instances. However, a more common and easier approach is to use Python `sklearn` library and let it do the job for you. \n",
    "* The lines of code below compute the metrics (MAE, MSE, RMSE) that were discussed in the lecture. Recall, these are defined as follows:\n",
    "\n",
    " - Mean Absolute Error $MAE= \\frac{1}{n}\\sum_{i=1}^{n}|y-\\hat{y}|$, where $y$ is the actual output and $\\hat{y}$ is the predicted value  \n",
    "\n",
    " - Mean Squared Error $MSE= \\frac{1}{n}\\sum_{i=1}^{n}|y-\\hat{y}|^2$, where $y$ is the actual output and $\\hat{y}$ is the predicted value \n",
    " \n",
    " - Root Mean Squared Error $RMSE=\\sqrt{ \\frac{1}{n}\\sum_{i=1}^{n}|y-\\hat{y}|^2}$, where $y$ is the actual output and $\\hat{y}$ is the predicted value  \n",
    "\n",
    "\n",
    "\n"
   ]
  },
  {
   "cell_type": "code",
   "execution_count": 15,
   "metadata": {},
   "outputs": [
    {
     "name": "stdout",
     "output_type": "stream",
     "text": [
      "Mean Absolute Error: 2.549806038927486\n",
      "Mean Squared Error: 10.512652915656757\n",
      "Root Mean Squared Error: 3.2423221486546887\n"
     ]
    }
   ],
   "source": [
    "from sklearn import metrics\n",
    "print('Mean Absolute Error:', metrics.mean_absolute_error(y, predictions))\n",
    "print('Mean Squared Error:', metrics.mean_squared_error(y, predictions))\n",
    "print('Root Mean Squared Error:', np.sqrt(metrics.mean_squared_error(y, predictions)))"
   ]
  },
  {
   "cell_type": "markdown",
   "metadata": {},
   "source": [
    "### Stats Model\n",
    "\n",
    "* One final thing about linear regression. You can also use the stats library in Python. This does the same job, but easier to get the `p-value` through this library. This value is important as will be discussed shortly. \n",
    "* If not installed in your system, simply do so by `!pip install statsmodels`"
   ]
  },
  {
   "cell_type": "code",
   "execution_count": 16,
   "metadata": {},
   "outputs": [
    {
     "name": "stdout",
     "output_type": "stream",
     "text": [
      "Intercept    7.032594\n",
      "TV           0.047537\n",
      "dtype: float64\n"
     ]
    }
   ],
   "source": [
    "\n",
    "import statsmodels.formula.api as sm\n",
    "\n",
    "# create a fitted model (predict sales given tv investment)\n",
    "lm1 = sm.ols(formula='Sales ~ TV', data=df).fit()\n",
    "#  check the coefficients\n",
    "print(lm1.params)\n"
   ]
  },
  {
   "cell_type": "code",
   "execution_count": 17,
   "metadata": {},
   "outputs": [
    {
     "data": {
      "text/plain": [
       "0    17.966021\n",
       "dtype: float64"
      ]
     },
     "execution_count": 17,
     "metadata": {},
     "output_type": "execute_result"
    }
   ],
   "source": [
    "# And also we can perform predictions same way \n",
    "# Lets check how much sales increase would be if we invest 230 in TV Adverts\n",
    "X_new = pd.DataFrame({'TV': [230]})\n",
    "# predict for a new observation\n",
    "lm1.predict(X_new)\n"
   ]
  },
  {
   "cell_type": "markdown",
   "metadata": {},
   "source": [
    "### Hypothesis Testing and p-values\n",
    "\n",
    "When we aim at understanding how one feature influences the outcome (i.e. how TV spending increases/ decreases Sales), we start with what is called **null hypothesis** and an **alternative hypothesis**. Then check if our data supports / rejects one of them. \n",
    "* In our example, the **null hypothesis**: There is no relationship between $TV$ ads and Sales \n",
    "* And the **alternative hypothesis**: There is a relationship between TV ads and Sales\n",
    "* But then, how do we test this hypothesis? The simplest way is to consider the **p-value**.  Consider the code below to get this value:"
   ]
  },
  {
   "cell_type": "code",
   "execution_count": 18,
   "metadata": {},
   "outputs": [
    {
     "name": "stdout",
     "output_type": "stream",
     "text": [
      "The p value is Intercept    1.406300e-35\n",
      "TV           1.467390e-42\n",
      "dtype: float64\n"
     ]
    }
   ],
   "source": [
    "# print the p-values for the model coefficients\n",
    "print(f'The p value is {lm1.pvalues}')"
   ]
  },
  {
   "cell_type": "markdown",
   "metadata": {},
   "source": [
    "* A **p-value** less than **0.05** is one way to decide that there is likely a relationship between the feature and the response.! As shown in the results above the **p-value** for $TV$ feature is very small value, which indicates that there is relation between between the feature $TV$ and the response $Sales$. You can re-print the p-value in a non-scientific format as below\n",
    "\n"
   ]
  },
  {
   "cell_type": "code",
   "execution_count": 19,
   "metadata": {},
   "outputs": [
    {
     "name": "stdout",
     "output_type": "stream",
     "text": [
      "The p-value is  0.00000000000000000000000000000000000000000146739000\n"
     ]
    }
   ],
   "source": [
    "a = 1.467390e-42\n",
    "output = f\"{a:.50f}\"\n",
    "print('The p-value is ',output)"
   ]
  },
  {
   "cell_type": "markdown",
   "metadata": {},
   "source": [
    "## Multiple Linear Regression\n",
    " \n",
    "\n",
    "* Similar to single/ simple linear regression. We also want to map $X$ to $Y$, but $X$ here is representing more than one input feature in your dataset. \n",
    "* Recall also that we have input features ($X$), and Response variable (dependent varialble), the code below subsets the original dataset into two sperate sets\n",
    "\n"
   ]
  },
  {
   "cell_type": "code",
   "execution_count": 20,
   "metadata": {},
   "outputs": [],
   "source": [
    "# prepare the data \n",
    "X = df[['TV','Radio','Newspaper']]\n",
    "y = df['Sales']\n"
   ]
  },
  {
   "cell_type": "markdown",
   "metadata": {},
   "source": [
    "* Then just as we did above, we firt, create an instance of the class LinearRegression, which will represent the regression model:"
   ]
  },
  {
   "cell_type": "code",
   "execution_count": 21,
   "metadata": {},
   "outputs": [],
   "source": [
    "model = LinearRegression()"
   ]
  },
  {
   "cell_type": "markdown",
   "metadata": {},
   "source": [
    "* Fit the model using the `fit()` method and print the coefficients"
   ]
  },
  {
   "cell_type": "code",
   "execution_count": 22,
   "metadata": {},
   "outputs": [
    {
     "name": "stdout",
     "output_type": "stream",
     "text": [
      "Intercept: \n",
      " 2.938889369459412\n",
      "Coefficients: \n",
      " [ 0.04576465  0.18853002 -0.00103749]\n"
     ]
    }
   ],
   "source": [
    "model.fit(X, y)\n",
    "# print  the coefficients\n",
    "print('Intercept: \\n', model.intercept_)\n",
    "print('Coefficients: \\n', model.coef_)\n"
   ]
  },
  {
   "cell_type": "markdown",
   "metadata": {},
   "source": [
    "* You may want to print the coefficients in a better format (i.e. Data Frame)"
   ]
  },
  {
   "cell_type": "code",
   "execution_count": 23,
   "metadata": {},
   "outputs": [
    {
     "data": {
      "text/html": [
       "<div>\n",
       "<style scoped>\n",
       "    .dataframe tbody tr th:only-of-type {\n",
       "        vertical-align: middle;\n",
       "    }\n",
       "\n",
       "    .dataframe tbody tr th {\n",
       "        vertical-align: top;\n",
       "    }\n",
       "\n",
       "    .dataframe thead th {\n",
       "        text-align: right;\n",
       "    }\n",
       "</style>\n",
       "<table border=\"1\" class=\"dataframe\">\n",
       "  <thead>\n",
       "    <tr style=\"text-align: right;\">\n",
       "      <th></th>\n",
       "      <th>Coefficient</th>\n",
       "    </tr>\n",
       "  </thead>\n",
       "  <tbody>\n",
       "    <tr>\n",
       "      <td>TV</td>\n",
       "      <td>0.045765</td>\n",
       "    </tr>\n",
       "    <tr>\n",
       "      <td>Radio</td>\n",
       "      <td>0.188530</td>\n",
       "    </tr>\n",
       "    <tr>\n",
       "      <td>Newspaper</td>\n",
       "      <td>-0.001037</td>\n",
       "    </tr>\n",
       "  </tbody>\n",
       "</table>\n",
       "</div>"
      ],
      "text/plain": [
       "           Coefficient\n",
       "TV            0.045765\n",
       "Radio         0.188530\n",
       "Newspaper    -0.001037"
      ]
     },
     "execution_count": 23,
     "metadata": {},
     "output_type": "execute_result"
    }
   ],
   "source": [
    "model_coeffs = pd.DataFrame(model.coef_, X.columns, columns=['Coefficient'])\n",
    "model_coeffs"
   ]
  },
  {
   "cell_type": "markdown",
   "metadata": {},
   "source": [
    "* To make predictions, we need to input three features in this case $TV$, $Radio$ and $Newspapers$ representing advertisement spending in these media"
   ]
  },
  {
   "cell_type": "code",
   "execution_count": 24,
   "metadata": {},
   "outputs": [
    {
     "name": "stdout",
     "output_type": "stream",
     "text": [
      "Investing 2.75 in Tv and 5.3 in Radio and 1000 in Newspaper                 \n",
      " will generate [3.02645819]\n"
     ]
    }
   ],
   "source": [
    "# prediction with sklearn\n",
    "TV = 2.75\n",
    "Radio = 5.3\n",
    "Newspaper = 1000\n",
    "print(f'Investing {TV} in Tv and {Radio} in Radio and {Newspaper} in Newspaper \\\n",
    "                \\n will generate {model.predict([[TV, Radio, Newspaper]])}')\n",
    "\n"
   ]
  },
  {
   "cell_type": "markdown",
   "metadata": {},
   "source": [
    "* Lets predict sale values for all the dataset, and find the results "
   ]
  },
  {
   "cell_type": "code",
   "execution_count": 25,
   "metadata": {},
   "outputs": [
    {
     "name": "stdout",
     "output_type": "stream",
     "text": [
      "Mean Absolute Error: 1.252011229687068\n",
      "Mean Squared Error: 2.784126314510936\n",
      "Root Mean Squared Error: 1.6685701407225697\n"
     ]
    }
   ],
   "source": [
    "predictions = model.predict(X)\n",
    "print('Mean Absolute Error:', metrics.mean_absolute_error(y, predictions))\n",
    "print('Mean Squared Error:', metrics.mean_squared_error(y, predictions))\n",
    "print('Root Mean Squared Error:', np.sqrt(metrics.mean_squared_error(y, predictions)))"
   ]
  },
  {
   "cell_type": "markdown",
   "metadata": {},
   "source": [
    "* You can also make manual predictions as done before, recall that our model is in the form of $B_{0}$+$B_{1}X_1$+,...+$B_nX_n$=$\\hat{y}$"
   ]
  },
  {
   "cell_type": "code",
   "execution_count": 26,
   "metadata": {},
   "outputs": [],
   "source": [
    "new_sales = 2.938889369459412+ (0.04576465*TV) +  (0.18853002*Radio)  -(0.00103749*Newspaper)"
   ]
  },
  {
   "cell_type": "code",
   "execution_count": 27,
   "metadata": {},
   "outputs": [
    {
     "name": "stdout",
     "output_type": "stream",
     "text": [
      "The new Sales value is 3.026461262959412\n"
     ]
    }
   ],
   "source": [
    "print(f'The new Sales value is {new_sales}')"
   ]
  },
  {
   "cell_type": "markdown",
   "metadata": {},
   "source": [
    "## Note about Linear Models \n",
    "\n",
    "Linear regression models are common, and good way to get some insights about your data. However, they are rarely used as a prediction model (as we did here). This is simply, because most problems are non-linear. Therefore, other models should be considered. Even with a simple plot as shown below, we can see that this relation between spending on certain media ads and the increase in sales is always existing.\n",
    "\n",
    "\n",
    "\n"
   ]
  },
  {
   "cell_type": "code",
   "execution_count": 28,
   "metadata": {},
   "outputs": [
    {
     "data": {
      "text/plain": [
       "<seaborn.axisgrid.PairGrid at 0x12a2fc0d0>"
      ]
     },
     "execution_count": 28,
     "metadata": {},
     "output_type": "execute_result"
    },
    {
     "data": {
      "image/png": "[encoded data removed]",
      "text/plain": [
       "<Figure size 851.472x432 with 3 Axes>"
      ]
     },
     "metadata": {
      "needs_background": "light"
     },
     "output_type": "display_data"
    }
   ],
   "source": [
    "# plot tv, radio and newspapers against sales \n",
    "sns.pairplot(df, x_vars=['TV','Radio','Newspaper'], y_vars='Sales', height=6, aspect=0.657, kind='reg')"
   ]
  },
  {
   "cell_type": "markdown",
   "metadata": {},
   "source": [
    "## Streamlit\n",
    "\n",
    "Streamlit is a great new tool (python library) that enables you to quickly build and interactive web application based on your data. In this part of the tutorial we will be using `streamlit` to create a simple front-end that enables the users to perform predictions. Our model in this case is represented by the coefficients that we learnt from our Linear Model. Therefore, we will design our solution so that users input the number of units they want to spend on $TV$, $Radio$ and so on. Then, the increase in sales will be predicted (see manual predictions above). \n",
    "\n",
    "https://docs.streamlit.io/en/stable/tutorial/index.html\n"
   ]
  },
  {
   "cell_type": "markdown",
   "metadata": {},
   "source": [
    "### Setup \n",
    "\n",
    "Preparing your environment to use streamlit is as simple as the following two lines of code below. In other words, you just need to ensure that `streamlit` is installed like any other python library. Notice, that the commands below are commented because I already have `streamlit` installed. So you only issue this once. \n",
    "\n",
    "\n"
   ]
  },
  {
   "cell_type": "code",
   "execution_count": 29,
   "metadata": {},
   "outputs": [
    {
     "data": {
      "text/plain": [
       "'\\n!pip install streamlit\\n!streamlit hello\\n'"
      ]
     },
     "execution_count": 29,
     "metadata": {},
     "output_type": "execute_result"
    }
   ],
   "source": [
    "'''\n",
    "!pip install streamlit\n",
    "!streamlit hello\n",
    "'''"
   ]
  },
  {
   "cell_type": "markdown",
   "metadata": {},
   "source": [
    "### Your First Application \n",
    "\n",
    "In order to run streamlit, first you need to create your Python code and save it in a file (**.py**). And lets call it **myapp.py**. You can use Jupyter or a text editor to create the file. On campus moodle module's page, you will find **myapp.py**, you can download it, ensure that you also download the **Advertising.csv** file, and then run the app from your command line using the command below:  \n",
    "\n",
    "\\$ `streamlit run` **myapp.py**. \n",
    "\n",
    "Explore the code in the file. You will notice that is is just python code: "
   ]
  },
  {
   "cell_type": "code",
   "execution_count": 261,
   "metadata": {},
   "outputs": [],
   "source": [
    "# import required libraries \n",
    "import streamlit as st #**\n",
    "import numpy as np\n",
    "import pandas as pd"
   ]
  },
  {
   "cell_type": "markdown",
   "metadata": {},
   "source": [
    "The second step, we created a title for the application:\n",
    "`st.title('Adevrtising-Sales')`\n"
   ]
  },
  {
   "cell_type": "markdown",
   "metadata": {},
   "source": [
    "Notice some of the important key features within streamlit that were used to add some text into the front pages and customised messages to users:\n",
    "* `streamlit.markdown( )` allows you to also add markdown into the screen \n",
    "* `streamlit.info( )`, you can show a message to the user\n",
    "* `streamlit.write( )` allows you to write some text\n",
    "\n",
    "Adding check boxes, radio buttons, sliders, etc... are all simple to do, below is a simple example from our file to add a check box. Notice, that once this button is checked, few records of the data frame will be displayed. \n",
    "\n",
    "`show_df = st.checkbox('Explore the Dataset',False)`\n",
    "\n",
    "Another key feature is the streamlit cache. In the code below, we cached the `get_data()` function, because we don't want to read the data every time, we change something in the app \n",
    "\n",
    "`@st.cache\n",
    "def get_data():\n",
    "    df = pd.read_csv('data/Adevrtising.csv')\n",
    "    return df`\n"
   ]
  },
  {
   "cell_type": "markdown",
   "metadata": {},
   "source": [
    "**Note**: One very nice feature about working with `streamlit`, is that once you run the application, you can open your  your **.py** file in any text editor , along side the web app, and any changes to do to the code, once you save it, you will instantly see the results (more about this in the lab). \n",
    "\n"
   ]
  },
  {
   "cell_type": "markdown",
   "metadata": {},
   "source": [
    "## Lab Exercise \n",
    "\n",
    "* One thing that hasn't been done in the above tutorial is to test the model's on unseen data. In other words, we have trained our model using the dataset in the dataframe, and evaluated its performance using the same data. This doesn’t guarantee that our model will perform well on unseen data\n",
    "\n",
    "* In machine learning, to ensure that our model can generalise to new data, we often split the dataset into two subsets, `training` set, where we used 70 or 80% of the data, and the remaining for the `testing` set. We then use the training set to train our model, once done, we use the testing set to validate the models performance. \n",
    "\n"
   ]
  },
  {
   "cell_type": "markdown",
   "metadata": {},
   "source": [
    "### Train-Test Data\n",
    "\n",
    "\n",
    "In this task, you will split the dataset into training set (of 80% of the records), and testing set for the remaining. The code below should help you do the task.\n"
   ]
  },
  {
   "cell_type": "markdown",
   "metadata": {},
   "source": [
    "\n",
    "A simple way split the dataset into training and testing sets can be as follows:"
   ]
  },
  {
   "cell_type": "code",
   "execution_count": 57,
   "metadata": {},
   "outputs": [
    {
     "name": "stdout",
     "output_type": "stream",
     "text": [
      "80% of the 200 is 160\n"
     ]
    }
   ],
   "source": [
    "# first compute the 80% size of the data\n",
    "train_size = int(.8 * df.shape[0])# cast to intger\n",
    "print (f'80% of the {df.shape[0]} is {train_size}')"
   ]
  },
  {
   "cell_type": "code",
   "execution_count": 54,
   "metadata": {},
   "outputs": [],
   "source": [
    "# using slicing to create two data frames as below \n",
    "train_df = df[:train_size]\n",
    "test_df  = df[train_size:]"
   ]
  },
  {
   "cell_type": "code",
   "execution_count": 60,
   "metadata": {},
   "outputs": [
    {
     "name": "stdout",
     "output_type": "stream",
     "text": [
      "Split is correct\n"
     ]
    }
   ],
   "source": [
    "# Check if the total size of both train and test = the original size \n",
    "if ((train_df.shape[0]+test_df.shape[0]) == df.shape[0]):\n",
    "    print('Split is correct')\n",
    "    "
   ]
  },
  {
   "cell_type": "markdown",
   "metadata": {},
   "source": [
    "### Train the Model \n",
    "\n",
    "Now, you need to create your Linear Regression Model (as we did above) and train it using the `train_df` dataset. Once complete, make sure you perform predictions, and compute the main evaluation metrics as we did, these include MAE, MSE, and RMSE. "
   ]
  },
  {
   "cell_type": "markdown",
   "metadata": {},
   "source": [
    "### Test the Model\n",
    "\n",
    "Finally, you will need to use your model to perform predictions on the `test_df` dataset. Again, here you need to compute the above metrics for evaluation. Then compare performance on of the model on both training and testing set."
   ]
  },
  {
   "cell_type": "markdown",
   "metadata": {},
   "source": [
    "**Note**: A more common way we use to split the data is using the  `sklearn.model_selection.train_test_split(*arrays, **options)` to split the data into two sets for you. But the above method should do for this taks. \n",
    "    "
   ]
  },
  {
   "cell_type": "markdown",
   "metadata": {},
   "source": [
    "## Reproducible Work \n",
    "\n",
    "Everything you saw in this document was produced using Jupyter Notebook. It contains `code` and just normal text that explains what is going on. The text, math formulas, and other stuff you saw is created inside the Mardown Cells of the Notebook. Notice, that with Jupyter cells have different types, such as Code, Markdown, and others. \n",
    "\n",
    "Once the Notebook is finished, it can be saved and also can be downloaded as PDF file. You can also download it as a Latex file (source code), which can then be edited using Latex Editor or the online Editor  https://www.overleaf.com/. You can find more about markdown at this link https://daringfireball.net/projects/markdown/.\n",
    "\n",
    "It is **important** that you develop basic understanding of Jupyter Notebook, and Markdown. You need to prepare your Coursework as a reproducible document, just like this one, with appropriate structure, discussion, and the code that produced the results. More about this in the Lab demos. \n",
    "\n"
   ]
  },
  {
   "cell_type": "code",
   "execution_count": null,
   "metadata": {},
   "outputs": [],
   "source": []
  }
 ],
 "metadata": {
  "kernelspec": {
   "display_name": "Python 3",
   "language": "python",
   "name": "python3"
  },
  "language_info": {
   "codemirror_mode": {
    "name": "ipython",
    "version": 3
   },
   "file_extension": ".py",
   "mimetype": "text/x-python",
   "name": "python",
   "nbconvert_exporter": "python",
   "pygments_lexer": "ipython3",
   "version": "3.7.4"
  }
 },
 "nbformat": 4,
 "nbformat_minor": 2
}
