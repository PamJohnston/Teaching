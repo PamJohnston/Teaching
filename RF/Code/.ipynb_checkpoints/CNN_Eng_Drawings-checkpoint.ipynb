{
 "cells": [
  {
   "cell_type": "markdown",
   "metadata": {},
   "source": [
    "# Symbols in Engineering Drawings\n",
    "\n",
    "In this tutorial, we will use Random Forest Classifier to build a model that can learn the class of symbols of engineering diagrams.  These symbols appear in engineering diagrams that are called Piping and Instrumentation Diagrams (P & ID), and they are very common in the Oil and Gas industry.  You may want to see our [VIDEO Demo](https://youtu.be/8e1n7mIvACw) on processing and analysing these P&IDs using advance Deep Learning methods! Or refer to our papers if you are interested in knowing more about this problem: \n",
    "\n",
    "- E. Elyan, L Jamieson, A. A. Gombe, “Deep learning for symbols detection and classification in engineering drawings”, Neural Networks, 129:91-102, 2020, Elsevier, [DOI 10.1016/j.neunet.2020.05.025](https://doi.org/10.1016/j.neunet.2020.05.025)\n",
    "- E. Elyan, C.G. Moreno and P. Johnston, “Symbols in Engineering Drawings (SiED): An Imbalanced Dataset Benchmarked by Convolutional Neural Networks”, In 2020 International Joint Conference of the 21st EANN (Engineering Applications of Neural Networks), EANN 2020. Proceedings of the International Neural Networks Society, vol 2. Springer, Cham, [DOI 10.1007/978-3-030-48791-1_16](https://doi.org/10.1007/978-3-030-48791-1_16)\n",
    "\n",
    "- E. Elyan,C.G. Moreno and C. Jayne, “Symbols classification in engineering drawings”, 2018 International Joint Conference on Neural Networks (IJCNN), Rio de Janeiro, Brazil, 2018, pp. 1-8. [DOI 10.1109/IJCNN.2018.8489087](http://dx.doi.org/10.1109/IJCNN.2018.8489087)\n",
    "\n",
    "In this tutorial we will focus on classification of symbols, more specifically:\n",
    "\n",
    "* You will learn how to load, view and classify instances representing 2D images \n",
    "* Create and evaluate A Random Forest Model Classifier (Bagging ensemble-based method) using `sklearn.ensemble.RandomForestClassifie` library \n",
    "* Make predictions and visualise the results \n",
    "\n",
    "***Note*** If you are trying to predict a continous value (e.g. regression problem), then you can use `sklearn.ensemble.RandomForestRegressor`"
   ]
  },
  {
   "cell_type": "markdown",
   "metadata": {},
   "source": [
    "## Loading Data\n",
    "\n",
    "Our data is stored in a ***Symbols_pixel.csv*** file. Each record in the file is 10001 features-wide (number of columns) representing one image of size $100\\times100$ pixels and the label of the symbol. \n"
   ]
  },
  {
   "cell_type": "code",
   "execution_count": 210,
   "metadata": {},
   "outputs": [],
   "source": [
    "# import libraries \n",
    "import pandas as pd \n",
    "import matplotlib.pyplot as plt \n",
    "import seaborn as sns \n",
    "import numpy as np\n",
    "# read the file \n",
    "df = pd.read_csv('../data/Symbols_pixel.csv',header=None)"
   ]
  },
  {
   "cell_type": "markdown",
   "metadata": {},
   "source": [
    "## Quick Exploratory Data Analysis (EDA)\n",
    "\n",
    "Lets do a quick data exploration, this will include finding the size of the dataset, showing few records, and also show the columns names in the data –if any-!\n"
   ]
  },
  {
   "cell_type": "code",
   "execution_count": 211,
   "metadata": {},
   "outputs": [
    {
     "name": "stdout",
     "output_type": "stream",
     "text": [
      "df has 2432 rows, and 10001 columns\n"
     ]
    }
   ],
   "source": [
    "# dataset size \n",
    "print(f'df has {df.shape[0]} rows, and {df.shape[1]} columns')"
   ]
  },
  {
   "attachments": {},
   "cell_type": "markdown",
   "metadata": {},
   "source": [
    "* Lets show the first five rows of our dataset, first 5 columns and the last column. We will do this using **pandas** slicing by indexing\n"
   ]
  },
  {
   "cell_type": "code",
   "execution_count": 212,
   "metadata": {},
   "outputs": [
    {
     "data": {
      "text/html": [
       "<div>\n",
       "<style scoped>\n",
       "    .dataframe tbody tr th:only-of-type {\n",
       "        vertical-align: middle;\n",
       "    }\n",
       "\n",
       "    .dataframe tbody tr th {\n",
       "        vertical-align: top;\n",
       "    }\n",
       "\n",
       "    .dataframe thead th {\n",
       "        text-align: right;\n",
       "    }\n",
       "</style>\n",
       "<table border=\"1\" class=\"dataframe\">\n",
       "  <thead>\n",
       "    <tr style=\"text-align: right;\">\n",
       "      <th></th>\n",
       "      <th>0</th>\n",
       "      <th>1</th>\n",
       "      <th>2</th>\n",
       "      <th>3</th>\n",
       "      <th>4</th>\n",
       "      <th>10000</th>\n",
       "    </tr>\n",
       "  </thead>\n",
       "  <tbody>\n",
       "    <tr>\n",
       "      <td>0</td>\n",
       "      <td>0</td>\n",
       "      <td>0</td>\n",
       "      <td>0</td>\n",
       "      <td>0</td>\n",
       "      <td>0</td>\n",
       "      <td>Arrowhead</td>\n",
       "    </tr>\n",
       "    <tr>\n",
       "      <td>1</td>\n",
       "      <td>255</td>\n",
       "      <td>255</td>\n",
       "      <td>255</td>\n",
       "      <td>255</td>\n",
       "      <td>255</td>\n",
       "      <td>Arrowhead</td>\n",
       "    </tr>\n",
       "    <tr>\n",
       "      <td>2</td>\n",
       "      <td>255</td>\n",
       "      <td>255</td>\n",
       "      <td>255</td>\n",
       "      <td>255</td>\n",
       "      <td>255</td>\n",
       "      <td>Arrowhead</td>\n",
       "    </tr>\n",
       "    <tr>\n",
       "      <td>3</td>\n",
       "      <td>255</td>\n",
       "      <td>255</td>\n",
       "      <td>255</td>\n",
       "      <td>255</td>\n",
       "      <td>255</td>\n",
       "      <td>Arrowhead</td>\n",
       "    </tr>\n",
       "    <tr>\n",
       "      <td>4</td>\n",
       "      <td>255</td>\n",
       "      <td>255</td>\n",
       "      <td>255</td>\n",
       "      <td>255</td>\n",
       "      <td>255</td>\n",
       "      <td>Arrowhead</td>\n",
       "    </tr>\n",
       "  </tbody>\n",
       "</table>\n",
       "</div>"
      ],
      "text/plain": [
       "   0      1      2      3      4          10000\n",
       "0      0      0      0      0      0  Arrowhead\n",
       "1    255    255    255    255    255  Arrowhead\n",
       "2    255    255    255    255    255  Arrowhead\n",
       "3    255    255    255    255    255  Arrowhead\n",
       "4    255    255    255    255    255  Arrowhead"
      ]
     },
     "execution_count": 212,
     "metadata": {},
     "output_type": "execute_result"
    }
   ],
   "source": [
    "\n",
    "df.iloc[:5, list(range(5)) + [-1]]\n"
   ]
  },
  {
   "attachments": {},
   "cell_type": "markdown",
   "metadata": {},
   "source": [
    "### Features Names\n",
    "\n",
    "As you can see above, our data has no headers. In fact, we don't need columns headers for such types of datasets. However, and for clarity, lets add headers for each column in our dataset. It is also a good practice when dealing with other types of data. We will use $p\\_1, p\\_2, p\\_3, ….$ to denote the first, second, third pixels value in the images, and so on. In python, this can be done as follows:\n"
   ]
  },
  {
   "cell_type": "code",
   "execution_count": 213,
   "metadata": {},
   "outputs": [],
   "source": [
    "# Extract columns number in the dataset\n",
    "num_cols = df.shape[1]\n",
    "\n",
    "# generate range of integer values \n",
    "rng = range(1, (num_cols))## (1, 10000)\n",
    "'''\n",
    "create list of columns names, \n",
    "add prefix for each number, \n",
    "'''\n",
    "new_cols =  ['p_' + str(i) for i in rng]#\n",
    "#and store in the list\n",
    "new_cols.append('label')\n",
    "# update the columns names in the dataset\n",
    "df.columns = new_cols[:num_cols]\n"
   ]
  },
  {
   "cell_type": "markdown",
   "metadata": {},
   "source": [
    "* Again, * Lets show the first five rows of our dataset, first 5 columns and the last column. We will do this using **pandas** slicing by indexing\n"
   ]
  },
  {
   "cell_type": "code",
   "execution_count": 214,
   "metadata": {},
   "outputs": [
    {
     "data": {
      "text/html": [
       "<div>\n",
       "<style scoped>\n",
       "    .dataframe tbody tr th:only-of-type {\n",
       "        vertical-align: middle;\n",
       "    }\n",
       "\n",
       "    .dataframe tbody tr th {\n",
       "        vertical-align: top;\n",
       "    }\n",
       "\n",
       "    .dataframe thead th {\n",
       "        text-align: right;\n",
       "    }\n",
       "</style>\n",
       "<table border=\"1\" class=\"dataframe\">\n",
       "  <thead>\n",
       "    <tr style=\"text-align: right;\">\n",
       "      <th></th>\n",
       "      <th>p_1</th>\n",
       "      <th>p_2</th>\n",
       "      <th>p_3</th>\n",
       "      <th>p_4</th>\n",
       "      <th>p_5</th>\n",
       "      <th>label</th>\n",
       "    </tr>\n",
       "  </thead>\n",
       "  <tbody>\n",
       "    <tr>\n",
       "      <td>0</td>\n",
       "      <td>0</td>\n",
       "      <td>0</td>\n",
       "      <td>0</td>\n",
       "      <td>0</td>\n",
       "      <td>0</td>\n",
       "      <td>Arrowhead</td>\n",
       "    </tr>\n",
       "    <tr>\n",
       "      <td>1</td>\n",
       "      <td>255</td>\n",
       "      <td>255</td>\n",
       "      <td>255</td>\n",
       "      <td>255</td>\n",
       "      <td>255</td>\n",
       "      <td>Arrowhead</td>\n",
       "    </tr>\n",
       "    <tr>\n",
       "      <td>2</td>\n",
       "      <td>255</td>\n",
       "      <td>255</td>\n",
       "      <td>255</td>\n",
       "      <td>255</td>\n",
       "      <td>255</td>\n",
       "      <td>Arrowhead</td>\n",
       "    </tr>\n",
       "    <tr>\n",
       "      <td>3</td>\n",
       "      <td>255</td>\n",
       "      <td>255</td>\n",
       "      <td>255</td>\n",
       "      <td>255</td>\n",
       "      <td>255</td>\n",
       "      <td>Arrowhead</td>\n",
       "    </tr>\n",
       "    <tr>\n",
       "      <td>4</td>\n",
       "      <td>255</td>\n",
       "      <td>255</td>\n",
       "      <td>255</td>\n",
       "      <td>255</td>\n",
       "      <td>255</td>\n",
       "      <td>Arrowhead</td>\n",
       "    </tr>\n",
       "  </tbody>\n",
       "</table>\n",
       "</div>"
      ],
      "text/plain": [
       "   p_1  p_2  p_3  p_4  p_5      label\n",
       "0    0    0    0    0    0  Arrowhead\n",
       "1  255  255  255  255  255  Arrowhead\n",
       "2  255  255  255  255  255  Arrowhead\n",
       "3  255  255  255  255  255  Arrowhead\n",
       "4  255  255  255  255  255  Arrowhead"
      ]
     },
     "execution_count": 214,
     "metadata": {},
     "output_type": "execute_result"
    }
   ],
   "source": [
    "df.iloc[:5, list(range(5)) + [-1]]"
   ]
  },
  {
   "attachments": {},
   "cell_type": "markdown",
   "metadata": {},
   "source": [
    "### Display Symbols\n",
    "\n",
    "Lets view some of the instances (rows) in our dataset as images. Recall, each row in our dataset  is a $100 \\times 100$ pixels wide, and represents an image of an engineering symbol with an extra column for the label. Note, that in the code below, we generate random number to represent which record will be displayed. If you run the code below more than one time, then you should get different symbols ***(try it)***:\n"
   ]
  },
  {
   "cell_type": "code",
   "execution_count": 215,
   "metadata": {},
   "outputs": [
    {
     "data": {
      "image/png": "[encoded data removed]",
      "text/plain": [
       "<Figure size 432x432 with 64 Axes>"
      ]
     },
     "metadata": {},
     "output_type": "display_data"
    }
   ],
   "source": [
    "from random import randint\n",
    "# extract labels (all rows, and last column)\n",
    "n = df.shape[1] # number of columns \n",
    "labels =df['label']\n",
    "features= df.iloc[:,0:n-1]\n",
    "\n",
    "# create a grid of 8 by 8\n",
    "fig, ax = plt.subplots(8, 8, figsize=(6, 6))\n",
    "fx = features.values # returns numpy array\n",
    "\n",
    "for i, axi in enumerate(ax.flat):\n",
    "    # get random index for an image in the dataset\n",
    "    value = randint(0, df.shape[0])\n",
    "    axi.imshow(fx[value].reshape(100,100), cmap='gray')\n",
    "    axi.set(xticks=[], yticks=[])"
   ]
  },
  {
   "attachments": {},
   "cell_type": "markdown",
   "metadata": {},
   "source": [
    "### Class Distribution\n",
    "\n",
    "As always, one of the first things we should always check is the class distribution in the dataset. How many symbol of each type is represented in this dataset. To do so, simply use `df['label'].value_counts()`, below is the code that shows the frequency of top-10 most frequent symbols in our dataset\n"
   ]
  },
  {
   "cell_type": "code",
   "execution_count": 216,
   "metadata": {},
   "outputs": [
    {
     "data": {
      "text/html": [
       "<div>\n",
       "<style scoped>\n",
       "    .dataframe tbody tr th:only-of-type {\n",
       "        vertical-align: middle;\n",
       "    }\n",
       "\n",
       "    .dataframe tbody tr th {\n",
       "        vertical-align: top;\n",
       "    }\n",
       "\n",
       "    .dataframe thead th {\n",
       "        text-align: right;\n",
       "    }\n",
       "</style>\n",
       "<table border=\"1\" class=\"dataframe\">\n",
       "  <thead>\n",
       "    <tr style=\"text-align: right;\">\n",
       "      <th></th>\n",
       "      <th>Count</th>\n",
       "    </tr>\n",
       "  </thead>\n",
       "  <tbody>\n",
       "    <tr>\n",
       "      <td>Sensor</td>\n",
       "      <td>392</td>\n",
       "    </tr>\n",
       "    <tr>\n",
       "      <td>Reducer</td>\n",
       "      <td>285</td>\n",
       "    </tr>\n",
       "    <tr>\n",
       "      <td>Arrowhead</td>\n",
       "      <td>240</td>\n",
       "    </tr>\n",
       "    <tr>\n",
       "      <td>Valve Ball</td>\n",
       "      <td>173</td>\n",
       "    </tr>\n",
       "    <tr>\n",
       "      <td>DB&amp;BBV</td>\n",
       "      <td>127</td>\n",
       "    </tr>\n",
       "    <tr>\n",
       "      <td>Valve Check</td>\n",
       "      <td>126</td>\n",
       "    </tr>\n",
       "    <tr>\n",
       "      <td>Continuity Label</td>\n",
       "      <td>116</td>\n",
       "    </tr>\n",
       "    <tr>\n",
       "      <td>DB&amp;BPV</td>\n",
       "      <td>113</td>\n",
       "    </tr>\n",
       "    <tr>\n",
       "      <td>Valve Plug</td>\n",
       "      <td>88</td>\n",
       "    </tr>\n",
       "    <tr>\n",
       "      <td>Arrowhead + Triangle</td>\n",
       "      <td>83</td>\n",
       "    </tr>\n",
       "  </tbody>\n",
       "</table>\n",
       "</div>"
      ],
      "text/plain": [
       "                      Count\n",
       "Sensor                  392\n",
       "Reducer                 285\n",
       "Arrowhead               240\n",
       "Valve Ball              173\n",
       "DB&BBV                  127\n",
       "Valve Check             126\n",
       "Continuity Label        116\n",
       "DB&BPV                  113\n",
       "Valve Plug               88\n",
       "Arrowhead + Triangle     83"
      ]
     },
     "execution_count": 216,
     "metadata": {},
     "output_type": "execute_result"
    }
   ],
   "source": [
    "pd.DataFrame({'Count':df['label'].value_counts()}).head(10)"
   ]
  },
  {
   "attachments": {},
   "cell_type": "markdown",
   "metadata": {},
   "source": [
    "Another way to check the class-distribution is to use bar plots to show the frequency of various symbols. Knowing class distribution is important, as Machine Learning algorithms tend to be biased toward majority class instances. In other words, if class **A** represents 97% of the data, while class **B** is only **3%** of the data, then it is very likely that your machine learning algorithm will be learn to classify instances belonging to class **A** better than it does with **B**\n"
   ]
  },
  {
   "cell_type": "code",
   "execution_count": 217,
   "metadata": {},
   "outputs": [
    {
     "data": {
      "image/png": "[encoded data removed]",
      "text/plain": [
       "<Figure size 864x432 with 1 Axes>"
      ]
     },
     "metadata": {},
     "output_type": "display_data"
    }
   ],
   "source": [
    "import seaborn as sns\n",
    "\n",
    "sns.set_style(\"whitegrid\")\n",
    "plt.figure(figsize=(12,6))\n",
    "\n",
    "plt.hist(labels,bins=39)\n",
    "plt.title('Symbols Distribution')\n",
    "plt.xlabel('Symbol Class')\n",
    "plt.ylabel('Count')\n",
    "\n",
    "plt.xticks(rotation=90)\n",
    "plt.show()"
   ]
  },
  {
   "cell_type": "markdown",
   "metadata": {},
   "source": [
    "Class-imbalance is an inherent problem in Machine Learning, and there are various ways to handle it. For now, it is just important to know if the dataset you are dealing with is imbalanced or not? And as can be seen from the diagram above, our dataset is hugely imbalanced. Some symbols are dominating the data, while others are underrepresented "
   ]
  },
  {
   "attachments": {},
   "cell_type": "markdown",
   "metadata": {},
   "source": [
    "### Missing Values / Outliers \n",
    "\n",
    "And, of course  you will need always to check if there is any missing values in your datasets, this can easily be achieved by `df.isnull().sum()`. Notice, that in this dataset we don't have any missing values.  \n",
    "\n",
    "Another thing, that we should always consider, is to check if we have any outlier values, values that are extremely inconsistent with the rest of the values in our dataset. The easiest way to check for to use `df.describe()`, however, below, I will use this method only on a subset of the dataset, just to show you how to use it. Although, with images, and as can you see below, values range between **0** to **255**, and we often don’t have this problem. \n"
   ]
  },
  {
   "cell_type": "code",
   "execution_count": 218,
   "metadata": {},
   "outputs": [
    {
     "data": {
      "text/html": [
       "<div>\n",
       "<style scoped>\n",
       "    .dataframe tbody tr th:only-of-type {\n",
       "        vertical-align: middle;\n",
       "    }\n",
       "\n",
       "    .dataframe tbody tr th {\n",
       "        vertical-align: top;\n",
       "    }\n",
       "\n",
       "    .dataframe thead th {\n",
       "        text-align: right;\n",
       "    }\n",
       "</style>\n",
       "<table border=\"1\" class=\"dataframe\">\n",
       "  <thead>\n",
       "    <tr style=\"text-align: right;\">\n",
       "      <th></th>\n",
       "      <th>p_1</th>\n",
       "      <th>p_2</th>\n",
       "      <th>p_3</th>\n",
       "      <th>p_4</th>\n",
       "      <th>p_5</th>\n",
       "    </tr>\n",
       "  </thead>\n",
       "  <tbody>\n",
       "    <tr>\n",
       "      <td>count</td>\n",
       "      <td>5.000000</td>\n",
       "      <td>5.000000</td>\n",
       "      <td>5.000000</td>\n",
       "      <td>5.000000</td>\n",
       "      <td>5.000000</td>\n",
       "    </tr>\n",
       "    <tr>\n",
       "      <td>mean</td>\n",
       "      <td>204.000000</td>\n",
       "      <td>204.000000</td>\n",
       "      <td>204.000000</td>\n",
       "      <td>204.000000</td>\n",
       "      <td>204.000000</td>\n",
       "    </tr>\n",
       "    <tr>\n",
       "      <td>std</td>\n",
       "      <td>114.039467</td>\n",
       "      <td>114.039467</td>\n",
       "      <td>114.039467</td>\n",
       "      <td>114.039467</td>\n",
       "      <td>114.039467</td>\n",
       "    </tr>\n",
       "    <tr>\n",
       "      <td>min</td>\n",
       "      <td>0.000000</td>\n",
       "      <td>0.000000</td>\n",
       "      <td>0.000000</td>\n",
       "      <td>0.000000</td>\n",
       "      <td>0.000000</td>\n",
       "    </tr>\n",
       "    <tr>\n",
       "      <td>25%</td>\n",
       "      <td>255.000000</td>\n",
       "      <td>255.000000</td>\n",
       "      <td>255.000000</td>\n",
       "      <td>255.000000</td>\n",
       "      <td>255.000000</td>\n",
       "    </tr>\n",
       "    <tr>\n",
       "      <td>50%</td>\n",
       "      <td>255.000000</td>\n",
       "      <td>255.000000</td>\n",
       "      <td>255.000000</td>\n",
       "      <td>255.000000</td>\n",
       "      <td>255.000000</td>\n",
       "    </tr>\n",
       "    <tr>\n",
       "      <td>75%</td>\n",
       "      <td>255.000000</td>\n",
       "      <td>255.000000</td>\n",
       "      <td>255.000000</td>\n",
       "      <td>255.000000</td>\n",
       "      <td>255.000000</td>\n",
       "    </tr>\n",
       "    <tr>\n",
       "      <td>max</td>\n",
       "      <td>255.000000</td>\n",
       "      <td>255.000000</td>\n",
       "      <td>255.000000</td>\n",
       "      <td>255.000000</td>\n",
       "      <td>255.000000</td>\n",
       "    </tr>\n",
       "  </tbody>\n",
       "</table>\n",
       "</div>"
      ],
      "text/plain": [
       "              p_1         p_2         p_3         p_4         p_5\n",
       "count    5.000000    5.000000    5.000000    5.000000    5.000000\n",
       "mean   204.000000  204.000000  204.000000  204.000000  204.000000\n",
       "std    114.039467  114.039467  114.039467  114.039467  114.039467\n",
       "min      0.000000    0.000000    0.000000    0.000000    0.000000\n",
       "25%    255.000000  255.000000  255.000000  255.000000  255.000000\n",
       "50%    255.000000  255.000000  255.000000  255.000000  255.000000\n",
       "75%    255.000000  255.000000  255.000000  255.000000  255.000000\n",
       "max    255.000000  255.000000  255.000000  255.000000  255.000000"
      ]
     },
     "execution_count": 218,
     "metadata": {},
     "output_type": "execute_result"
    }
   ],
   "source": [
    "# create a small subset and show min, max and other statistical summaries of the data\n",
    "tmp = df.iloc[:5, list(range(5)) + [-1]]\n",
    "tmp.describe()"
   ]
  },
  {
   "attachments": {},
   "cell_type": "markdown",
   "metadata": {},
   "source": [
    "## Preparing the Dataset\n",
    "\n",
    "### Data Imbalance\n",
    "\n",
    "First thing we will do for the purpose of this tutorial is to remove the instances (rows) in the dataset that belong to the minority classes (least represented in the dataset). This is not a good approach to handle this problem, and there are various methods handle the class-imbalance. But for this tutorial, we will just get rid of some data. Lets first look at the least-20 represented symbols in the dataset:!"
   ]
  },
  {
   "cell_type": "code",
   "execution_count": 219,
   "metadata": {},
   "outputs": [
    {
     "data": {
      "text/plain": [
       "Ultrasonic Flow Meter          1\n",
       "Barred Tee                     1\n",
       "Control Valve Angle Choke      2\n",
       "Line Blindspacer               4\n",
       "Valve Gate Through Conduit     4\n",
       "Vessel                         4\n",
       "Deluge                         4\n",
       "Control Valve                  5\n",
       "Temporary Strainer             6\n",
       "Box                            7\n",
       "ESDV Valve Butterfly           7\n",
       "ESDV Valve Slab Gate           9\n",
       "Rupture Disc                  10\n",
       "Exit to Atmosphere            12\n",
       "Control                       13\n",
       "Flange + Triangle             17\n",
       "Control Valve Globe           23\n",
       "Valve Slab Gate               24\n",
       "Valve Angle                   27\n",
       "Valve Globe                   28\n",
       "Name: label, dtype: int64"
      ]
     },
     "execution_count": 219,
     "metadata": {},
     "output_type": "execute_result"
    }
   ],
   "source": [
    "# least 20 represented categories\n",
    "df['label'].value_counts().nsmallest(20)"
   ]
  },
  {
   "cell_type": "markdown",
   "metadata": {},
   "source": [
    "* Now, we need to remove all rows (images) from the dataset that belong to any of the classes above. In other words, remove each row, where its `label` equal to one of the above classes. First, we will create a list to store all names of these classes to be removed:  \n"
   ]
  },
  {
   "cell_type": "code",
   "execution_count": 220,
   "metadata": {},
   "outputs": [],
   "source": [
    "# creat a list of the classes to be removed\n",
    "to_be_removed =['Barred Tee', \n",
    "                'Ultrasonic Flow Meter',\n",
    "                'Control Valve Angle Choke',\n",
    "                'Vessel','Deluge',\n",
    "                'Valve Gate Through Conduit',\n",
    "                'Line Blindspacer',\n",
    "                'Control Valve',\n",
    "                'Temporary Strainer',\n",
    "                'ESDV Valve Butterfly',\n",
    "                'Box','ESDV Valve Slab Gate',\n",
    "                'Rupture Disc',\n",
    "                'Exit to Atmosphere',\n",
    "                'Control',\n",
    "                'Flange + Triangle',\n",
    "                'Control Valve Globe',\n",
    "                'Valve Slab Gate',\n",
    "                'Valve Angle',\n",
    "                'Valve Globe'\n",
    "               ]"
   ]
  },
  {
   "cell_type": "markdown",
   "metadata": {},
   "source": [
    "* Then we updated our dataset by getting rid of these unwanted instances: "
   ]
  },
  {
   "cell_type": "code",
   "execution_count": 221,
   "metadata": {},
   "outputs": [
    {
     "data": {
      "text/plain": [
       "Sensor                   392\n",
       "Reducer                  285\n",
       "Arrowhead                240\n",
       "Valve Ball               173\n",
       "DB&BBV                   127\n",
       "Valve Check              126\n",
       "Continuity Label         116\n",
       "DB&BPV                   113\n",
       "Valve Plug                88\n",
       "Arrowhead + Triangle      83\n",
       "Triangle                  74\n",
       "Valve Butterfly           71\n",
       "ESDV Valve Ball           65\n",
       "Flange Single T-Shape     61\n",
       "Flange Joint              46\n",
       "Injector Point            43\n",
       "Spectacle Blind           42\n",
       "Valve                     40\n",
       "DB&BBV + Valve Check      39\n",
       "Name: label, dtype: int64"
      ]
     },
     "execution_count": 221,
     "metadata": {},
     "output_type": "execute_result"
    }
   ],
   "source": [
    "# keep rows where their label is not in the list above\n",
    "df = df[~df['label'].isin(to_be_removed)].copy()\n",
    "\n",
    "# check the new class distribution \n",
    "df['label'].value_counts()\n"
   ]
  },
  {
   "cell_type": "markdown",
   "metadata": {},
   "source": [
    "Now, you will notice if we check the dataset size, you will see that the number of rows is less that the original number of rows we have above which is **2432**. "
   ]
  },
  {
   "cell_type": "code",
   "execution_count": 222,
   "metadata": {},
   "outputs": [
    {
     "name": "stdout",
     "output_type": "stream",
     "text": [
      "Data now has 2224 rows\n"
     ]
    }
   ],
   "source": [
    "print(f'Data now has {df.shape[0]} rows')"
   ]
  },
  {
   "attachments": {},
   "cell_type": "markdown",
   "metadata": {},
   "source": [
    "Lets save our new dataset into a file called symbols.csv, we will store it in the same folder 'Data', this should be outside the current working directory. I set the index to equal false as below, because if I don't do this, pandas will add an extra column (as an index at the beginning of the file):\n"
   ]
  },
  {
   "cell_type": "code",
   "execution_count": 223,
   "metadata": {},
   "outputs": [],
   "source": [
    "df.to_csv('../Data/Symbols.csv',index=None)"
   ]
  },
  {
   "attachments": {},
   "cell_type": "markdown",
   "metadata": {},
   "source": [
    "### Prepare Data\n",
    "\n",
    "* Lets first prepare the data as $X$, representing all the input features (pixel values columns), and $y$ to represent the label in the dataset. This is to be consistent with the notation we introduced in week 2. Remember our task is to learn a function $h(x)$ that maps $X$ (the input features) to $y$ the class labels"
   ]
  },
  {
   "cell_type": "code",
   "execution_count": 224,
   "metadata": {},
   "outputs": [],
   "source": [
    "# store all rows and columns apart from label in 'X'\n",
    "# note, X is a data frame with (2224, 10000) shape\n",
    "X = df.iloc[:,:-1]\n",
    "\n",
    "# store the labels in y\n",
    "y = df.iloc[:,-1]"
   ]
  },
  {
   "attachments": {},
   "cell_type": "markdown",
   "metadata": {},
   "source": [
    "Notice that $X$ will be of type `DataFrame`, for most learning algorithms, it is better to store the input features in a numpy array as follows. This can be done as follows: "
   ]
  },
  {
   "cell_type": "code",
   "execution_count": 225,
   "metadata": {},
   "outputs": [],
   "source": [
    "X = np.array(X)"
   ]
  },
  {
   "attachments": {},
   "cell_type": "markdown",
   "metadata": {},
   "source": [
    "* Another good practice in Machine Learning is to encode your class labels (categorical variables) into integers, before fitting the model on your data. Recall, our labels are categorical values (i.e. Arrowhead, Valve, Ball Valve, and so on), and we need to encode them into integers. Notice that for RandomForestClassifier, you **don't need this step**, but for other models, this is needed and is considered a best practice in general, so in case you need to use other models, here is one way on how you can encode the labels 'strings' into integer values   !"
   ]
  },
  {
   "cell_type": "code",
   "execution_count": 226,
   "metadata": {},
   "outputs": [
    {
     "data": {
      "text/plain": [
       "array([0, 0, 0, 0, 0, 0, 0, 0, 0, 0])"
      ]
     },
     "execution_count": 226,
     "metadata": {},
     "output_type": "execute_result"
    }
   ],
   "source": [
    "# encode y into integers \n",
    "from sklearn.preprocessing import LabelEncoder\n",
    "y_labels = y \n",
    "le = LabelEncoder()\n",
    "le.fit(y)\n",
    "y_encoded = le.transform(y)\n",
    "# show few class labels after encoding \n",
    "y_encoded[:10]\n"
   ]
  },
  {
   "cell_type": "markdown",
   "metadata": {},
   "source": [
    "A good thing about the encoding approach above, is that you can use `inverse_transform` method to transform the encoded integers back into the string’s representation of the labels: "
   ]
  },
  {
   "cell_type": "code",
   "execution_count": 227,
   "metadata": {},
   "outputs": [
    {
     "data": {
      "text/plain": [
       "array(['Arrowhead', 'Arrowhead', 'Arrowhead', 'Arrowhead', 'Arrowhead',\n",
       "       'Arrowhead', 'Arrowhead', 'Arrowhead', 'Arrowhead', 'Arrowhead'],\n",
       "      dtype=object)"
      ]
     },
     "execution_count": 227,
     "metadata": {},
     "output_type": "execute_result"
    }
   ],
   "source": [
    "inversed_labels = le.inverse_transform(y_encoded)\n",
    "# show few class labels after encoding \n",
    "inversed_labels[:10]"
   ]
  },
  {
   "cell_type": "markdown",
   "metadata": {},
   "source": [
    "* Once, happy with the state of your dataset, then you need to split the data into training and testing sets. Ideally, the dataset should be split into training, validation, and testing sets. Where you only use the testing set at the very last stages of the development process, but for now, we will use the train/test split only: "
   ]
  },
  {
   "cell_type": "code",
   "execution_count": 228,
   "metadata": {},
   "outputs": [],
   "source": [
    "# test_size default value is 25%\n",
    "from sklearn.model_selection import train_test_split\n",
    "X_train,X_test,y_train,y_test=train_test_split(X,y, test_size = 0.3,random_state=30)\n"
   ]
  },
  {
   "cell_type": "markdown",
   "metadata": {},
   "source": [
    "The ***train_test_split*** function above returns *X_train,X_test,y_train,y_test*. If you are confused about these subsets, then check its types i.e. `type(X_train)` and so on:"
   ]
  },
  {
   "cell_type": "markdown",
   "metadata": {},
   "source": [
    "### Data Normalisation \n",
    "\n",
    "Our dataset represents grey scale images. This means that all values are in the range of 0 to 255. However, for various machine learning algorithms (as discussed in previous weeks), it is better to normalise the data, especially for Neural Networks, which will be discussed in the coming few weeks. Normalising the data is simple and is done by dividing each pixel value by the max value in the corresponding column: \n",
    "\\begin{equation}\n",
    "\\frac{x-x_{min}}{x_{max}-x_{min}}\n",
    "\\end{equation}\n",
    "But notice that in our dataset the min value is 0 and the max value across all features (columns) is **255**, therefore, this step can be simply achieved by "
   ]
  },
  {
   "cell_type": "code",
   "execution_count": 229,
   "metadata": {},
   "outputs": [],
   "source": [
    "X_train = X_train/255.0\n",
    "X_test = X_test / 255.0 "
   ]
  },
  {
   "cell_type": "code",
   "execution_count": 230,
   "metadata": {},
   "outputs": [
    {
     "data": {
      "text/plain": [
       "array([[1., 1., 1., 1., 1.],\n",
       "       [1., 1., 1., 1., 1.],\n",
       "       [1., 1., 1., 1., 1.],\n",
       "       [1., 1., 1., 1., 1.],\n",
       "       [0., 0., 0., 0., 0.]])"
      ]
     },
     "execution_count": 230,
     "metadata": {},
     "output_type": "execute_result"
    }
   ],
   "source": [
    "# Now check few rows and columns of X_train \n",
    "# Notice that all values are between zero and one\n",
    "X_train[:5,:5]"
   ]
  },
  {
   "cell_type": "markdown",
   "metadata": {},
   "source": [
    "## Build Random Forest\n",
    "\n",
    "Now, we want to create a Random Forests (RF) model to classify the symbols in our dataset. Notice that the most two important parameters in the model are the number of trees *n_estimators* (default values = 100) and the *max_features* (default value = $\\sqrt{n}$) where $n$ is the total number (10,000). *max_features* defines the number of features (columns) to be considered at each node split. In fact this is the most important hyper parameters in RF. You can read more about RandomForestClassifier parameters at [Sklearn Documentation](https://scikit-learn.org/stable/modules/generated/sklearn.ensemble.RandomForestClassifier.html), but for now, taking care of these two parameters should be enough\n",
    "\n",
    "### Create and Train RF"
   ]
  },
  {
   "cell_type": "code",
   "execution_count": 231,
   "metadata": {
    "scrolled": true
   },
   "outputs": [
    {
     "data": {
      "text/plain": [
       "RandomForestClassifier(bootstrap=True, class_weight=None, criterion='gini',\n",
       "                       max_depth=None, max_features='auto', max_leaf_nodes=None,\n",
       "                       min_impurity_decrease=0.0, min_impurity_split=None,\n",
       "                       min_samples_leaf=1, min_samples_split=2,\n",
       "                       min_weight_fraction_leaf=0.0, n_estimators=100,\n",
       "                       n_jobs=None, oob_score=False, random_state=None,\n",
       "                       verbose=0, warm_start=False)"
      ]
     },
     "execution_count": 231,
     "metadata": {},
     "output_type": "execute_result"
    }
   ],
   "source": [
    "from sklearn.ensemble import RandomForestClassifier \n",
    "\n",
    "# create an instance of RandomForestClassifier\n",
    "rf=RandomForestClassifier(n_estimators=100,)\n",
    "\n",
    "# fit the model on training data\n",
    "rf.fit(X_train,y_train)"
   ]
  },
  {
   "cell_type": "markdown",
   "metadata": {},
   "source": [
    "### Make Predictions \n",
    "\n",
    "Once your training is done -*this may depend on the computing power at your machine, but for this dataset it shouldn’t take much time*-, you can now make some predictions. Recall, that in order to assess how good our model is, we do the predictions on the **testing set**. In other words, we need to test our model on different data, other than the one that was used for training it. An important feature with **sklearn** is that you can also retrieve the actual predictions (i.e. the class of each symbol), as well as the probabilities (i.e. the probability the first image is a valve), which is also very helpful for further analysis of the results: !\n"
   ]
  },
  {
   "cell_type": "code",
   "execution_count": 235,
   "metadata": {},
   "outputs": [
    {
     "data": {
      "text/plain": [
       "array([[0.  , 0.01, 0.  , 0.01, 0.  , 0.  , 0.  , 0.01, 0.  , 0.  , 0.96,\n",
       "        0.01, 0.  , 0.  , 0.  , 0.  , 0.  , 0.  , 0.  ]])"
      ]
     },
     "execution_count": 235,
     "metadata": {},
     "output_type": "execute_result"
    }
   ],
   "source": [
    "# Predicted classes of the testing set\n",
    "rf_predictions = rf.predict(X_test)\n",
    "\n",
    "\n",
    "# get probabilities of predictions\n",
    "rf_probs = rf.predict_proba(X_test)\n",
    "\n",
    "# note rf_probs is a 2d numpu array\n",
    "# show the class probs for the first image (note the output)\n",
    "rf_probs[:1]"
   ]
  },
  {
   "cell_type": "markdown",
   "metadata": {},
   "source": [
    "### Results\n",
    "\n",
    "Lets start by computing the accuracy of the RF model using the *accuracy_score* of Scikit-Learn. Notice however, that accuracy here is not the most important evaluation metric: "
   ]
  },
  {
   "cell_type": "code",
   "execution_count": 236,
   "metadata": {},
   "outputs": [
    {
     "name": "stdout",
     "output_type": "stream",
     "text": [
      "The overall accuracy of RF is 95.96%\n"
     ]
    }
   ],
   "source": [
    "import numpy as np\n",
    "from sklearn.metrics import accuracy_score\n",
    "from sklearn.metrics import classification_report, confusion_matrix\n",
    "\n",
    "accuracy = accuracy_score(y_test, rf_predictions)\n",
    "print(f'The overall accuracy of RF is {np.round(accuracy*100,2)}%')"
   ]
  },
  {
   "cell_type": "markdown",
   "metadata": {},
   "source": [
    "Another important evaluation metrics to consider are the confusion matrix, precision, recall, and F1 score. These can also be easily obtained as follows: "
   ]
  },
  {
   "cell_type": "code",
   "execution_count": 237,
   "metadata": {},
   "outputs": [
    {
     "name": "stdout",
     "output_type": "stream",
     "text": [
      "[[ 63   0   0   0   0   0   0   0   0   0   1   0   0   0   0   0   0   0\n",
      "    0]\n",
      " [  0  20   0   0   0   0   1   0   0   0   3   0   0   0   0   0   0   1\n",
      "    0]\n",
      " [  0   0  31   0   0   0   0   0   0   0   0   0   0   0   0   0   0   0\n",
      "    0]\n",
      " [  0   0   0  33   0   0   0   0   0   0   0   0   0   0   0   1   0   1\n",
      "    1]\n",
      " [  0   0   0   1  15   1   0   0   0   0   0   0   0   0   0   0   0   0\n",
      "    0]\n",
      " [  0   1   0   1   0  31   0   0   0   0   0   0   0   0   0   0   0   1\n",
      "    0]\n",
      " [  0   0   0   0   0   0  15   0   0   0   0   0   0   0   0   0   0   0\n",
      "    0]\n",
      " [  1   0   0   0   0   0   0  12   0   0   0   0   0   0   0   0   0   0\n",
      "    0]\n",
      " [  0   0   0   0   0   0   0   0  16   0   0   0   0   0   0   0   0   0\n",
      "    0]\n",
      " [  0   0   0   0   0   0   0   0   0  14   0   0   0   0   0   0   0   0\n",
      "    0]\n",
      " [  0   0   0   0   0   0   0   0   0   0  81   0   0   0   0   0   0   0\n",
      "    0]\n",
      " [  0   0   0   0   0   0   0   0   0   0   0 128   0   0   0   0   0   0\n",
      "    0]\n",
      " [  0   0   0   0   0   0   0   0   0   0   0   0  16   0   0   0   0   0\n",
      "    0]\n",
      " [  0   0   0   0   0   0   0   0   0   0   0   0   0  19   0   0   0   0\n",
      "    0]\n",
      " [  0   0   0   0   0   0   0   0   0   0   0   0   0   0   9   1   0   0\n",
      "    0]\n",
      " [  0   0   0   0   0   2   0   0   0   0   0   0   0   0   0  60   0   0\n",
      "    1]\n",
      " [  0   0   0   0   0   1   0   0   0   0   0   0   0   0   0   0  14   0\n",
      "    2]\n",
      " [  0   0   0   0   0   0   0   0   0   0   2   1   0   0   0   0   0  37\n",
      "    0]\n",
      " [  0   0   0   0   0   0   0   0   0   0   0   0   0   0   0   1   0   1\n",
      "   27]]\n"
     ]
    }
   ],
   "source": [
    "# print confusion matrix \n",
    "print(confusion_matrix(y_test,rf_predictions))\n",
    "\n"
   ]
  },
  {
   "cell_type": "markdown",
   "metadata": {},
   "source": [
    "***sklearn.metrics.classification_report*** builds a text report showing the main classification metrics per class label. This is very useful very multi-class problem (like the one we are dealing with). Review the definition of **Precision, recall, and F1-Score**, \n",
    "\n"
   ]
  },
  {
   "cell_type": "code",
   "execution_count": 238,
   "metadata": {},
   "outputs": [
    {
     "name": "stdout",
     "output_type": "stream",
     "text": [
      "                       precision    recall  f1-score   support\n",
      "\n",
      "            Arrowhead       0.98      0.98      0.98        64\n",
      " Arrowhead + Triangle       0.95      0.80      0.87        25\n",
      "     Continuity Label       1.00      1.00      1.00        31\n",
      "               DB&BBV       0.94      0.92      0.93        36\n",
      " DB&BBV + Valve Check       1.00      0.88      0.94        17\n",
      "               DB&BPV       0.89      0.91      0.90        34\n",
      "      ESDV Valve Ball       0.94      1.00      0.97        15\n",
      "         Flange Joint       1.00      0.92      0.96        13\n",
      "Flange Single T-Shape       1.00      1.00      1.00        16\n",
      "       Injector Point       1.00      1.00      1.00        14\n",
      "              Reducer       0.93      1.00      0.96        81\n",
      "               Sensor       0.99      1.00      1.00       128\n",
      "      Spectacle Blind       1.00      1.00      1.00        16\n",
      "             Triangle       1.00      1.00      1.00        19\n",
      "                Valve       1.00      0.90      0.95        10\n",
      "           Valve Ball       0.95      0.95      0.95        63\n",
      "      Valve Butterfly       1.00      0.82      0.90        17\n",
      "          Valve Check       0.90      0.93      0.91        40\n",
      "           Valve Plug       0.87      0.93      0.90        29\n",
      "\n",
      "             accuracy                           0.96       668\n",
      "            macro avg       0.97      0.94      0.95       668\n",
      "         weighted avg       0.96      0.96      0.96       668\n",
      "\n"
     ]
    }
   ],
   "source": [
    "# classification_report\n",
    "print(classification_report(y_test,rf_predictions))\n"
   ]
  },
  {
   "cell_type": "markdown",
   "metadata": {},
   "source": [
    "### Manual Error Analysis\n",
    "\n",
    "It is always good to have a closer look at the results. lets first try to compute the accuracy manually instead of using ***sklearn*** as above, this should also show you few more tricks in Python: \n"
   ]
  },
  {
   "cell_type": "code",
   "execution_count": 239,
   "metadata": {},
   "outputs": [
    {
     "data": {
      "text/html": [
       "<div>\n",
       "<style scoped>\n",
       "    .dataframe tbody tr th:only-of-type {\n",
       "        vertical-align: middle;\n",
       "    }\n",
       "\n",
       "    .dataframe tbody tr th {\n",
       "        vertical-align: top;\n",
       "    }\n",
       "\n",
       "    .dataframe thead th {\n",
       "        text-align: right;\n",
       "    }\n",
       "</style>\n",
       "<table border=\"1\" class=\"dataframe\">\n",
       "  <thead>\n",
       "    <tr style=\"text-align: right;\">\n",
       "      <th></th>\n",
       "      <th>Actual</th>\n",
       "      <th>Predicted</th>\n",
       "    </tr>\n",
       "  </thead>\n",
       "  <tbody>\n",
       "    <tr>\n",
       "      <td>1301</td>\n",
       "      <td>Reducer</td>\n",
       "      <td>Reducer</td>\n",
       "    </tr>\n",
       "    <tr>\n",
       "      <td>1433</td>\n",
       "      <td>Sensor</td>\n",
       "      <td>Sensor</td>\n",
       "    </tr>\n",
       "    <tr>\n",
       "      <td>339</td>\n",
       "      <td>Continuity Label</td>\n",
       "      <td>Continuity Label</td>\n",
       "    </tr>\n",
       "    <tr>\n",
       "      <td>409</td>\n",
       "      <td>Continuity Label</td>\n",
       "      <td>Continuity Label</td>\n",
       "    </tr>\n",
       "    <tr>\n",
       "      <td>174</td>\n",
       "      <td>Arrowhead</td>\n",
       "      <td>Arrowhead</td>\n",
       "    </tr>\n",
       "  </tbody>\n",
       "</table>\n",
       "</div>"
      ],
      "text/plain": [
       "                Actual         Predicted\n",
       "1301           Reducer           Reducer\n",
       "1433            Sensor            Sensor\n",
       "339   Continuity Label  Continuity Label\n",
       "409   Continuity Label  Continuity Label\n",
       "174          Arrowhead         Arrowhead"
      ]
     },
     "execution_count": 239,
     "metadata": {},
     "output_type": "execute_result"
    }
   ],
   "source": [
    "# store actual class labels and predicted ones in a dataframe\n",
    "results = pd.DataFrame({'Actual':y_test,'Predicted':rf_predictions})\n",
    "results.head()"
   ]
  },
  {
   "cell_type": "markdown",
   "metadata": {},
   "source": [
    "Remember that the accuracy of the model is equal to the number of correctly classified examples, divided by the total number of examples in the dataset. Lets compute ***accuracy*** manually, and see if we get same results as above: "
   ]
  },
  {
   "cell_type": "code",
   "execution_count": 240,
   "metadata": {},
   "outputs": [
    {
     "name": "stdout",
     "output_type": "stream",
     "text": [
      "Accuracy of the model is 95.96%\n"
     ]
    }
   ],
   "source": [
    "accuracy_m = results[results.Actual==results.Predicted].shape[0]/results.shape[0]\n",
    "print(f'Accuracy of the model is {np.round(accuracy_m*100,2)}%')"
   ]
  },
  {
   "cell_type": "markdown",
   "metadata": {},
   "source": [
    "Recall, that we have computed also the probabilities that a certain example (row) is of a specific class symbol. We did this above using the code `rf_probs = rf.predict_proba(X_test)[:, 1]`. Lets get these probabilities and store them in a pandas data frame\n",
    "\n"
   ]
  },
  {
   "cell_type": "code",
   "execution_count": 244,
   "metadata": {},
   "outputs": [],
   "source": [
    "# create dataframe with probs, and headers as class names \n",
    "tmp = pd.DataFrame(rf.predict_proba(X_test), columns=rf.classes_)\n",
    "tmp.columns = rf.classes_\n",
    "\n",
    "# un-comment the line below to show how the probs dataframe look like \n",
    "#tmp.head()"
   ]
  },
  {
   "cell_type": "markdown",
   "metadata": {},
   "source": [
    "Looking at the table above (resulting from `tmp.head()`), you will notice for example that the highest probability in the first row is 0.95, and corresponds to the class label reducer. This simply means that the first instance in the dataset will be classified as a reducer. You can verify this for the first five rows as follows:  \n",
    "\n"
   ]
  },
  {
   "cell_type": "code",
   "execution_count": 141,
   "metadata": {},
   "outputs": [
    {
     "name": "stdout",
     "output_type": "stream",
     "text": [
      "The predicted class of symbol 0     in the testing set is ['Reducer']\n",
      "The predicted class of symbol 1     in the testing set is ['Sensor']\n",
      "The predicted class of symbol 2     in the testing set is ['Continuity Label']\n",
      "The predicted class of symbol 3     in the testing set is ['Continuity Label']\n",
      "The predicted class of symbol 4     in the testing set is ['Arrowhead']\n"
     ]
    }
   ],
   "source": [
    "# get predicted classes for the first five instances in the dataset\n",
    "\n",
    "for i in range(5):\n",
    "    # use \\ to continue to next line \n",
    "    print(f'The predicted class of symbol {i} \\\n",
    "    in the testing set is {rf.predict(X_test[i:i+1])}')\n",
    "\n",
    "    "
   ]
  },
  {
   "cell_type": "markdown",
   "metadata": {},
   "source": [
    "Lets now extract from our results dataframe only the incorrectly classified examples. Sometimes it is useful to look at these examples separately: "
   ]
  },
  {
   "cell_type": "code",
   "execution_count": 245,
   "metadata": {},
   "outputs": [
    {
     "data": {
      "text/html": [
       "<div>\n",
       "<style scoped>\n",
       "    .dataframe tbody tr th:only-of-type {\n",
       "        vertical-align: middle;\n",
       "    }\n",
       "\n",
       "    .dataframe tbody tr th {\n",
       "        vertical-align: top;\n",
       "    }\n",
       "\n",
       "    .dataframe thead th {\n",
       "        text-align: right;\n",
       "    }\n",
       "</style>\n",
       "<table border=\"1\" class=\"dataframe\">\n",
       "  <thead>\n",
       "    <tr style=\"text-align: right;\">\n",
       "      <th></th>\n",
       "      <th>Actual</th>\n",
       "      <th>Predicted</th>\n",
       "    </tr>\n",
       "  </thead>\n",
       "  <tbody>\n",
       "    <tr>\n",
       "      <td>625</td>\n",
       "      <td>DB&amp;BBV + Valve Check</td>\n",
       "      <td>DB&amp;BBV</td>\n",
       "    </tr>\n",
       "    <tr>\n",
       "      <td>2268</td>\n",
       "      <td>Valve Check</td>\n",
       "      <td>Sensor</td>\n",
       "    </tr>\n",
       "    <tr>\n",
       "      <td>2088</td>\n",
       "      <td>Valve Butterfly</td>\n",
       "      <td>Valve Plug</td>\n",
       "    </tr>\n",
       "    <tr>\n",
       "      <td>74</td>\n",
       "      <td>Arrowhead</td>\n",
       "      <td>Reducer</td>\n",
       "    </tr>\n",
       "    <tr>\n",
       "      <td>260</td>\n",
       "      <td>Arrowhead + Triangle</td>\n",
       "      <td>Reducer</td>\n",
       "    </tr>\n",
       "  </tbody>\n",
       "</table>\n",
       "</div>"
      ],
      "text/plain": [
       "                    Actual   Predicted\n",
       "625   DB&BBV + Valve Check      DB&BBV\n",
       "2268           Valve Check      Sensor\n",
       "2088       Valve Butterfly  Valve Plug\n",
       "74               Arrowhead     Reducer\n",
       "260   Arrowhead + Triangle     Reducer"
      ]
     },
     "execution_count": 245,
     "metadata": {},
     "output_type": "execute_result"
    }
   ],
   "source": [
    "incorrect = results[results.Actual!=results.Predicted]\n",
    "incorrect.head()"
   ]
  },
  {
   "cell_type": "markdown",
   "metadata": {},
   "source": [
    "**Task #1:** You may also want to check the probabilities of the incorrectly misclassified examples in the **incorrect** data frame."
   ]
  },
  {
   "cell_type": "markdown",
   "metadata": {},
   "source": [
    "### Show some Predictions \n",
    "\n",
    "It is always good idea to explore further some of the misclassified examples in the dataset. Below is the code that displays the incorrectly classified symbols in the testing set: "
   ]
  },
  {
   "cell_type": "code",
   "execution_count": 246,
   "metadata": {},
   "outputs": [
    {
     "data": {
      "image/png": "[encoded data removed]",
      "text/plain": [
       "<Figure size 576x576 with 36 Axes>"
      ]
     },
     "metadata": {},
     "output_type": "display_data"
    }
   ],
   "source": [
    "# put the testing set in numpy array\n",
    "tmp = X_test\n",
    "# create 6 x 6 grid for plots \n",
    "fig, ax = plt.subplots(6,6,figsize=(8,8))\n",
    "for i, axi in enumerate(ax.flat):\n",
    "    # reshape to 100 x 100 (recall each image is 10,000 pixel values)\n",
    "    #axi.imshow(tmp[i].reshape(100, 100), cmap='bone')\n",
    "    # show random set of images every run\n",
    "    value = randint(0, tmp.shape[0])\n",
    "    axi.imshow(tmp[value].reshape(100, 100), cmap='bone')\n",
    "    axi.set(xticks=[], yticks=[])\n",
    "    axi.set_ylabel(rf_predictions[i])\n",
    "    \n",
    "fig.suptitle('Misclassified Instances', size=14);\n",
    "\n"
   ]
  },
  {
   "cell_type": "markdown",
   "metadata": {},
   "source": [
    "## Save your Model \n",
    "\n",
    "As we did in Week 4, suppose that you are happy with your model’s performance, so now it is  time to save it so that you can re-use it without the need to retrain it from scratch again. Below is the code to save your model: "
   ]
  },
  {
   "cell_type": "code",
   "execution_count": 247,
   "metadata": {},
   "outputs": [],
   "source": [
    "import pickle\n",
    "# Save to file in the current working directory\n",
    "pkl_filename = \"rf_model.pkl\"\n",
    "# save your model that was created above (lg_model)\n",
    "with open(pkl_filename, 'wb') as file:\n",
    "    pickle.dump(rf, file)"
   ]
  },
  {
   "cell_type": "markdown",
   "metadata": {},
   "source": [
    "* And, you can always load it and re-use it, without the need to retrain it again, as follows:\n"
   ]
  },
  {
   "cell_type": "code",
   "execution_count": 248,
   "metadata": {},
   "outputs": [],
   "source": [
    "# Load from file\n",
    "with open(pkl_filename, 'rb') as file:\n",
    "    rf_model = pickle.load(file)\n",
    "score = rf_model.score(X_test, y_test)\n"
   ]
  },
  {
   "cell_type": "markdown",
   "metadata": {},
   "source": [
    "* Here, I will use the model loaded to classify the first symbol in my testing set"
   ]
  },
  {
   "cell_type": "code",
   "execution_count": 249,
   "metadata": {},
   "outputs": [
    {
     "name": "stdout",
     "output_type": "stream",
     "text": [
      "The the first symbol in the testing set is of type ['Reducer']\n"
     ]
    }
   ],
   "source": [
    "print(f'The the first symbol in the testing set is of type {rf_model.predict(X_test[:1])}')"
   ]
  },
  {
   "cell_type": "markdown",
   "metadata": {},
   "source": [
    "## Feature Importance \n",
    "\n",
    "Two more notes about Random Forest. First, it has a nice feature that allows you to measure the importance of the various input features in your dataset. Below is a simple code that list the features importance’s of the iris dataset (we explored previous weeks) "
   ]
  },
  {
   "cell_type": "code",
   "execution_count": 250,
   "metadata": {},
   "outputs": [
    {
     "data": {
      "text/plain": [
       "RandomForestClassifier(bootstrap=True, class_weight=None, criterion='gini',\n",
       "                       max_depth=None, max_features='auto', max_leaf_nodes=None,\n",
       "                       min_impurity_decrease=0.0, min_impurity_split=None,\n",
       "                       min_samples_leaf=1, min_samples_split=2,\n",
       "                       min_weight_fraction_leaf=0.0, n_estimators=500,\n",
       "                       n_jobs=None, oob_score=False, random_state=None,\n",
       "                       verbose=0, warm_start=False)"
      ]
     },
     "execution_count": 250,
     "metadata": {},
     "output_type": "execute_result"
    }
   ],
   "source": [
    "from sklearn.datasets import load_iris\n",
    "iris = load_iris()\n",
    "rf = RandomForestClassifier(n_estimators = 500)\n",
    "rf.fit(iris['data'],iris['target'])\n"
   ]
  },
  {
   "cell_type": "code",
   "execution_count": 251,
   "metadata": {},
   "outputs": [],
   "source": [
    "features_importance = []\n",
    "for name, score in zip(iris['feature_names'],rf.feature_importances_):\n",
    "    # store in list of dictionaries\n",
    "    features_importance.append({'Feature':name,'Importance':score})\n",
    "# show the first few lements"
   ]
  },
  {
   "cell_type": "code",
   "execution_count": 252,
   "metadata": {},
   "outputs": [
    {
     "data": {
      "text/plain": [
       "[{'Feature': 'sepal length (cm)', 'Importance': 0.10462928275918688},\n",
       " {'Feature': 'sepal width (cm)', 'Importance': 0.02460398612868402},\n",
       " {'Feature': 'petal length (cm)', 'Importance': 0.4458971149308928},\n",
       " {'Feature': 'petal width (cm)', 'Importance': 0.4248696161812363}]"
      ]
     },
     "execution_count": 252,
     "metadata": {},
     "output_type": "execute_result"
    }
   ],
   "source": [
    "features_importance[:5]"
   ]
  },
  {
   "cell_type": "code",
   "execution_count": 253,
   "metadata": {},
   "outputs": [
    {
     "data": {
      "text/plain": [
       "[{'Feature': 'sepal width (cm)', 'Importance': 0.02460398612868402},\n",
       " {'Feature': 'sepal length (cm)', 'Importance': 0.10462928275918688},\n",
       " {'Feature': 'petal width (cm)', 'Importance': 0.4248696161812363},\n",
       " {'Feature': 'petal length (cm)', 'Importance': 0.4458971149308928}]"
      ]
     },
     "execution_count": 253,
     "metadata": {},
     "output_type": "execute_result"
    }
   ],
   "source": [
    "# YOU CAN Also sort the list by features importance\n",
    "import operator\n",
    "features_importance.sort(key=operator.itemgetter('Importance'))\n",
    "features_importance"
   ]
  },
  {
   "cell_type": "markdown",
   "metadata": {},
   "source": [
    "The second note, is that often increasing the number of trees in the ensemble beyond 500 won’t significantly change the model’s performance. Although the max_featues might change the results. You are encouraged to experiment with different values of number of trees and max_featuers. \n",
    "\n"
   ]
  },
  {
   "attachments": {},
   "cell_type": "markdown",
   "metadata": {},
   "source": [
    "## Fund with Pandas (Optional)\n",
    "\n",
    "The previous section concluded the tutorial, so if you reached this far, congratulations. Below is just few more tricks with pandas, you may find it useful for various tasks. \n",
    "\n",
    "The **groupby** is great function in Pandas that allow you to aggregate results in so many ways. Here is a simple quick example. But first, lets do predictions across the whole dataset using the RF model that loaded from a file:\n",
    "\n"
   ]
  },
  {
   "cell_type": "code",
   "execution_count": 254,
   "metadata": {},
   "outputs": [],
   "source": [
    "# make predictions across all the data frame\n",
    "preds = rf_model.predict(np.array(df.iloc[:,:-1]))"
   ]
  },
  {
   "cell_type": "code",
   "execution_count": 255,
   "metadata": {},
   "outputs": [],
   "source": [
    "# create a new data frame using dictionary\n",
    "results = pd.DataFrame({'Actual':df['label'],'Predicted':preds})\n",
    "# lets first add the classification results to the a copy of the original dataframe\n",
    "df_results = pd.concat([df, results], axis=1)"
   ]
  },
  {
   "cell_type": "code",
   "execution_count": 256,
   "metadata": {},
   "outputs": [
    {
     "data": {
      "text/html": [
       "<div>\n",
       "<style scoped>\n",
       "    .dataframe tbody tr th:only-of-type {\n",
       "        vertical-align: middle;\n",
       "    }\n",
       "\n",
       "    .dataframe tbody tr th {\n",
       "        vertical-align: top;\n",
       "    }\n",
       "\n",
       "    .dataframe thead th {\n",
       "        text-align: right;\n",
       "    }\n",
       "</style>\n",
       "<table border=\"1\" class=\"dataframe\">\n",
       "  <thead>\n",
       "    <tr style=\"text-align: right;\">\n",
       "      <th></th>\n",
       "      <th>p_9999</th>\n",
       "      <th>p_10000</th>\n",
       "      <th>label</th>\n",
       "      <th>Actual</th>\n",
       "      <th>Predicted</th>\n",
       "    </tr>\n",
       "  </thead>\n",
       "  <tbody>\n",
       "    <tr>\n",
       "      <td>5</td>\n",
       "      <td>255</td>\n",
       "      <td>255</td>\n",
       "      <td>Arrowhead</td>\n",
       "      <td>Arrowhead</td>\n",
       "      <td>Arrowhead</td>\n",
       "    </tr>\n",
       "    <tr>\n",
       "      <td>6</td>\n",
       "      <td>255</td>\n",
       "      <td>255</td>\n",
       "      <td>Arrowhead</td>\n",
       "      <td>Arrowhead</td>\n",
       "      <td>Arrowhead</td>\n",
       "    </tr>\n",
       "    <tr>\n",
       "      <td>7</td>\n",
       "      <td>255</td>\n",
       "      <td>255</td>\n",
       "      <td>Arrowhead</td>\n",
       "      <td>Arrowhead</td>\n",
       "      <td>Arrowhead</td>\n",
       "    </tr>\n",
       "    <tr>\n",
       "      <td>8</td>\n",
       "      <td>255</td>\n",
       "      <td>255</td>\n",
       "      <td>Arrowhead</td>\n",
       "      <td>Arrowhead</td>\n",
       "      <td>Arrowhead</td>\n",
       "    </tr>\n",
       "    <tr>\n",
       "      <td>9</td>\n",
       "      <td>255</td>\n",
       "      <td>255</td>\n",
       "      <td>Arrowhead</td>\n",
       "      <td>Arrowhead</td>\n",
       "      <td>Arrowhead</td>\n",
       "    </tr>\n",
       "  </tbody>\n",
       "</table>\n",
       "</div>"
      ],
      "text/plain": [
       "   p_9999  p_10000      label     Actual  Predicted\n",
       "5     255      255  Arrowhead  Arrowhead  Arrowhead\n",
       "6     255      255  Arrowhead  Arrowhead  Arrowhead\n",
       "7     255      255  Arrowhead  Arrowhead  Arrowhead\n",
       "8     255      255  Arrowhead  Arrowhead  Arrowhead\n",
       "9     255      255  Arrowhead  Arrowhead  Arrowhead"
      ]
     },
     "execution_count": 256,
     "metadata": {},
     "output_type": "execute_result"
    }
   ],
   "source": [
    "# show first five rows and last five columns in the dataset we created\n",
    "df_results.iloc[5:,-5:].head()"
   ]
  },
  {
   "cell_type": "code",
   "execution_count": 257,
   "metadata": {},
   "outputs": [
    {
     "data": {
      "text/html": [
       "<div>\n",
       "<style scoped>\n",
       "    .dataframe tbody tr th:only-of-type {\n",
       "        vertical-align: middle;\n",
       "    }\n",
       "\n",
       "    .dataframe tbody tr th {\n",
       "        vertical-align: top;\n",
       "    }\n",
       "\n",
       "    .dataframe thead th {\n",
       "        text-align: right;\n",
       "    }\n",
       "</style>\n",
       "<table border=\"1\" class=\"dataframe\">\n",
       "  <thead>\n",
       "    <tr style=\"text-align: right;\">\n",
       "      <th></th>\n",
       "      <th>p_10000</th>\n",
       "      <th>label</th>\n",
       "      <th>Actual</th>\n",
       "      <th>Predicted</th>\n",
       "      <th>isCorrect</th>\n",
       "    </tr>\n",
       "  </thead>\n",
       "  <tbody>\n",
       "    <tr>\n",
       "      <td>5</td>\n",
       "      <td>255</td>\n",
       "      <td>Arrowhead</td>\n",
       "      <td>Arrowhead</td>\n",
       "      <td>Arrowhead</td>\n",
       "      <td>True</td>\n",
       "    </tr>\n",
       "    <tr>\n",
       "      <td>6</td>\n",
       "      <td>255</td>\n",
       "      <td>Arrowhead</td>\n",
       "      <td>Arrowhead</td>\n",
       "      <td>Arrowhead</td>\n",
       "      <td>True</td>\n",
       "    </tr>\n",
       "    <tr>\n",
       "      <td>7</td>\n",
       "      <td>255</td>\n",
       "      <td>Arrowhead</td>\n",
       "      <td>Arrowhead</td>\n",
       "      <td>Arrowhead</td>\n",
       "      <td>True</td>\n",
       "    </tr>\n",
       "    <tr>\n",
       "      <td>8</td>\n",
       "      <td>255</td>\n",
       "      <td>Arrowhead</td>\n",
       "      <td>Arrowhead</td>\n",
       "      <td>Arrowhead</td>\n",
       "      <td>True</td>\n",
       "    </tr>\n",
       "    <tr>\n",
       "      <td>9</td>\n",
       "      <td>255</td>\n",
       "      <td>Arrowhead</td>\n",
       "      <td>Arrowhead</td>\n",
       "      <td>Arrowhead</td>\n",
       "      <td>True</td>\n",
       "    </tr>\n",
       "  </tbody>\n",
       "</table>\n",
       "</div>"
      ],
      "text/plain": [
       "   p_10000      label     Actual  Predicted  isCorrect\n",
       "5      255  Arrowhead  Arrowhead  Arrowhead       True\n",
       "6      255  Arrowhead  Arrowhead  Arrowhead       True\n",
       "7      255  Arrowhead  Arrowhead  Arrowhead       True\n",
       "8      255  Arrowhead  Arrowhead  Arrowhead       True\n",
       "9      255  Arrowhead  Arrowhead  Arrowhead       True"
      ]
     },
     "execution_count": 257,
     "metadata": {},
     "output_type": "execute_result"
    }
   ],
   "source": [
    "# lets compare predictions against actual class labels\n",
    "check_predictions = np.where(df_results['Actual'] == df_results['Predicted'], True, False)\n",
    "# lets add one more column to the above dataframe \n",
    "df_results['isCorrect']=check_predictions\n",
    "\n",
    "# lets now again first five rows and last five columns (notice the difference)\n",
    "df_results.iloc[5:,-5:].head()\n"
   ]
  },
  {
   "cell_type": "code",
   "execution_count": 258,
   "metadata": {},
   "outputs": [
    {
     "data": {
      "text/html": [
       "<div>\n",
       "<style scoped>\n",
       "    .dataframe tbody tr th:only-of-type {\n",
       "        vertical-align: middle;\n",
       "    }\n",
       "\n",
       "    .dataframe tbody tr th {\n",
       "        vertical-align: top;\n",
       "    }\n",
       "\n",
       "    .dataframe thead th {\n",
       "        text-align: right;\n",
       "    }\n",
       "</style>\n",
       "<table border=\"1\" class=\"dataframe\">\n",
       "  <thead>\n",
       "    <tr style=\"text-align: right;\">\n",
       "      <th></th>\n",
       "      <th>Symbol</th>\n",
       "      <th>Count</th>\n",
       "    </tr>\n",
       "  </thead>\n",
       "  <tbody>\n",
       "    <tr>\n",
       "      <td>0</td>\n",
       "      <td>Arrowhead</td>\n",
       "      <td>239</td>\n",
       "    </tr>\n",
       "    <tr>\n",
       "      <td>1</td>\n",
       "      <td>Arrowhead + Triangle</td>\n",
       "      <td>78</td>\n",
       "    </tr>\n",
       "    <tr>\n",
       "      <td>2</td>\n",
       "      <td>Continuity Label</td>\n",
       "      <td>116</td>\n",
       "    </tr>\n",
       "    <tr>\n",
       "      <td>3</td>\n",
       "      <td>DB&amp;BBV</td>\n",
       "      <td>124</td>\n",
       "    </tr>\n",
       "    <tr>\n",
       "      <td>4</td>\n",
       "      <td>DB&amp;BBV + Valve Check</td>\n",
       "      <td>37</td>\n",
       "    </tr>\n",
       "    <tr>\n",
       "      <td>5</td>\n",
       "      <td>DB&amp;BPV</td>\n",
       "      <td>110</td>\n",
       "    </tr>\n",
       "    <tr>\n",
       "      <td>6</td>\n",
       "      <td>ESDV Valve Ball</td>\n",
       "      <td>65</td>\n",
       "    </tr>\n",
       "    <tr>\n",
       "      <td>7</td>\n",
       "      <td>Flange Joint</td>\n",
       "      <td>45</td>\n",
       "    </tr>\n",
       "    <tr>\n",
       "      <td>8</td>\n",
       "      <td>Flange Single T-Shape</td>\n",
       "      <td>61</td>\n",
       "    </tr>\n",
       "    <tr>\n",
       "      <td>9</td>\n",
       "      <td>Injector Point</td>\n",
       "      <td>43</td>\n",
       "    </tr>\n",
       "    <tr>\n",
       "      <td>10</td>\n",
       "      <td>Reducer</td>\n",
       "      <td>285</td>\n",
       "    </tr>\n",
       "    <tr>\n",
       "      <td>11</td>\n",
       "      <td>Sensor</td>\n",
       "      <td>392</td>\n",
       "    </tr>\n",
       "    <tr>\n",
       "      <td>12</td>\n",
       "      <td>Spectacle Blind</td>\n",
       "      <td>42</td>\n",
       "    </tr>\n",
       "    <tr>\n",
       "      <td>13</td>\n",
       "      <td>Triangle</td>\n",
       "      <td>74</td>\n",
       "    </tr>\n",
       "    <tr>\n",
       "      <td>14</td>\n",
       "      <td>Valve</td>\n",
       "      <td>39</td>\n",
       "    </tr>\n",
       "    <tr>\n",
       "      <td>15</td>\n",
       "      <td>Valve Ball</td>\n",
       "      <td>170</td>\n",
       "    </tr>\n",
       "    <tr>\n",
       "      <td>16</td>\n",
       "      <td>Valve Butterfly</td>\n",
       "      <td>68</td>\n",
       "    </tr>\n",
       "    <tr>\n",
       "      <td>17</td>\n",
       "      <td>Valve Check</td>\n",
       "      <td>123</td>\n",
       "    </tr>\n",
       "    <tr>\n",
       "      <td>18</td>\n",
       "      <td>Valve Plug</td>\n",
       "      <td>86</td>\n",
       "    </tr>\n",
       "  </tbody>\n",
       "</table>\n",
       "</div>"
      ],
      "text/plain": [
       "                   Symbol  Count\n",
       "0               Arrowhead    239\n",
       "1    Arrowhead + Triangle     78\n",
       "2        Continuity Label    116\n",
       "3                  DB&BBV    124\n",
       "4    DB&BBV + Valve Check     37\n",
       "5                  DB&BPV    110\n",
       "6         ESDV Valve Ball     65\n",
       "7            Flange Joint     45\n",
       "8   Flange Single T-Shape     61\n",
       "9          Injector Point     43\n",
       "10                Reducer    285\n",
       "11                 Sensor    392\n",
       "12        Spectacle Blind     42\n",
       "13               Triangle     74\n",
       "14                  Valve     39\n",
       "15             Valve Ball    170\n",
       "16        Valve Butterfly     68\n",
       "17            Valve Check    123\n",
       "18             Valve Plug     86"
      ]
     },
     "execution_count": 258,
     "metadata": {},
     "output_type": "execute_result"
    }
   ],
   "source": [
    "# group by features (pandas ) only correctly classified examples \n",
    "correct_insts = pd.DataFrame(df_results[df_results.isCorrect==True].groupby(['label'])['isCorrect'].count()).reset_index()\n",
    "\n",
    "# change headers \n",
    "correct_insts.columns = ['Symbol','Count']\n",
    "# show dataframe \n",
    "correct_insts"
   ]
  },
  {
   "cell_type": "code",
   "execution_count": 259,
   "metadata": {},
   "outputs": [
    {
     "data": {
      "text/html": [
       "<div>\n",
       "<style scoped>\n",
       "    .dataframe tbody tr th:only-of-type {\n",
       "        vertical-align: middle;\n",
       "    }\n",
       "\n",
       "    .dataframe tbody tr th {\n",
       "        vertical-align: top;\n",
       "    }\n",
       "\n",
       "    .dataframe thead th {\n",
       "        text-align: right;\n",
       "    }\n",
       "</style>\n",
       "<table border=\"1\" class=\"dataframe\">\n",
       "  <thead>\n",
       "    <tr style=\"text-align: right;\">\n",
       "      <th></th>\n",
       "      <th>Symbol</th>\n",
       "      <th>Count</th>\n",
       "    </tr>\n",
       "  </thead>\n",
       "  <tbody>\n",
       "    <tr>\n",
       "      <td>0</td>\n",
       "      <td>Arrowhead</td>\n",
       "      <td>1</td>\n",
       "    </tr>\n",
       "    <tr>\n",
       "      <td>1</td>\n",
       "      <td>Arrowhead + Triangle</td>\n",
       "      <td>5</td>\n",
       "    </tr>\n",
       "    <tr>\n",
       "      <td>2</td>\n",
       "      <td>DB&amp;BBV</td>\n",
       "      <td>3</td>\n",
       "    </tr>\n",
       "    <tr>\n",
       "      <td>3</td>\n",
       "      <td>DB&amp;BBV + Valve Check</td>\n",
       "      <td>2</td>\n",
       "    </tr>\n",
       "    <tr>\n",
       "      <td>4</td>\n",
       "      <td>DB&amp;BPV</td>\n",
       "      <td>3</td>\n",
       "    </tr>\n",
       "    <tr>\n",
       "      <td>5</td>\n",
       "      <td>Flange Joint</td>\n",
       "      <td>1</td>\n",
       "    </tr>\n",
       "    <tr>\n",
       "      <td>6</td>\n",
       "      <td>Valve</td>\n",
       "      <td>1</td>\n",
       "    </tr>\n",
       "    <tr>\n",
       "      <td>7</td>\n",
       "      <td>Valve Ball</td>\n",
       "      <td>3</td>\n",
       "    </tr>\n",
       "    <tr>\n",
       "      <td>8</td>\n",
       "      <td>Valve Butterfly</td>\n",
       "      <td>3</td>\n",
       "    </tr>\n",
       "    <tr>\n",
       "      <td>9</td>\n",
       "      <td>Valve Check</td>\n",
       "      <td>3</td>\n",
       "    </tr>\n",
       "    <tr>\n",
       "      <td>10</td>\n",
       "      <td>Valve Plug</td>\n",
       "      <td>2</td>\n",
       "    </tr>\n",
       "  </tbody>\n",
       "</table>\n",
       "</div>"
      ],
      "text/plain": [
       "                  Symbol  Count\n",
       "0              Arrowhead      1\n",
       "1   Arrowhead + Triangle      5\n",
       "2                 DB&BBV      3\n",
       "3   DB&BBV + Valve Check      2\n",
       "4                 DB&BPV      3\n",
       "5           Flange Joint      1\n",
       "6                  Valve      1\n",
       "7             Valve Ball      3\n",
       "8        Valve Butterfly      3\n",
       "9            Valve Check      3\n",
       "10            Valve Plug      2"
      ]
     },
     "execution_count": 259,
     "metadata": {},
     "output_type": "execute_result"
    }
   ],
   "source": [
    "# lets now groupby only inccorrectly classified examples \n",
    "\n",
    "incorrect_insts = pd.DataFrame(df_results[df_results.isCorrect!=True].groupby(['label'])['isCorrect'].count()).reset_index()\n",
    "\n",
    "# change headers \n",
    "incorrect_insts.columns = ['Symbol','Count']\n",
    "# show dataframe \n",
    "incorrect_insts"
   ]
  },
  {
   "attachments": {},
   "cell_type": "markdown",
   "metadata": {},
   "source": [
    "## Final Word \n",
    "\n",
    "You may also want to view the incorrectly classified examples (as images) as we did above with some of the symbols. This should give you more insights, why these instances were incorrectly classified. \n",
    "\n",
    "Finally, if you want to use streamlit to run your RF model above, see the ***streamlitApp.py*** on the module’s page\n"
   ]
  }
 ],
 "metadata": {
  "kernelspec": {
   "display_name": "Python 3",
   "language": "python",
   "name": "python3"
  },
  "language_info": {
   "codemirror_mode": {
    "name": "ipython",
    "version": 3
   },
   "file_extension": ".py",
   "mimetype": "text/x-python",
   "name": "python",
   "nbconvert_exporter": "python",
   "pygments_lexer": "ipython3",
   "version": "3.7.4"
  }
 },
 "nbformat": 4,
 "nbformat_minor": 2
}
