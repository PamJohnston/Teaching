{
  "cells": [
    {
      "cell_type": "markdown",
      "metadata": {
        "id": "view-in-github",
        "colab_type": "text"
      },
      "source": [
        "<a href=\"https://colab.research.google.com/github/heyad/Teaching/blob/master/BZU/Summer_School_01.ipynb\" target=\"_parent\"><img src=\"https://colab.research.google.com/assets/colab-badge.svg\" alt=\"Open In Colab\"/></a>"
      ]
    },
    {
      "cell_type": "markdown",
      "metadata": {
        "id": "j5H5DrKFhp6k"
      },
      "source": [
        "## Neural Networks\n",
        "\n",
        "Although implementing the Neural Networks from scratch using Python is relatively an easy task, in this tutorial we will used the Keras framework instead to build and evaluate a NN. \n",
        "\n",
        "It is assumed that you have installed Python, Anaconda, and Scikit-Learn, if not, you can refer to Unit 1 labs for further information. Alternatively, you can use Google Colab. \n",
        "\n",
        "\n",
        "Keras is a Deep Learning API that allows you to easily create, train and validate various Deep Learning Models. Full documentation for Keras can be found at https://keras.io/. The framework was built on top of Tensorflow (Google DL framework), and soon became very popular because of it’s ease of use. \n",
        "\n",
        "In order to be able to use Keras, you need to install the 'tensorflow' framework. This can be easily done using the 'pip install command', or you can follow the detailed instruction to install it using Anaconda https://docs.anaconda.com/anaconda/user-guide/tasks/tensorflow/\n",
        "\n",
        "Once installed, you should be able to import keras as follows: \n"
      ]
    },
    {
      "cell_type": "code",
      "execution_count": 1,
      "metadata": {
        "id": "-NBAocBDhp6o"
      },
      "outputs": [],
      "source": [
        "import tensorflow as tf\n",
        "from tensorflow import keras "
      ]
    },
    {
      "cell_type": "markdown",
      "metadata": {
        "id": "SFKtWtgbhp6q"
      },
      "source": [
        "### Fashion Dataset \n",
        "\n",
        "We will use fashion dataset as an example to run throug the implementation of neural networks using keras. This dataset has 70,000 gray scale image. Each of these images is 28 by 28 pixels, and there are 10 different classes in the dataset. \n",
        "\n"
      ]
    },
    {
      "cell_type": "markdown",
      "metadata": {
        "id": "-TFfbPrthp6q"
      },
      "source": [
        "#### Loading and preparing the dataset \n",
        "\n",
        "Keras can be used to load the dataset in a simple way as can be seen below "
      ]
    },
    {
      "cell_type": "code",
      "execution_count": 2,
      "metadata": {
        "colab": {
          "base_uri": "https://localhost:8080/"
        },
        "id": "vodGz6K1hp6q",
        "outputId": "fee3a920-7184-41bd-c018-d066a315a1a3"
      },
      "outputs": [
        {
          "output_type": "stream",
          "name": "stdout",
          "text": [
            "Downloading data from https://storage.googleapis.com/tensorflow/tf-keras-datasets/train-labels-idx1-ubyte.gz\n",
            "32768/29515 [=================================] - 0s 0us/step\n",
            "40960/29515 [=========================================] - 0s 0us/step\n",
            "Downloading data from https://storage.googleapis.com/tensorflow/tf-keras-datasets/train-images-idx3-ubyte.gz\n",
            "26427392/26421880 [==============================] - 0s 0us/step\n",
            "26435584/26421880 [==============================] - 0s 0us/step\n",
            "Downloading data from https://storage.googleapis.com/tensorflow/tf-keras-datasets/t10k-labels-idx1-ubyte.gz\n",
            "16384/5148 [===============================================================================================] - 0s 0us/step\n",
            "Downloading data from https://storage.googleapis.com/tensorflow/tf-keras-datasets/t10k-images-idx3-ubyte.gz\n",
            "4423680/4422102 [==============================] - 0s 0us/step\n",
            "4431872/4422102 [==============================] - 0s 0us/step\n"
          ]
        }
      ],
      "source": [
        "fashion_mnist = keras.datasets.fashion_mnist\n",
        "(X_train_full,y_train_full),(X_test,y_test) = fashion_mnist.load_data()"
      ]
    },
    {
      "cell_type": "markdown",
      "metadata": {
        "id": "9I7VWVmlhp6r"
      },
      "source": [
        "Lets look at the size of the dataset we just loaded. You will notice that the training set has 60,000 images, while the testing set contains 10,000. You can also see that the size of each image is 28 by 28"
      ]
    },
    {
      "cell_type": "code",
      "execution_count": 4,
      "metadata": {
        "colab": {
          "base_uri": "https://localhost:8080/"
        },
        "id": "RqlP_FqOhp6r",
        "outputId": "f127adb4-37ec-41f6-f6fe-81eb1495ec2d"
      },
      "outputs": [
        {
          "output_type": "execute_result",
          "data": {
            "text/plain": [
              "(60000, 28, 28)"
            ]
          },
          "metadata": {},
          "execution_count": 4
        }
      ],
      "source": [
        "X_train_full.shape"
      ]
    },
    {
      "cell_type": "code",
      "execution_count": null,
      "metadata": {
        "id": "ftpui6Xdhp6s",
        "outputId": "18241f2e-b8f4-4fee-a1c7-cb9c63e29a28"
      },
      "outputs": [
        {
          "data": {
            "text/plain": [
              "(10000, 28, 28)"
            ]
          },
          "execution_count": 14,
          "metadata": {},
          "output_type": "execute_result"
        }
      ],
      "source": [
        "X_test.shape"
      ]
    },
    {
      "cell_type": "markdown",
      "metadata": {
        "id": "tMKOAImLhp6u"
      },
      "source": [
        "We can create a validation set, which is a good practise to ensure that our model can generalise well across other unseen examples. \n",
        "\n",
        "**Notice** the code below, why we are deviding by 255.0? Also try to check the size of the validation set now (e.g. using the .shape)"
      ]
    },
    {
      "cell_type": "code",
      "execution_count": 5,
      "metadata": {
        "id": "w0VaASLxhp6u"
      },
      "outputs": [],
      "source": [
        "x_valid, X_train = X_train_full[:5000]/255.0, X_train_full[5000:]/255.0\n",
        "y_valid, y_train = y_train_full[:5000], y_train_full[5000:]"
      ]
    },
    {
      "cell_type": "code",
      "execution_count": 6,
      "metadata": {
        "colab": {
          "base_uri": "https://localhost:8080/"
        },
        "id": "rnY4t-dghp6u",
        "outputId": "4ae40605-1676-4e45-faac-74b4ec36ea0f"
      },
      "outputs": [
        {
          "output_type": "execute_result",
          "data": {
            "text/plain": [
              "(5000, 28, 28)"
            ]
          },
          "metadata": {},
          "execution_count": 6
        }
      ],
      "source": [
        "x_valid.shape"
      ]
    },
    {
      "cell_type": "code",
      "execution_count": 7,
      "metadata": {
        "colab": {
          "base_uri": "https://localhost:8080/"
        },
        "id": "tQjZbiW0hp6v",
        "outputId": "6773b182-91a9-48c8-f02d-6781f20e8e37"
      },
      "outputs": [
        {
          "output_type": "execute_result",
          "data": {
            "text/plain": [
              "(55000, 28, 28)"
            ]
          },
          "metadata": {},
          "execution_count": 7
        }
      ],
      "source": [
        "X_train.shape"
      ]
    },
    {
      "cell_type": "markdown",
      "metadata": {
        "id": "WsMvphhFhp6v"
      },
      "source": [
        "The class names in the dataest are defined as follows:"
      ]
    },
    {
      "cell_type": "code",
      "execution_count": 8,
      "metadata": {
        "id": "RGsrTZBvhp6v"
      },
      "outputs": [],
      "source": [
        "class_names = ['T-shirt/top','Trouser','Pullover','Dress','Coat','Sandal',\n",
        "              'Shirt','Sneaker','Bag','Ankle boot']"
      ]
    },
    {
      "cell_type": "code",
      "execution_count": 9,
      "metadata": {
        "colab": {
          "base_uri": "https://localhost:8080/"
        },
        "id": "-Jh3ADy8hp6w",
        "outputId": "d96e276b-b29c-4699-aedd-5f7c7c69ca26"
      },
      "outputs": [
        {
          "output_type": "stream",
          "name": "stdout",
          "text": [
            "The class of image 0 is Coat\n",
            "The class of image 1 is Coat\n",
            "The class of image 2 is Coat\n",
            "The class of image 3 is Coat\n",
            "The class of image 4 is Coat\n",
            "The class of image 5 is Coat\n",
            "The class of image 6 is Coat\n",
            "The class of image 7 is Coat\n",
            "The class of image 8 is Coat\n",
            "The class of image 9 is Coat\n"
          ]
        }
      ],
      "source": [
        "#check the the class of the first 10 images \n",
        "for i in range(10):\n",
        "    print(f'The class of image {i} is {class_names[y_train[0]]}')"
      ]
    },
    {
      "cell_type": "code",
      "execution_count": 10,
      "metadata": {
        "colab": {
          "base_uri": "https://localhost:8080/",
          "height": 268
        },
        "id": "PLih9jEohp6w",
        "outputId": "ed05d32c-cb70-4bc2-f961-8752be62ab62"
      },
      "outputs": [
        {
          "output_type": "display_data",
          "data": {
            "text/plain": [
              "<Figure size 432x288 with 9 Axes>"
            ],
            "image/png": "[encoded data removed]"
          },
          "metadata": {
            "needs_background": "light"
          }
        }
      ],
      "source": [
        "from matplotlib import pyplot\n",
        "#lets show some of these images \n",
        "for i in range(9):\n",
        "\n",
        "    pyplot.subplot(330 + 1 + i)\n",
        "    pyplot.imshow(X_train[i], cmap=pyplot.get_cmap('gray'))\n",
        "# show the figure\n",
        "pyplot.show()"
      ]
    },
    {
      "cell_type": "code",
      "execution_count": null,
      "metadata": {
        "id": "CNobXmQAhp6x"
      },
      "outputs": [],
      "source": [
        "#pip install matplotlib"
      ]
    },
    {
      "cell_type": "markdown",
      "metadata": {
        "id": "YX2N3q_3hp6x"
      },
      "source": [
        "#### Build Neural Network\n",
        "\n",
        "Note how keras makes building the Neural Network model, easy and self-explanatory "
      ]
    },
    {
      "cell_type": "code",
      "execution_count": 11,
      "metadata": {
        "id": "GFERxmTOhp6x"
      },
      "outputs": [],
      "source": [
        "# create a neural network model using keras\n",
        "model = keras.models.Sequential()\n",
        "\n",
        "# build the first layer, this is the input layer. Note, that flatten converts the 28 by 28 image into 1D array\n",
        "model.add(keras.layers.Flatten(input_shape=[28,28]))\n",
        "\n",
        "# add a hidden layer with 300 neurons \n",
        "model.add(keras.layers.Dense(300,activation='relu'))\n",
        "\n",
        "# add another hidden layer with 100 neurons\n",
        "model.add(keras.layers.Dense(100,activation='relu'))\n",
        "\n",
        "# add output layer (note we have 10 outputs representing 10 classes)\n",
        "model.add(keras.layers.Dense(10,activation='softmax'))"
      ]
    },
    {
      "cell_type": "markdown",
      "metadata": {
        "id": "F4SCh5-9hp6y"
      },
      "source": [
        "\n",
        "OK, lets check how our model looks like, you can simply using the following function: \n"
      ]
    },
    {
      "cell_type": "code",
      "execution_count": null,
      "metadata": {
        "id": "68LXOBYdhp6y",
        "outputId": "ef8192ab-7514-43c1-cb72-209a33053b12"
      },
      "outputs": [
        {
          "name": "stdout",
          "output_type": "stream",
          "text": [
            "Model: \"sequential\"\n",
            "_________________________________________________________________\n",
            "Layer (type)                 Output Shape              Param #   \n",
            "=================================================================\n",
            "flatten (Flatten)            (None, 784)               0         \n",
            "_________________________________________________________________\n",
            "dense (Dense)                (None, 300)               235500    \n",
            "_________________________________________________________________\n",
            "dense_1 (Dense)              (None, 100)               30100     \n",
            "_________________________________________________________________\n",
            "dense_2 (Dense)              (None, 10)                1010      \n",
            "=================================================================\n",
            "Total params: 266,610\n",
            "Trainable params: 266,610\n",
            "Non-trainable params: 0\n",
            "_________________________________________________________________\n"
          ]
        }
      ],
      "source": [
        "model.summary()"
      ]
    },
    {
      "cell_type": "markdown",
      "metadata": {
        "id": "BGlDDJj8hp6z"
      },
      "source": [
        "Recall, we said that the weights are ranomly initialised, you can check the weights using the following function: \n",
        "    "
      ]
    },
    {
      "cell_type": "code",
      "execution_count": 12,
      "metadata": {
        "id": "6qtBt1pUhp6z"
      },
      "outputs": [],
      "source": [
        "weights, biases = model.layers[1].get_weights()"
      ]
    },
    {
      "cell_type": "code",
      "execution_count": 13,
      "metadata": {
        "colab": {
          "base_uri": "https://localhost:8080/"
        },
        "id": "encVPmEFhp6z",
        "outputId": "ce79ba3b-52ff-415a-8e0e-0a0e30caf0bd"
      },
      "outputs": [
        {
          "output_type": "execute_result",
          "data": {
            "text/plain": [
              "array([[ 0.01841118, -0.044853  ,  0.06549786, ...,  0.00157575,\n",
              "         0.06626816, -0.00633664],\n",
              "       [-0.05666095, -0.06593726, -0.02116575, ...,  0.00522018,\n",
              "         0.06134069,  0.05905421],\n",
              "       [-0.05864612, -0.0377139 ,  0.05349076, ...,  0.07425943,\n",
              "        -0.03111647,  0.02073988],\n",
              "       ...,\n",
              "       [-0.06458142, -0.03389933, -0.06765059, ..., -0.01601445,\n",
              "         0.04190137, -0.00789872],\n",
              "       [-0.01455494, -0.06909749,  0.02753956, ..., -0.00549559,\n",
              "        -0.0108056 , -0.00572819],\n",
              "       [-0.06519058, -0.01585934, -0.00584017, ..., -0.01155306,\n",
              "         0.06632975, -0.0437367 ]], dtype=float32)"
            ]
          },
          "metadata": {},
          "execution_count": 13
        }
      ],
      "source": [
        "weights"
      ]
    },
    {
      "cell_type": "code",
      "execution_count": 14,
      "metadata": {
        "colab": {
          "base_uri": "https://localhost:8080/"
        },
        "id": "tyMDpxl2hp6z",
        "outputId": "85dc958b-5666-40dd-f0d2-b970a20ae70e"
      },
      "outputs": [
        {
          "output_type": "execute_result",
          "data": {
            "text/plain": [
              "array([0., 0., 0., 0., 0., 0., 0., 0., 0., 0., 0., 0., 0., 0., 0., 0., 0.,\n",
              "       0., 0., 0., 0., 0., 0., 0., 0., 0., 0., 0., 0., 0., 0., 0., 0., 0.,\n",
              "       0., 0., 0., 0., 0., 0., 0., 0., 0., 0., 0., 0., 0., 0., 0., 0., 0.,\n",
              "       0., 0., 0., 0., 0., 0., 0., 0., 0., 0., 0., 0., 0., 0., 0., 0., 0.,\n",
              "       0., 0., 0., 0., 0., 0., 0., 0., 0., 0., 0., 0., 0., 0., 0., 0., 0.,\n",
              "       0., 0., 0., 0., 0., 0., 0., 0., 0., 0., 0., 0., 0., 0., 0., 0., 0.,\n",
              "       0., 0., 0., 0., 0., 0., 0., 0., 0., 0., 0., 0., 0., 0., 0., 0., 0.,\n",
              "       0., 0., 0., 0., 0., 0., 0., 0., 0., 0., 0., 0., 0., 0., 0., 0., 0.,\n",
              "       0., 0., 0., 0., 0., 0., 0., 0., 0., 0., 0., 0., 0., 0., 0., 0., 0.,\n",
              "       0., 0., 0., 0., 0., 0., 0., 0., 0., 0., 0., 0., 0., 0., 0., 0., 0.,\n",
              "       0., 0., 0., 0., 0., 0., 0., 0., 0., 0., 0., 0., 0., 0., 0., 0., 0.,\n",
              "       0., 0., 0., 0., 0., 0., 0., 0., 0., 0., 0., 0., 0., 0., 0., 0., 0.,\n",
              "       0., 0., 0., 0., 0., 0., 0., 0., 0., 0., 0., 0., 0., 0., 0., 0., 0.,\n",
              "       0., 0., 0., 0., 0., 0., 0., 0., 0., 0., 0., 0., 0., 0., 0., 0., 0.,\n",
              "       0., 0., 0., 0., 0., 0., 0., 0., 0., 0., 0., 0., 0., 0., 0., 0., 0.,\n",
              "       0., 0., 0., 0., 0., 0., 0., 0., 0., 0., 0., 0., 0., 0., 0., 0., 0.,\n",
              "       0., 0., 0., 0., 0., 0., 0., 0., 0., 0., 0., 0., 0., 0., 0., 0., 0.,\n",
              "       0., 0., 0., 0., 0., 0., 0., 0., 0., 0., 0.], dtype=float32)"
            ]
          },
          "metadata": {},
          "execution_count": 14
        }
      ],
      "source": [
        "biases"
      ]
    },
    {
      "cell_type": "markdown",
      "metadata": {
        "id": "vq9peoHMhp60"
      },
      "source": [
        "#### Compiling the Model"
      ]
    },
    {
      "cell_type": "code",
      "execution_count": 15,
      "metadata": {
        "id": "R48cnFmThp60"
      },
      "outputs": [],
      "source": [
        "model.compile(loss = 'sparse_categorical_crossentropy',\n",
        "             optimizer='sgd',\n",
        "             metrics='accuracy')"
      ]
    },
    {
      "cell_type": "markdown",
      "metadata": {
        "id": "PC0xEldthp60"
      },
      "source": [
        "Notice that to start the training (fitting the model), we pass the *X_train*, and the class labels (*y_train*), as well as the number of epochs (discussed in the class), and here we use the optimizer 'sgd', which is the Stochastic Gradient Descent, and finally, we set the evaluation metric to be the accuracy (number of correctly classified examples)"
      ]
    },
    {
      "cell_type": "code",
      "execution_count": 16,
      "metadata": {
        "colab": {
          "base_uri": "https://localhost:8080/"
        },
        "id": "cw6JOCd-hp60",
        "outputId": "527d0a3a-4538-451a-98d3-d3f5cf471335"
      },
      "outputs": [
        {
          "output_type": "stream",
          "name": "stdout",
          "text": [
            "Epoch 1/30\n",
            "1719/1719 [==============================] - 6s 3ms/step - loss: 0.7296 - accuracy: 0.7646 - val_loss: 0.5152 - val_accuracy: 0.8254\n",
            "Epoch 2/30\n",
            "1719/1719 [==============================] - 5s 3ms/step - loss: 0.4859 - accuracy: 0.8317 - val_loss: 0.4522 - val_accuracy: 0.8492\n",
            "Epoch 3/30\n",
            "1719/1719 [==============================] - 6s 4ms/step - loss: 0.4409 - accuracy: 0.8460 - val_loss: 0.4125 - val_accuracy: 0.8616\n",
            "Epoch 4/30\n",
            "1719/1719 [==============================] - 5s 3ms/step - loss: 0.4135 - accuracy: 0.8549 - val_loss: 0.4149 - val_accuracy: 0.8592\n",
            "Epoch 5/30\n",
            "1719/1719 [==============================] - 5s 3ms/step - loss: 0.3939 - accuracy: 0.8614 - val_loss: 0.3818 - val_accuracy: 0.8682\n",
            "Epoch 6/30\n",
            "1719/1719 [==============================] - 6s 3ms/step - loss: 0.3779 - accuracy: 0.8665 - val_loss: 0.3695 - val_accuracy: 0.8736\n",
            "Epoch 7/30\n",
            "1719/1719 [==============================] - 5s 3ms/step - loss: 0.3661 - accuracy: 0.8709 - val_loss: 0.3675 - val_accuracy: 0.8766\n",
            "Epoch 8/30\n",
            "1719/1719 [==============================] - 7s 4ms/step - loss: 0.3539 - accuracy: 0.8745 - val_loss: 0.3586 - val_accuracy: 0.8750\n",
            "Epoch 9/30\n",
            "1719/1719 [==============================] - 5s 3ms/step - loss: 0.3435 - accuracy: 0.8780 - val_loss: 0.3449 - val_accuracy: 0.8800\n",
            "Epoch 10/30\n",
            "1719/1719 [==============================] - 5s 3ms/step - loss: 0.3348 - accuracy: 0.8803 - val_loss: 0.3484 - val_accuracy: 0.8794\n",
            "Epoch 11/30\n",
            "1719/1719 [==============================] - 5s 3ms/step - loss: 0.3268 - accuracy: 0.8820 - val_loss: 0.3387 - val_accuracy: 0.8854\n",
            "Epoch 12/30\n",
            "1719/1719 [==============================] - 5s 3ms/step - loss: 0.3176 - accuracy: 0.8867 - val_loss: 0.3398 - val_accuracy: 0.8800\n",
            "Epoch 13/30\n",
            "1719/1719 [==============================] - 5s 3ms/step - loss: 0.3115 - accuracy: 0.8884 - val_loss: 0.3418 - val_accuracy: 0.8836\n",
            "Epoch 14/30\n",
            "1719/1719 [==============================] - 5s 3ms/step - loss: 0.3054 - accuracy: 0.8903 - val_loss: 0.3345 - val_accuracy: 0.8788\n",
            "Epoch 15/30\n",
            "1719/1719 [==============================] - 5s 3ms/step - loss: 0.2978 - accuracy: 0.8935 - val_loss: 0.3207 - val_accuracy: 0.8846\n",
            "Epoch 16/30\n",
            "1719/1719 [==============================] - 5s 3ms/step - loss: 0.2908 - accuracy: 0.8954 - val_loss: 0.3298 - val_accuracy: 0.8816\n",
            "Epoch 17/30\n",
            "1719/1719 [==============================] - 5s 3ms/step - loss: 0.2861 - accuracy: 0.8972 - val_loss: 0.3191 - val_accuracy: 0.8860\n",
            "Epoch 18/30\n",
            "1719/1719 [==============================] - 5s 3ms/step - loss: 0.2809 - accuracy: 0.8973 - val_loss: 0.3319 - val_accuracy: 0.8806\n",
            "Epoch 19/30\n",
            "1719/1719 [==============================] - 5s 3ms/step - loss: 0.2750 - accuracy: 0.9007 - val_loss: 0.3191 - val_accuracy: 0.8842\n",
            "Epoch 20/30\n",
            "1719/1719 [==============================] - 6s 3ms/step - loss: 0.2698 - accuracy: 0.9025 - val_loss: 0.3218 - val_accuracy: 0.8856\n",
            "Epoch 21/30\n",
            "1719/1719 [==============================] - 5s 3ms/step - loss: 0.2652 - accuracy: 0.9038 - val_loss: 0.3125 - val_accuracy: 0.8892\n",
            "Epoch 22/30\n",
            "1719/1719 [==============================] - 5s 3ms/step - loss: 0.2603 - accuracy: 0.9068 - val_loss: 0.3098 - val_accuracy: 0.8884\n",
            "Epoch 23/30\n",
            "1719/1719 [==============================] - 5s 3ms/step - loss: 0.2549 - accuracy: 0.9085 - val_loss: 0.3066 - val_accuracy: 0.8892\n",
            "Epoch 24/30\n",
            "1719/1719 [==============================] - 5s 3ms/step - loss: 0.2517 - accuracy: 0.9083 - val_loss: 0.3147 - val_accuracy: 0.8860\n",
            "Epoch 25/30\n",
            "1719/1719 [==============================] - 5s 3ms/step - loss: 0.2466 - accuracy: 0.9121 - val_loss: 0.3024 - val_accuracy: 0.8930\n",
            "Epoch 26/30\n",
            "1719/1719 [==============================] - 5s 3ms/step - loss: 0.2429 - accuracy: 0.9122 - val_loss: 0.2974 - val_accuracy: 0.8944\n",
            "Epoch 27/30\n",
            "1719/1719 [==============================] - 6s 3ms/step - loss: 0.2385 - accuracy: 0.9138 - val_loss: 0.2963 - val_accuracy: 0.8956\n",
            "Epoch 28/30\n",
            "1719/1719 [==============================] - 5s 3ms/step - loss: 0.2348 - accuracy: 0.9149 - val_loss: 0.2955 - val_accuracy: 0.8920\n",
            "Epoch 29/30\n",
            "1719/1719 [==============================] - 6s 3ms/step - loss: 0.2303 - accuracy: 0.9169 - val_loss: 0.3091 - val_accuracy: 0.8872\n",
            "Epoch 30/30\n",
            "1719/1719 [==============================] - 6s 4ms/step - loss: 0.2273 - accuracy: 0.9180 - val_loss: 0.2884 - val_accuracy: 0.8960\n"
          ]
        }
      ],
      "source": [
        "#training\n",
        "history = model.fit(X_train, y_train, epochs=30,\n",
        "                   validation_data=(x_valid, y_valid))"
      ]
    },
    {
      "cell_type": "markdown",
      "metadata": {
        "id": "IPL6J3bNhp60"
      },
      "source": [
        "Another thing to note is that we pass the validation set. You will notice that keras at each epoch during the training process display the number of instances processed, the mean training time per instance, and the loss and accuracy. A good model should show a decreasing loss value over time as well as increase in accuracy. "
      ]
    },
    {
      "cell_type": "markdown",
      "metadata": {
        "id": "OVw7oqdThp61"
      },
      "source": [
        "The fit() function returns a History object that contains the training parameters (history.params), the list of epochs it went through (history.epoch), and a history dictionary (history.history) containing the loss and extra metrics. This is particularly useful to display the loss plots, and assess if the model is overfitting or not as can be seen below: "
      ]
    },
    {
      "cell_type": "code",
      "execution_count": 17,
      "metadata": {
        "id": "vm49IMsbhp61"
      },
      "outputs": [],
      "source": [
        "import pandas as pd\n",
        "import matplotlib.pyplot as plt"
      ]
    },
    {
      "cell_type": "code",
      "execution_count": 18,
      "metadata": {
        "colab": {
          "base_uri": "https://localhost:8080/",
          "height": 487
        },
        "id": "Bb38uSnhhp61",
        "outputId": "313b9126-575e-431e-fec5-6753ab8a6442"
      },
      "outputs": [
        {
          "output_type": "display_data",
          "data": {
            "text/plain": [
              "<Figure size 864x576 with 1 Axes>"
            ],
            "image/png": "[encoded data removed]"
          },
          "metadata": {
            "needs_background": "light"
          }
        }
      ],
      "source": [
        "pd.DataFrame(history.history).plot(figsize=(12,8))\n",
        "plt.grid(True)\n",
        "plt.gca().set_ylim(0,1) # set the range between 0 to 1\n",
        "plt.show()"
      ]
    },
    {
      "cell_type": "markdown",
      "metadata": {
        "id": "7_W4qngRhp61"
      },
      "source": [
        "Have a closer look at the training and validation accuracy as well as training and validation losses. These values over the various epochs tell you how stable your model is"
      ]
    },
    {
      "cell_type": "markdown",
      "metadata": {
        "id": "AQPUkkRchp62"
      },
      "source": [
        "#### Testing your Model\n",
        "\n",
        "Although the model seems to be stable and the results are relatively good, there are different ways to improve these results: \n",
        "\n",
        "* Do some hyperparamter tunning (e.g. check the learning rate)\n",
        "* You may change the number of layers \n",
        "* Change the number of neurons in each layer \n",
        "* Change the batch size, this can be set in the fit() method using the parameter batch_size argument (notice that the default value is 32)\n",
        "* You can also try different optimisers other than sgd, one very popular optimiser is the adam optimiser\n",
        "* Collect more data, \n",
        "* And other methods \n",
        "\n",
        "You may try to apply some changes and re-fit your model. However, for now, we will assume that we are happy with this training results. The following step in building your first neural network, is to test the model using the testing set. This is very important step, and shows how can your model generalise across other unseen examples (images in this case). This step can be easily done using keras as follows:"
      ]
    },
    {
      "cell_type": "code",
      "execution_count": null,
      "metadata": {
        "id": "kK75eTsChp62",
        "outputId": "f4a765db-e9c8-44ac-d4ad-9645a34bde96"
      },
      "outputs": [
        {
          "name": "stdout",
          "output_type": "stream",
          "text": [
            "313/313 [==============================] - 0s 1ms/step - loss: 54.4951 - accuracy: 0.8603\n"
          ]
        }
      ],
      "source": [
        "# the function below returns accuracy and loss values of the model\n",
        "results = model.evaluate(X_test,y_test)"
      ]
    },
    {
      "cell_type": "code",
      "execution_count": null,
      "metadata": {
        "id": "KgPaqoZphp62",
        "outputId": "cc748aa4-ffd8-4c19-fb05-a824b75eae9e"
      },
      "outputs": [
        {
          "name": "stdout",
          "output_type": "stream",
          "text": [
            "Accuracy of the Neural Network is 86.0%\n"
          ]
        }
      ],
      "source": [
        "print(f'Accuracy of the Neural Network is {round(results[1],2)*100}%')"
      ]
    },
    {
      "cell_type": "markdown",
      "metadata": {
        "id": "MGORky8Qhp62"
      },
      "source": [
        "Now, you can also make predictions using the resulting model as follows: "
      ]
    },
    {
      "cell_type": "code",
      "execution_count": null,
      "metadata": {
        "id": "ILvhIfukhp62",
        "outputId": "ccc81e74-f6ce-40a4-e89c-30a3d7a1c290"
      },
      "outputs": [
        {
          "data": {
            "text/plain": [
              "array([[0., 0., 0., 0., 0., 0., 0., 0., 0., 1.],\n",
              "       [0., 0., 1., 0., 0., 0., 0., 0., 0., 0.],\n",
              "       [0., 1., 0., 0., 0., 0., 0., 0., 0., 0.]], dtype=float32)"
            ]
          },
          "execution_count": 40,
          "metadata": {},
          "output_type": "execute_result"
        }
      ],
      "source": [
        "# consider the first three imgaes in the testing set\n",
        "testing_images = X_test[:3]\n",
        "\n",
        "# use predict to classify the images above\n",
        "y_prob = model.predict(testing_images)\n",
        "y_prob.round(2)"
      ]
    },
    {
      "cell_type": "markdown",
      "metadata": {
        "id": "qdxOgxuuhp62"
      },
      "source": [
        "If you look at the array above, you will notice that for each image the model estimates the probability per class, from class 0 to 9 (recall, we have 10 different classes in our dataset):\n",
        "\n",
        "* The model estimates that the first image in the testing_images is of class 9\n",
        "* Similarly, the second image is of class 2 and so on \n",
        "\n",
        "Instead, and if you only want the class with the highest estimated probability, then you can use the predict_classes() method as follows:"
      ]
    },
    {
      "cell_type": "code",
      "execution_count": null,
      "metadata": {
        "id": "l-eO4kkbhp63",
        "outputId": "b75bf8b5-3e97-45ec-cc1f-6f213e954900"
      },
      "outputs": [
        {
          "data": {
            "text/plain": [
              "array([9, 2, 1])"
            ]
          },
          "execution_count": 43,
          "metadata": {},
          "output_type": "execute_result"
        }
      ],
      "source": [
        "import numpy as np\n",
        "y_pred = np.argmax(model.predict(testing_images), axis=-1)\n",
        "y_pred"
      ]
    },
    {
      "cell_type": "code",
      "execution_count": null,
      "metadata": {
        "id": "Z8Wfu-_Nhp63",
        "outputId": "e903ce0c-38fd-4abe-b6ac-35ca21b7a5d4"
      },
      "outputs": [
        {
          "name": "stdout",
          "output_type": "stream",
          "text": [
            "The class name of 9 is Ankle boot\n",
            "The class name of 2 is Pullover\n",
            "The class name of 1 is Trouser\n"
          ]
        }
      ],
      "source": [
        "# Check the actual class names of the predicted test imgaes \n",
        "for i in range (len(testing_images)):\n",
        "    print (f'The class name of {y_pred[i]} is {class_names[y_pred[i]]}')"
      ]
    },
    {
      "cell_type": "code",
      "execution_count": null,
      "metadata": {
        "id": "OxyimG-4hp63",
        "outputId": "8b031048-3c2d-42d0-e7b9-2d1434795fb8"
      },
      "outputs": [
        {
          "data": {
            "text/plain": [
              "<matplotlib.image.AxesImage at 0x7f2e76d04ac0>"
            ]
          },
          "execution_count": 50,
          "metadata": {},
          "output_type": "execute_result"
        },
        {
          "data": {
            "image/png": "[encoded data removed]",
            "text/plain": [
              "<Figure size 432x288 with 1 Axes>"
            ]
          },
          "metadata": {
            "needs_background": "light"
          },
          "output_type": "display_data"
        }
      ],
      "source": [
        "# You can further verify this by visualising these testing images \n",
        "pyplot.imshow(testing_images[0], cmap=pyplot.get_cmap('gray'))"
      ]
    },
    {
      "cell_type": "code",
      "execution_count": null,
      "metadata": {
        "id": "7TkG4bHUhp63",
        "outputId": "8a9f6555-1790-43bd-90ef-da7caace04ee"
      },
      "outputs": [
        {
          "data": {
            "text/plain": [
              "<matplotlib.image.AxesImage at 0x7f2e76ca4910>"
            ]
          },
          "execution_count": 51,
          "metadata": {},
          "output_type": "execute_result"
        },
        {
          "data": {
            "image/png": "[encoded data removed]",
            "text/plain": [
              "<Figure size 432x288 with 1 Axes>"
            ]
          },
          "metadata": {
            "needs_background": "light"
          },
          "output_type": "display_data"
        }
      ],
      "source": [
        "pyplot.imshow(testing_images[1], cmap=pyplot.get_cmap('gray'))"
      ]
    },
    {
      "cell_type": "code",
      "execution_count": null,
      "metadata": {
        "id": "BTRskTF-hp63",
        "outputId": "5fb038d6-8d54-4be8-da41-d5f74af1aa56"
      },
      "outputs": [
        {
          "data": {
            "text/plain": [
              "<matplotlib.image.AxesImage at 0x7f2e76dc7a30>"
            ]
          },
          "execution_count": 52,
          "metadata": {},
          "output_type": "execute_result"
        },
        {
          "data": {
            "image/png": "[encoded data removed]",
            "text/plain": [
              "<Figure size 432x288 with 1 Axes>"
            ]
          },
          "metadata": {
            "needs_background": "light"
          },
          "output_type": "display_data"
        }
      ],
      "source": [
        "pyplot.imshow(testing_images[2], cmap=pyplot.get_cmap('gray'))"
      ]
    },
    {
      "cell_type": "code",
      "execution_count": null,
      "metadata": {
        "id": "gO3xPfCFhp64"
      },
      "outputs": [],
      "source": [
        ""
      ]
    }
  ],
  "metadata": {
    "kernelspec": {
      "display_name": "Python 3 (ipykernel)",
      "language": "python",
      "name": "python3"
    },
    "language_info": {
      "codemirror_mode": {
        "name": "ipython",
        "version": 3
      },
      "file_extension": ".py",
      "mimetype": "text/x-python",
      "name": "python",
      "nbconvert_exporter": "python",
      "pygments_lexer": "ipython3",
      "version": "3.9.7"
    },
    "colab": {
      "name": "Summer-School-01.ipynb",
      "provenance": [],
      "include_colab_link": true
    }
  },
  "nbformat": 4,
  "nbformat_minor": 0
}